{
 "cells": [
  {
   "cell_type": "code",
   "execution_count": 1,
   "id": "isolated-chambers",
   "metadata": {},
   "outputs": [],
   "source": [
    "import numpy as np\n",
    "import pandas as pd\n",
    "from sklearn.linear_model import LinearRegression\n",
    "import sklearn.metrics\n",
    "from sklearn.model_selection import train_test_split\n",
    "from sklearn.metrics import accuracy_score, recall_score, precision_score, f1_score\n",
    "import matplotlib.pyplot as plt\n",
    "import seaborn as sns\n",
    "from scipy.stats import pearsonr"
   ]
  },
  {
   "cell_type": "code",
   "execution_count": 2,
   "id": "growing-season",
   "metadata": {},
   "outputs": [
    {
     "name": "stdout",
     "output_type": "stream",
     "text": [
      "/home/kenji/Projects/BasicProjects/LinReg_StudentSuccess\n"
     ]
    }
   ],
   "source": [
    "%cd /home/kenji/Projects/BasicProjects/LinReg_StudentSuccess"
   ]
  },
  {
   "cell_type": "code",
   "execution_count": 3,
   "id": "underlying-puppy",
   "metadata": {},
   "outputs": [],
   "source": [
    "#Import Data\n",
    "data = pd.read_csv('Data/student-mat.csv',sep=';')"
   ]
  },
  {
   "cell_type": "code",
   "execution_count": 4,
   "id": "muslim-participation",
   "metadata": {},
   "outputs": [
    {
     "data": {
      "text/html": [
       "<div>\n",
       "<style scoped>\n",
       "    .dataframe tbody tr th:only-of-type {\n",
       "        vertical-align: middle;\n",
       "    }\n",
       "\n",
       "    .dataframe tbody tr th {\n",
       "        vertical-align: top;\n",
       "    }\n",
       "\n",
       "    .dataframe thead th {\n",
       "        text-align: right;\n",
       "    }\n",
       "</style>\n",
       "<table border=\"1\" class=\"dataframe\">\n",
       "  <thead>\n",
       "    <tr style=\"text-align: right;\">\n",
       "      <th></th>\n",
       "      <th>school</th>\n",
       "      <th>sex</th>\n",
       "      <th>age</th>\n",
       "      <th>address</th>\n",
       "      <th>famsize</th>\n",
       "      <th>Pstatus</th>\n",
       "      <th>Medu</th>\n",
       "      <th>Fedu</th>\n",
       "      <th>Mjob</th>\n",
       "      <th>Fjob</th>\n",
       "      <th>...</th>\n",
       "      <th>famrel</th>\n",
       "      <th>freetime</th>\n",
       "      <th>goout</th>\n",
       "      <th>Dalc</th>\n",
       "      <th>Walc</th>\n",
       "      <th>health</th>\n",
       "      <th>absences</th>\n",
       "      <th>G1</th>\n",
       "      <th>G2</th>\n",
       "      <th>G3</th>\n",
       "    </tr>\n",
       "  </thead>\n",
       "  <tbody>\n",
       "    <tr>\n",
       "      <th>0</th>\n",
       "      <td>GP</td>\n",
       "      <td>F</td>\n",
       "      <td>18</td>\n",
       "      <td>U</td>\n",
       "      <td>GT3</td>\n",
       "      <td>A</td>\n",
       "      <td>4</td>\n",
       "      <td>4</td>\n",
       "      <td>at_home</td>\n",
       "      <td>teacher</td>\n",
       "      <td>...</td>\n",
       "      <td>4</td>\n",
       "      <td>3</td>\n",
       "      <td>4</td>\n",
       "      <td>1</td>\n",
       "      <td>1</td>\n",
       "      <td>3</td>\n",
       "      <td>6</td>\n",
       "      <td>5</td>\n",
       "      <td>6</td>\n",
       "      <td>6</td>\n",
       "    </tr>\n",
       "    <tr>\n",
       "      <th>1</th>\n",
       "      <td>GP</td>\n",
       "      <td>F</td>\n",
       "      <td>17</td>\n",
       "      <td>U</td>\n",
       "      <td>GT3</td>\n",
       "      <td>T</td>\n",
       "      <td>1</td>\n",
       "      <td>1</td>\n",
       "      <td>at_home</td>\n",
       "      <td>other</td>\n",
       "      <td>...</td>\n",
       "      <td>5</td>\n",
       "      <td>3</td>\n",
       "      <td>3</td>\n",
       "      <td>1</td>\n",
       "      <td>1</td>\n",
       "      <td>3</td>\n",
       "      <td>4</td>\n",
       "      <td>5</td>\n",
       "      <td>5</td>\n",
       "      <td>6</td>\n",
       "    </tr>\n",
       "    <tr>\n",
       "      <th>2</th>\n",
       "      <td>GP</td>\n",
       "      <td>F</td>\n",
       "      <td>15</td>\n",
       "      <td>U</td>\n",
       "      <td>LE3</td>\n",
       "      <td>T</td>\n",
       "      <td>1</td>\n",
       "      <td>1</td>\n",
       "      <td>at_home</td>\n",
       "      <td>other</td>\n",
       "      <td>...</td>\n",
       "      <td>4</td>\n",
       "      <td>3</td>\n",
       "      <td>2</td>\n",
       "      <td>2</td>\n",
       "      <td>3</td>\n",
       "      <td>3</td>\n",
       "      <td>10</td>\n",
       "      <td>7</td>\n",
       "      <td>8</td>\n",
       "      <td>10</td>\n",
       "    </tr>\n",
       "    <tr>\n",
       "      <th>3</th>\n",
       "      <td>GP</td>\n",
       "      <td>F</td>\n",
       "      <td>15</td>\n",
       "      <td>U</td>\n",
       "      <td>GT3</td>\n",
       "      <td>T</td>\n",
       "      <td>4</td>\n",
       "      <td>2</td>\n",
       "      <td>health</td>\n",
       "      <td>services</td>\n",
       "      <td>...</td>\n",
       "      <td>3</td>\n",
       "      <td>2</td>\n",
       "      <td>2</td>\n",
       "      <td>1</td>\n",
       "      <td>1</td>\n",
       "      <td>5</td>\n",
       "      <td>2</td>\n",
       "      <td>15</td>\n",
       "      <td>14</td>\n",
       "      <td>15</td>\n",
       "    </tr>\n",
       "    <tr>\n",
       "      <th>4</th>\n",
       "      <td>GP</td>\n",
       "      <td>F</td>\n",
       "      <td>16</td>\n",
       "      <td>U</td>\n",
       "      <td>GT3</td>\n",
       "      <td>T</td>\n",
       "      <td>3</td>\n",
       "      <td>3</td>\n",
       "      <td>other</td>\n",
       "      <td>other</td>\n",
       "      <td>...</td>\n",
       "      <td>4</td>\n",
       "      <td>3</td>\n",
       "      <td>2</td>\n",
       "      <td>1</td>\n",
       "      <td>2</td>\n",
       "      <td>5</td>\n",
       "      <td>4</td>\n",
       "      <td>6</td>\n",
       "      <td>10</td>\n",
       "      <td>10</td>\n",
       "    </tr>\n",
       "  </tbody>\n",
       "</table>\n",
       "<p>5 rows × 33 columns</p>\n",
       "</div>"
      ],
      "text/plain": [
       "  school sex  age address famsize Pstatus  Medu  Fedu     Mjob      Fjob  ...  \\\n",
       "0     GP   F   18       U     GT3       A     4     4  at_home   teacher  ...   \n",
       "1     GP   F   17       U     GT3       T     1     1  at_home     other  ...   \n",
       "2     GP   F   15       U     LE3       T     1     1  at_home     other  ...   \n",
       "3     GP   F   15       U     GT3       T     4     2   health  services  ...   \n",
       "4     GP   F   16       U     GT3       T     3     3    other     other  ...   \n",
       "\n",
       "  famrel freetime  goout  Dalc  Walc health absences  G1  G2  G3  \n",
       "0      4        3      4     1     1      3        6   5   6   6  \n",
       "1      5        3      3     1     1      3        4   5   5   6  \n",
       "2      4        3      2     2     3      3       10   7   8  10  \n",
       "3      3        2      2     1     1      5        2  15  14  15  \n",
       "4      4        3      2     1     2      5        4   6  10  10  \n",
       "\n",
       "[5 rows x 33 columns]"
      ]
     },
     "execution_count": 4,
     "metadata": {},
     "output_type": "execute_result"
    }
   ],
   "source": [
    "#Examine Data\n",
    "data.head()"
   ]
  },
  {
   "cell_type": "code",
   "execution_count": 5,
   "id": "behavioral-titanium",
   "metadata": {},
   "outputs": [
    {
     "name": "stdout",
     "output_type": "stream",
     "text": [
      "<class 'pandas.core.frame.DataFrame'>\n",
      "RangeIndex: 395 entries, 0 to 394\n",
      "Data columns (total 33 columns):\n",
      " #   Column      Non-Null Count  Dtype \n",
      "---  ------      --------------  ----- \n",
      " 0   school      395 non-null    object\n",
      " 1   sex         395 non-null    object\n",
      " 2   age         395 non-null    int64 \n",
      " 3   address     395 non-null    object\n",
      " 4   famsize     395 non-null    object\n",
      " 5   Pstatus     395 non-null    object\n",
      " 6   Medu        395 non-null    int64 \n",
      " 7   Fedu        395 non-null    int64 \n",
      " 8   Mjob        395 non-null    object\n",
      " 9   Fjob        395 non-null    object\n",
      " 10  reason      395 non-null    object\n",
      " 11  guardian    395 non-null    object\n",
      " 12  traveltime  395 non-null    int64 \n",
      " 13  studytime   395 non-null    int64 \n",
      " 14  failures    395 non-null    int64 \n",
      " 15  schoolsup   395 non-null    object\n",
      " 16  famsup      395 non-null    object\n",
      " 17  paid        395 non-null    object\n",
      " 18  activities  395 non-null    object\n",
      " 19  nursery     395 non-null    object\n",
      " 20  higher      395 non-null    object\n",
      " 21  internet    395 non-null    object\n",
      " 22  romantic    395 non-null    object\n",
      " 23  famrel      395 non-null    int64 \n",
      " 24  freetime    395 non-null    int64 \n",
      " 25  goout       395 non-null    int64 \n",
      " 26  Dalc        395 non-null    int64 \n",
      " 27  Walc        395 non-null    int64 \n",
      " 28  health      395 non-null    int64 \n",
      " 29  absences    395 non-null    int64 \n",
      " 30  G1          395 non-null    int64 \n",
      " 31  G2          395 non-null    int64 \n",
      " 32  G3          395 non-null    int64 \n",
      "dtypes: int64(16), object(17)\n",
      "memory usage: 102.0+ KB\n"
     ]
    }
   ],
   "source": [
    "data.info()"
   ]
  },
  {
   "cell_type": "code",
   "execution_count": 6,
   "id": "rolled-drilling",
   "metadata": {},
   "outputs": [
    {
     "name": "stdout",
     "output_type": "stream",
     "text": [
      "Nothing Missing\n"
     ]
    }
   ],
   "source": [
    "#Missing Data? \n",
    "def missing_data():\n",
    "    for i in data.columns:\n",
    "        if data[i].isnull().sum() > 0:\n",
    "            print(i)\n",
    "            print(data[i].isnull().sum())\n",
    "        else:\n",
    "            return 'Nothing Missing'\n",
    "print(missing_data())"
   ]
  },
  {
   "cell_type": "code",
   "execution_count": 7,
   "id": "cloudy-dating",
   "metadata": {},
   "outputs": [],
   "source": [
    "#for i in data.columns:\n",
    "#    print(i)\n",
    "#    print(data[i].value_counts(dropna=False))"
   ]
  },
  {
   "cell_type": "code",
   "execution_count": 8,
   "id": "unauthorized-reserve",
   "metadata": {},
   "outputs": [
    {
     "name": "stdout",
     "output_type": "stream",
     "text": [
      "              age        Medu        Fedu  traveltime   studytime    failures  \\\n",
      "count  395.000000  395.000000  395.000000  395.000000  395.000000  395.000000   \n",
      "mean    16.696203    2.749367    2.521519    1.448101    2.035443    0.334177   \n",
      "std      1.276043    1.094735    1.088201    0.697505    0.839240    0.743651   \n",
      "min     15.000000    0.000000    0.000000    1.000000    1.000000    0.000000   \n",
      "25%     16.000000    2.000000    2.000000    1.000000    1.000000    0.000000   \n",
      "50%     17.000000    3.000000    2.000000    1.000000    2.000000    0.000000   \n",
      "75%     18.000000    4.000000    3.000000    2.000000    2.000000    0.000000   \n",
      "max     22.000000    4.000000    4.000000    4.000000    4.000000    3.000000   \n",
      "\n",
      "           famrel    freetime       goout        Dalc        Walc      health  \\\n",
      "count  395.000000  395.000000  395.000000  395.000000  395.000000  395.000000   \n",
      "mean     3.944304    3.235443    3.108861    1.481013    2.291139    3.554430   \n",
      "std      0.896659    0.998862    1.113278    0.890741    1.287897    1.390303   \n",
      "min      1.000000    1.000000    1.000000    1.000000    1.000000    1.000000   \n",
      "25%      4.000000    3.000000    2.000000    1.000000    1.000000    3.000000   \n",
      "50%      4.000000    3.000000    3.000000    1.000000    2.000000    4.000000   \n",
      "75%      5.000000    4.000000    4.000000    2.000000    3.000000    5.000000   \n",
      "max      5.000000    5.000000    5.000000    5.000000    5.000000    5.000000   \n",
      "\n",
      "         absences          G1          G2          G3  \n",
      "count  395.000000  395.000000  395.000000  395.000000  \n",
      "mean     5.708861   10.908861   10.713924   10.415190  \n",
      "std      8.003096    3.319195    3.761505    4.581443  \n",
      "min      0.000000    3.000000    0.000000    0.000000  \n",
      "25%      0.000000    8.000000    9.000000    8.000000  \n",
      "50%      4.000000   11.000000   11.000000   11.000000  \n",
      "75%      8.000000   13.000000   13.000000   14.000000  \n",
      "max     75.000000   19.000000   19.000000   20.000000  \n"
     ]
    }
   ],
   "source": [
    "#Initial Summary Statistics\n",
    "print(data.describe())"
   ]
  },
  {
   "cell_type": "code",
   "execution_count": 9,
   "id": "instrumental-wrong",
   "metadata": {},
   "outputs": [],
   "source": [
    "#EDA: Feature Importance/Selection\n",
    "# Convariance: Strength of Linear relationships"
   ]
  },
  {
   "cell_type": "code",
   "execution_count": 11,
   "id": "looking-branch",
   "metadata": {},
   "outputs": [],
   "source": [
    "target = 'G3'"
   ]
  },
  {
   "cell_type": "code",
   "execution_count": 12,
   "id": "human-momentum",
   "metadata": {},
   "outputs": [
    {
     "name": "stdout",
     "output_type": "stream",
     "text": [
      "age\n",
      "-0.16157943813834014\n",
      "Medu\n",
      "0.21714749613860607\n",
      "Fedu\n",
      "0.15245693890425874\n",
      "traveltime\n",
      "-0.11714205281614899\n",
      "studytime\n",
      "0.0978196896531963\n",
      "failures\n",
      "-0.36041494046165\n",
      "famrel\n",
      "0.051363428881282196\n",
      "freetime\n",
      "0.01130724030831301\n",
      "goout\n",
      "-0.13279147350332907\n",
      "Dalc\n",
      "-0.0546600405667359\n",
      "Walc\n",
      "-0.05193932374224623\n",
      "health\n",
      "-0.061334604877121286\n",
      "absences\n",
      "0.034247316150069325\n",
      "G1\n",
      "0.8014679320174141\n",
      "G2\n",
      "0.9048679892693011\n"
     ]
    }
   ],
   "source": [
    "#TODO turn this into a helper function. Compares covarianses and returns strongest independent variables.\n",
    "associated = []\n",
    "for i in data.select_dtypes(np.number).columns:\n",
    "    if i == target:\n",
    "        continue\n",
    "    pearson_cor, pval = pearsonr(data[i],data[target])\n",
    "    print(i)\n",
    "    print(pearson_cor)\n",
    "    if pearson_cor > .3:\n",
    "        associated.append(i)"
   ]
  },
  {
   "cell_type": "code",
   "execution_count": 13,
   "id": "suspected-alaska",
   "metadata": {},
   "outputs": [
    {
     "name": "stdout",
     "output_type": "stream",
     "text": [
      "0       6\n",
      "1       6\n",
      "2      10\n",
      "3      15\n",
      "4      10\n",
      "       ..\n",
      "390     9\n",
      "391    16\n",
      "392     7\n",
      "393    10\n",
      "394     9\n",
      "Name: G3, Length: 395, dtype: int64\n"
     ]
    }
   ],
   "source": [
    "\n",
    "y_data = data[target]\n",
    "data = data[associated]\n",
    "data[target] = y_data\n",
    "\n",
    "print(y_data)"
   ]
  },
  {
   "cell_type": "code",
   "execution_count": 14,
   "id": "careful-joyce",
   "metadata": {},
   "outputs": [
    {
     "data": {
      "image/png": "[encoded data removed]",
      "text/plain": [
       "<Figure size 432x288 with 1 Axes>"
      ]
     },
     "metadata": {
      "needs_background": "light"
     },
     "output_type": "display_data"
    },
    {
     "name": "stdout",
     "output_type": "stream",
     "text": [
      "The Pearson Correlation (-1 to +1) is 0.8014679320174141\n"
     ]
    },
    {
     "data": {
      "image/png": "[encoded data removed]",
      "text/plain": [
       "<Figure size 432x288 with 1 Axes>"
      ]
     },
     "metadata": {
      "needs_background": "light"
     },
     "output_type": "display_data"
    },
    {
     "name": "stdout",
     "output_type": "stream",
     "text": [
      "The Pearson Correlation (-1 to +1) is 0.9048679892693011\n"
     ]
    }
   ],
   "source": [
    "for col in data.columns:\n",
    "    if col == target:\n",
    "        continue\n",
    "    plt.scatter(data[col],data[target])\n",
    "    plt.xlabel(str(col))\n",
    "    plt.ylabel('Grade 3')\n",
    "    plt.title(f'Correlation Between {col} and {target}')\n",
    "    plt.show()\n",
    "    pearson_cor, pval = pearsonr(data[col],data[target])\n",
    "    print(f'The Pearson Correlation (-1 to +1) is {pearson_cor}')"
   ]
  },
  {
   "cell_type": "code",
   "execution_count": 15,
   "id": "religious-fence",
   "metadata": {},
   "outputs": [
    {
     "data": {
      "image/png": "[encoded data removed]",
      "text/plain": [
       "<Figure size 540x540 with 12 Axes>"
      ]
     },
     "metadata": {
      "needs_background": "light"
     },
     "output_type": "display_data"
    }
   ],
   "source": [
    "sns.pairplot(data)\n",
    "plt.show()"
   ]
  },
  {
   "cell_type": "code",
   "execution_count": 16,
   "id": "qualified-athens",
   "metadata": {},
   "outputs": [
    {
     "data": {
      "image/png": "[encoded data removed]",
      "text/plain": [
       "<Figure size 432x288 with 2 Axes>"
      ]
     },
     "metadata": {
      "needs_background": "light"
     },
     "output_type": "display_data"
    }
   ],
   "source": [
    "#data = data[['G1','G2','G3','studytime','failures','absences']]\n",
    "mask = np.zeros_like(data.corr())\n",
    "\n",
    "mask[np.triu_indices_from(mask)] = True\n",
    "\n",
    "\n",
    "sns.axes_style(\"white\")\n",
    "dataplot = sns.heatmap(data.corr(method='pearson'), cmap=\"YlGnBu\", mask=mask,annot=True)\n",
    "plt.show()"
   ]
  },
  {
   "cell_type": "code",
   "execution_count": null,
   "id": "following-society",
   "metadata": {},
   "outputs": [],
   "source": []
  },
  {
   "cell_type": "code",
   "execution_count": null,
   "id": "committed-sunday",
   "metadata": {},
   "outputs": [],
   "source": []
  },
  {
   "cell_type": "code",
   "execution_count": 17,
   "id": "irish-infection",
   "metadata": {},
   "outputs": [],
   "source": [
    "#Process Data"
   ]
  },
  {
   "cell_type": "code",
   "execution_count": 18,
   "id": "useful-union",
   "metadata": {},
   "outputs": [],
   "source": [
    "#Split Data\n",
    "x = np.array(data.drop([target],axis=1))\n",
    "y = np.array(data[target])\n",
    "x_train, x_test, y_train, y_test = train_test_split(x,y,test_size=0.1)"
   ]
  },
  {
   "cell_type": "code",
   "execution_count": 19,
   "id": "black-completion",
   "metadata": {},
   "outputs": [
    {
     "data": {
      "text/plain": [
       "LinearRegression()"
      ]
     },
     "execution_count": 19,
     "metadata": {},
     "output_type": "execute_result"
    }
   ],
   "source": [
    "#Fit/Train Model\n",
    "linreg = LinearRegression()\n",
    "linreg.fit(x_train,y_train)"
   ]
  },
  {
   "cell_type": "code",
   "execution_count": 20,
   "id": "naughty-cabin",
   "metadata": {},
   "outputs": [
    {
     "name": "stdout",
     "output_type": "stream",
     "text": [
      "0.929007780230209\n",
      "[0.15093817 0.99773499]\n",
      "Predicted: 18\t Actual: 18 \t Data [16 18]\n",
      "Predicted: 8\t Actual: 9 \t Data [10  8]\n",
      "Predicted: 11\t Actual: 12 \t Data [12 11]\n",
      "Predicted: 6\t Actual: 6 \t Data [9 7]\n",
      "Predicted: 14\t Actual: 13 \t Data [13 14]\n",
      "Predicted: 5\t Actual: 8 \t Data [6 6]\n",
      "Predicted: 10\t Actual: 11 \t Data [10 10]\n",
      "Predicted: 8\t Actual: 8 \t Data [9 9]\n",
      "Predicted: 13\t Actual: 13 \t Data [12 13]\n",
      "Predicted: 11\t Actual: 11 \t Data [13 11]\n",
      "Predicted: 17\t Actual: 17 \t Data [17 16]\n",
      "Predicted: 4\t Actual: 0 \t Data [7 5]\n",
      "Predicted: 16\t Actual: 16 \t Data [16 16]\n",
      "Predicted: -1\t Actual: 0 \t Data [4 0]\n",
      "Predicted: 11\t Actual: 13 \t Data [14 11]\n",
      "Predicted: 12\t Actual: 10 \t Data [11 12]\n",
      "Predicted: 15\t Actual: 16 \t Data [13 15]\n",
      "Predicted: 10\t Actual: 11 \t Data [10 10]\n",
      "Predicted: 13\t Actual: 13 \t Data [11 13]\n",
      "Predicted: 7\t Actual: 8 \t Data [8 8]\n",
      "Predicted: 7\t Actual: 8 \t Data [8 8]\n",
      "Predicted: -1\t Actual: 0 \t Data [7 0]\n",
      "Predicted: 15\t Actual: 16 \t Data [14 15]\n",
      "Predicted: 12\t Actual: 13 \t Data [12 12]\n",
      "Predicted: -1\t Actual: 0 \t Data [6 0]\n",
      "Predicted: 8\t Actual: 9 \t Data [8 9]\n",
      "Predicted: 14\t Actual: 13 \t Data [14 14]\n",
      "Predicted: 15\t Actual: 15 \t Data [16 15]\n",
      "Predicted: 11\t Actual: 12 \t Data [ 8 12]\n",
      "Predicted: 13\t Actual: 13 \t Data [13 13]\n",
      "Predicted: 17\t Actual: 17 \t Data [16 17]\n",
      "Predicted: 12\t Actual: 12 \t Data [12 12]\n",
      "Predicted: 12\t Actual: 12 \t Data [13 12]\n",
      "Predicted: 13\t Actual: 12 \t Data [12 13]\n",
      "Predicted: 5\t Actual: 6 \t Data [5 6]\n",
      "Predicted: 7\t Actual: 8 \t Data [9 8]\n",
      "Predicted: 10\t Actual: 11 \t Data [11 10]\n",
      "Predicted: 9\t Actual: 10 \t Data [11  9]\n",
      "Predicted: 14\t Actual: 14 \t Data [11 14]\n",
      "Predicted: 11\t Actual: 11 \t Data [11 11]\n"
     ]
    }
   ],
   "source": [
    "#Evaluate Model\n",
    "print(linreg.score(x_test,y_test))\n",
    "print(linreg.coef_)\n",
    "y_pred = linreg.predict(x_test)\n",
    "#print(f'The Intercept (grade) is {linreg.intercept_}')\n",
    "for i in range(len(y_pred)):\n",
    "    print(f'Predicted: {round(y_pred[i])}\\t Actual: {y_test[i]} \\t Data {x_test[i]}')"
   ]
  },
  {
   "cell_type": "code",
   "execution_count": 21,
   "id": "upset-ocean",
   "metadata": {},
   "outputs": [],
   "source": [
    "#Tune Model"
   ]
  },
  {
   "cell_type": "code",
   "execution_count": 22,
   "id": "metric-terry",
   "metadata": {},
   "outputs": [
    {
     "name": "stdout",
     "output_type": "stream",
     "text": [
      "7.6\n"
     ]
    }
   ],
   "source": [
    "n = 76\n",
    "x = 76/10\n",
    "print(x)"
   ]
  },
  {
   "cell_type": "code",
   "execution_count": 23,
   "id": "regular-philippines",
   "metadata": {},
   "outputs": [
    {
     "name": "stdout",
     "output_type": "stream",
     "text": [
      "14\n"
     ]
    }
   ],
   "source": [
    "x = 7*2\n",
    "print(x)"
   ]
  },
  {
   "cell_type": "code",
   "execution_count": 24,
   "id": "dated-colony",
   "metadata": {},
   "outputs": [
    {
     "data": {
      "text/plain": [
       "0.929007780230209"
      ]
     },
     "execution_count": 24,
     "metadata": {},
     "output_type": "execute_result"
    }
   ],
   "source": [
    "linreg.score(x_test,y_test)"
   ]
  },
  {
   "cell_type": "code",
   "execution_count": 25,
   "id": "appreciated-monaco",
   "metadata": {},
   "outputs": [
    {
     "data": {
      "text/plain": [
       "-1.9595893498969161"
      ]
     },
     "execution_count": 25,
     "metadata": {},
     "output_type": "execute_result"
    }
   ],
   "source": [
    "linreg.intercept_"
   ]
  },
  {
   "cell_type": "code",
   "execution_count": 26,
   "id": "ecological-school",
   "metadata": {},
   "outputs": [
    {
     "data": {
      "text/plain": [
       "array([0.15093817, 0.99773499])"
      ]
     },
     "execution_count": 26,
     "metadata": {},
     "output_type": "execute_result"
    }
   ],
   "source": [
    "linreg.coef_"
   ]
  },
  {
   "cell_type": "code",
   "execution_count": null,
   "id": "cooked-blind",
   "metadata": {},
   "outputs": [],
   "source": []
  },
  {
   "cell_type": "code",
   "execution_count": null,
   "id": "adjacent-cooking",
   "metadata": {},
   "outputs": [],
   "source": []
  },
  {
   "cell_type": "code",
   "execution_count": null,
   "id": "worst-coverage",
   "metadata": {},
   "outputs": [],
   "source": []
  }
 ],
 "metadata": {
  "kernelspec": {
   "display_name": "Python [conda env:LinReg_StudentSuccess]",
   "language": "python",
   "name": "conda-env-LinReg_StudentSuccess-py"
  },
  "language_info": {
   "codemirror_mode": {
    "name": "ipython",
    "version": 3
   },
   "file_extension": ".py",
   "mimetype": "text/x-python",
   "name": "python",
   "nbconvert_exporter": "python",
   "pygments_lexer": "ipython3",
   "version": "3.8.5"
  }
 },
 "nbformat": 4,
 "nbformat_minor": 5
}
