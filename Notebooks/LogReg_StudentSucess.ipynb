{
 "cells": [
  {
   "cell_type": "code",
   "execution_count": 43,
   "id": "invalid-skirt",
   "metadata": {},
   "outputs": [],
   "source": [
    "import numpy as np\n",
    "import pandas as pd\n",
    "from sklearn.linear_model import LinearRegression\n",
    "import sklearn.metrics\n",
    "from sklearn.model_selection import train_test_split\n",
    "from sklearn.metrics import accuracy_score, recall_score, precision_score, f1_score\n",
    "import matplotlib.pyplot as plt\n",
    "import seaborn as sns\n",
    "from scipy.stats import pearsonr"
   ]
  },
  {
   "cell_type": "code",
   "execution_count": 44,
   "id": "improved-entrepreneur",
   "metadata": {},
   "outputs": [
    {
     "name": "stdout",
     "output_type": "stream",
     "text": [
      "/home/kenji/Projects/BasicProjects/LinReg_StudentSuccess\n"
     ]
    }
   ],
   "source": [
    "%cd /home/kenji/Projects/BasicProjects/LinReg_StudentSuccess"
   ]
  },
  {
   "cell_type": "code",
   "execution_count": 45,
   "id": "tired-stylus",
   "metadata": {},
   "outputs": [],
   "source": [
    "## 1. Data\n",
    "### 1.1 Load Data\n",
    "data = pd.read_csv('Data/student-mat.csv',sep=';')"
   ]
  },
  {
   "cell_type": "code",
   "execution_count": 46,
   "id": "8d6d9a6b",
   "metadata": {},
   "outputs": [
    {
     "data": {
      "text/html": [
       "<div>\n",
       "<style scoped>\n",
       "    .dataframe tbody tr th:only-of-type {\n",
       "        vertical-align: middle;\n",
       "    }\n",
       "\n",
       "    .dataframe tbody tr th {\n",
       "        vertical-align: top;\n",
       "    }\n",
       "\n",
       "    .dataframe thead th {\n",
       "        text-align: right;\n",
       "    }\n",
       "</style>\n",
       "<table border=\"1\" class=\"dataframe\">\n",
       "  <thead>\n",
       "    <tr style=\"text-align: right;\">\n",
       "      <th></th>\n",
       "      <th>school</th>\n",
       "      <th>sex</th>\n",
       "      <th>age</th>\n",
       "      <th>address</th>\n",
       "      <th>famsize</th>\n",
       "      <th>Pstatus</th>\n",
       "      <th>Medu</th>\n",
       "      <th>Fedu</th>\n",
       "      <th>Mjob</th>\n",
       "      <th>Fjob</th>\n",
       "      <th>...</th>\n",
       "      <th>famrel</th>\n",
       "      <th>freetime</th>\n",
       "      <th>goout</th>\n",
       "      <th>Dalc</th>\n",
       "      <th>Walc</th>\n",
       "      <th>health</th>\n",
       "      <th>absences</th>\n",
       "      <th>G1</th>\n",
       "      <th>G2</th>\n",
       "      <th>G3</th>\n",
       "    </tr>\n",
       "  </thead>\n",
       "  <tbody>\n",
       "    <tr>\n",
       "      <th>0</th>\n",
       "      <td>GP</td>\n",
       "      <td>F</td>\n",
       "      <td>18</td>\n",
       "      <td>U</td>\n",
       "      <td>GT3</td>\n",
       "      <td>A</td>\n",
       "      <td>4</td>\n",
       "      <td>4</td>\n",
       "      <td>at_home</td>\n",
       "      <td>teacher</td>\n",
       "      <td>...</td>\n",
       "      <td>4</td>\n",
       "      <td>3</td>\n",
       "      <td>4</td>\n",
       "      <td>1</td>\n",
       "      <td>1</td>\n",
       "      <td>3</td>\n",
       "      <td>6</td>\n",
       "      <td>5</td>\n",
       "      <td>6</td>\n",
       "      <td>6</td>\n",
       "    </tr>\n",
       "    <tr>\n",
       "      <th>1</th>\n",
       "      <td>GP</td>\n",
       "      <td>F</td>\n",
       "      <td>17</td>\n",
       "      <td>U</td>\n",
       "      <td>GT3</td>\n",
       "      <td>T</td>\n",
       "      <td>1</td>\n",
       "      <td>1</td>\n",
       "      <td>at_home</td>\n",
       "      <td>other</td>\n",
       "      <td>...</td>\n",
       "      <td>5</td>\n",
       "      <td>3</td>\n",
       "      <td>3</td>\n",
       "      <td>1</td>\n",
       "      <td>1</td>\n",
       "      <td>3</td>\n",
       "      <td>4</td>\n",
       "      <td>5</td>\n",
       "      <td>5</td>\n",
       "      <td>6</td>\n",
       "    </tr>\n",
       "    <tr>\n",
       "      <th>2</th>\n",
       "      <td>GP</td>\n",
       "      <td>F</td>\n",
       "      <td>15</td>\n",
       "      <td>U</td>\n",
       "      <td>LE3</td>\n",
       "      <td>T</td>\n",
       "      <td>1</td>\n",
       "      <td>1</td>\n",
       "      <td>at_home</td>\n",
       "      <td>other</td>\n",
       "      <td>...</td>\n",
       "      <td>4</td>\n",
       "      <td>3</td>\n",
       "      <td>2</td>\n",
       "      <td>2</td>\n",
       "      <td>3</td>\n",
       "      <td>3</td>\n",
       "      <td>10</td>\n",
       "      <td>7</td>\n",
       "      <td>8</td>\n",
       "      <td>10</td>\n",
       "    </tr>\n",
       "    <tr>\n",
       "      <th>3</th>\n",
       "      <td>GP</td>\n",
       "      <td>F</td>\n",
       "      <td>15</td>\n",
       "      <td>U</td>\n",
       "      <td>GT3</td>\n",
       "      <td>T</td>\n",
       "      <td>4</td>\n",
       "      <td>2</td>\n",
       "      <td>health</td>\n",
       "      <td>services</td>\n",
       "      <td>...</td>\n",
       "      <td>3</td>\n",
       "      <td>2</td>\n",
       "      <td>2</td>\n",
       "      <td>1</td>\n",
       "      <td>1</td>\n",
       "      <td>5</td>\n",
       "      <td>2</td>\n",
       "      <td>15</td>\n",
       "      <td>14</td>\n",
       "      <td>15</td>\n",
       "    </tr>\n",
       "    <tr>\n",
       "      <th>4</th>\n",
       "      <td>GP</td>\n",
       "      <td>F</td>\n",
       "      <td>16</td>\n",
       "      <td>U</td>\n",
       "      <td>GT3</td>\n",
       "      <td>T</td>\n",
       "      <td>3</td>\n",
       "      <td>3</td>\n",
       "      <td>other</td>\n",
       "      <td>other</td>\n",
       "      <td>...</td>\n",
       "      <td>4</td>\n",
       "      <td>3</td>\n",
       "      <td>2</td>\n",
       "      <td>1</td>\n",
       "      <td>2</td>\n",
       "      <td>5</td>\n",
       "      <td>4</td>\n",
       "      <td>6</td>\n",
       "      <td>10</td>\n",
       "      <td>10</td>\n",
       "    </tr>\n",
       "  </tbody>\n",
       "</table>\n",
       "<p>5 rows × 33 columns</p>\n",
       "</div>"
      ],
      "text/plain": [
       "  school sex  age address famsize Pstatus  Medu  Fedu     Mjob      Fjob  ...  \\\n",
       "0     GP   F   18       U     GT3       A     4     4  at_home   teacher  ...   \n",
       "1     GP   F   17       U     GT3       T     1     1  at_home     other  ...   \n",
       "2     GP   F   15       U     LE3       T     1     1  at_home     other  ...   \n",
       "3     GP   F   15       U     GT3       T     4     2   health  services  ...   \n",
       "4     GP   F   16       U     GT3       T     3     3    other     other  ...   \n",
       "\n",
       "  famrel freetime  goout  Dalc  Walc health absences  G1  G2  G3  \n",
       "0      4        3      4     1     1      3        6   5   6   6  \n",
       "1      5        3      3     1     1      3        4   5   5   6  \n",
       "2      4        3      2     2     3      3       10   7   8  10  \n",
       "3      3        2      2     1     1      5        2  15  14  15  \n",
       "4      4        3      2     1     2      5        4   6  10  10  \n",
       "\n",
       "[5 rows x 33 columns]"
      ]
     },
     "execution_count": 46,
     "metadata": {},
     "output_type": "execute_result"
    }
   ],
   "source": [
    "### 1.2 EDA: Initial Data Inspection\n",
    "#### 1.2.1 Examine Dataset\n",
    "data.head()"
   ]
  },
  {
   "cell_type": "code",
   "execution_count": 47,
   "id": "3edcec51",
   "metadata": {},
   "outputs": [
    {
     "name": "stdout",
     "output_type": "stream",
     "text": [
      "<class 'pandas.core.frame.DataFrame'>\n",
      "RangeIndex: 395 entries, 0 to 394\n",
      "Data columns (total 33 columns):\n",
      " #   Column      Non-Null Count  Dtype \n",
      "---  ------      --------------  ----- \n",
      " 0   school      395 non-null    object\n",
      " 1   sex         395 non-null    object\n",
      " 2   age         395 non-null    int64 \n",
      " 3   address     395 non-null    object\n",
      " 4   famsize     395 non-null    object\n",
      " 5   Pstatus     395 non-null    object\n",
      " 6   Medu        395 non-null    int64 \n",
      " 7   Fedu        395 non-null    int64 \n",
      " 8   Mjob        395 non-null    object\n",
      " 9   Fjob        395 non-null    object\n",
      " 10  reason      395 non-null    object\n",
      " 11  guardian    395 non-null    object\n",
      " 12  traveltime  395 non-null    int64 \n",
      " 13  studytime   395 non-null    int64 \n",
      " 14  failures    395 non-null    int64 \n",
      " 15  schoolsup   395 non-null    object\n",
      " 16  famsup      395 non-null    object\n",
      " 17  paid        395 non-null    object\n",
      " 18  activities  395 non-null    object\n",
      " 19  nursery     395 non-null    object\n",
      " 20  higher      395 non-null    object\n",
      " 21  internet    395 non-null    object\n",
      " 22  romantic    395 non-null    object\n",
      " 23  famrel      395 non-null    int64 \n",
      " 24  freetime    395 non-null    int64 \n",
      " 25  goout       395 non-null    int64 \n",
      " 26  Dalc        395 non-null    int64 \n",
      " 27  Walc        395 non-null    int64 \n",
      " 28  health      395 non-null    int64 \n",
      " 29  absences    395 non-null    int64 \n",
      " 30  G1          395 non-null    int64 \n",
      " 31  G2          395 non-null    int64 \n",
      " 32  G3          395 non-null    int64 \n",
      "dtypes: int64(16), object(17)\n",
      "memory usage: 453.2 KB\n"
     ]
    }
   ],
   "source": [
    "data.info(memory_usage='deep')"
   ]
  },
  {
   "cell_type": "code",
   "execution_count": 48,
   "id": "d6831e80",
   "metadata": {},
   "outputs": [
    {
     "data": {
      "text/plain": [
       "(395, 33)"
      ]
     },
     "execution_count": 48,
     "metadata": {},
     "output_type": "execute_result"
    }
   ],
   "source": [
    "data.shape"
   ]
  },
  {
   "cell_type": "code",
   "execution_count": 49,
   "id": "9cb5e5f5",
   "metadata": {},
   "outputs": [
    {
     "data": {
      "text/plain": [
       "Index(['school', 'sex', 'age', 'address', 'famsize', 'Pstatus', 'Medu', 'Fedu',\n",
       "       'Mjob', 'Fjob', 'reason', 'guardian', 'traveltime', 'studytime',\n",
       "       'failures', 'schoolsup', 'famsup', 'paid', 'activities', 'nursery',\n",
       "       'higher', 'internet', 'romantic', 'famrel', 'freetime', 'goout', 'Dalc',\n",
       "       'Walc', 'health', 'absences', 'G1', 'G2', 'G3'],\n",
       "      dtype='object')"
      ]
     },
     "execution_count": 49,
     "metadata": {},
     "output_type": "execute_result"
    }
   ],
   "source": [
    "#### 1.2.2 Examine & Modify Dataset Columns\n",
    "data.columns"
   ]
  },
  {
   "cell_type": "code",
   "execution_count": 50,
   "id": "317a755c",
   "metadata": {},
   "outputs": [],
   "source": [
    "data.columns = map(str.lower, data.columns)"
   ]
  },
  {
   "cell_type": "code",
   "execution_count": 51,
   "id": "0ecdd02f",
   "metadata": {},
   "outputs": [
    {
     "data": {
      "text/plain": [
       "school        0\n",
       "sex           0\n",
       "age           0\n",
       "address       0\n",
       "famsize       0\n",
       "pstatus       0\n",
       "medu          0\n",
       "fedu          0\n",
       "mjob          0\n",
       "fjob          0\n",
       "reason        0\n",
       "guardian      0\n",
       "traveltime    0\n",
       "studytime     0\n",
       "failures      0\n",
       "schoolsup     0\n",
       "famsup        0\n",
       "paid          0\n",
       "activities    0\n",
       "nursery       0\n",
       "higher        0\n",
       "internet      0\n",
       "romantic      0\n",
       "famrel        0\n",
       "freetime      0\n",
       "goout         0\n",
       "dalc          0\n",
       "walc          0\n",
       "health        0\n",
       "absences      0\n",
       "g1            0\n",
       "g2            0\n",
       "g3            0\n",
       "dtype: int64"
      ]
     },
     "execution_count": 51,
     "metadata": {},
     "output_type": "execute_result"
    }
   ],
   "source": [
    "##### 1.2.2.1 Missing Values?\n",
    "data.isna().sum()"
   ]
  },
  {
   "cell_type": "code",
   "execution_count": 52,
   "id": "5c31feae",
   "metadata": {},
   "outputs": [
    {
     "data": {
      "text/html": [
       "<div>\n",
       "<style scoped>\n",
       "    .dataframe tbody tr th:only-of-type {\n",
       "        vertical-align: middle;\n",
       "    }\n",
       "\n",
       "    .dataframe tbody tr th {\n",
       "        vertical-align: top;\n",
       "    }\n",
       "\n",
       "    .dataframe thead th {\n",
       "        text-align: right;\n",
       "    }\n",
       "</style>\n",
       "<table border=\"1\" class=\"dataframe\">\n",
       "  <thead>\n",
       "    <tr style=\"text-align: right;\">\n",
       "      <th></th>\n",
       "      <th>age</th>\n",
       "      <th>medu</th>\n",
       "      <th>fedu</th>\n",
       "      <th>traveltime</th>\n",
       "      <th>studytime</th>\n",
       "      <th>failures</th>\n",
       "      <th>famrel</th>\n",
       "      <th>freetime</th>\n",
       "      <th>goout</th>\n",
       "      <th>dalc</th>\n",
       "      <th>walc</th>\n",
       "      <th>health</th>\n",
       "      <th>absences</th>\n",
       "      <th>g1</th>\n",
       "      <th>g2</th>\n",
       "      <th>g3</th>\n",
       "    </tr>\n",
       "  </thead>\n",
       "  <tbody>\n",
       "    <tr>\n",
       "      <th>count</th>\n",
       "      <td>395.000000</td>\n",
       "      <td>395.000000</td>\n",
       "      <td>395.000000</td>\n",
       "      <td>395.000000</td>\n",
       "      <td>395.000000</td>\n",
       "      <td>395.000000</td>\n",
       "      <td>395.000000</td>\n",
       "      <td>395.000000</td>\n",
       "      <td>395.000000</td>\n",
       "      <td>395.000000</td>\n",
       "      <td>395.000000</td>\n",
       "      <td>395.000000</td>\n",
       "      <td>395.000000</td>\n",
       "      <td>395.000000</td>\n",
       "      <td>395.000000</td>\n",
       "      <td>395.000000</td>\n",
       "    </tr>\n",
       "    <tr>\n",
       "      <th>mean</th>\n",
       "      <td>16.696203</td>\n",
       "      <td>2.749367</td>\n",
       "      <td>2.521519</td>\n",
       "      <td>1.448101</td>\n",
       "      <td>2.035443</td>\n",
       "      <td>0.334177</td>\n",
       "      <td>3.944304</td>\n",
       "      <td>3.235443</td>\n",
       "      <td>3.108861</td>\n",
       "      <td>1.481013</td>\n",
       "      <td>2.291139</td>\n",
       "      <td>3.554430</td>\n",
       "      <td>5.708861</td>\n",
       "      <td>10.908861</td>\n",
       "      <td>10.713924</td>\n",
       "      <td>10.415190</td>\n",
       "    </tr>\n",
       "    <tr>\n",
       "      <th>std</th>\n",
       "      <td>1.276043</td>\n",
       "      <td>1.094735</td>\n",
       "      <td>1.088201</td>\n",
       "      <td>0.697505</td>\n",
       "      <td>0.839240</td>\n",
       "      <td>0.743651</td>\n",
       "      <td>0.896659</td>\n",
       "      <td>0.998862</td>\n",
       "      <td>1.113278</td>\n",
       "      <td>0.890741</td>\n",
       "      <td>1.287897</td>\n",
       "      <td>1.390303</td>\n",
       "      <td>8.003096</td>\n",
       "      <td>3.319195</td>\n",
       "      <td>3.761505</td>\n",
       "      <td>4.581443</td>\n",
       "    </tr>\n",
       "    <tr>\n",
       "      <th>min</th>\n",
       "      <td>15.000000</td>\n",
       "      <td>0.000000</td>\n",
       "      <td>0.000000</td>\n",
       "      <td>1.000000</td>\n",
       "      <td>1.000000</td>\n",
       "      <td>0.000000</td>\n",
       "      <td>1.000000</td>\n",
       "      <td>1.000000</td>\n",
       "      <td>1.000000</td>\n",
       "      <td>1.000000</td>\n",
       "      <td>1.000000</td>\n",
       "      <td>1.000000</td>\n",
       "      <td>0.000000</td>\n",
       "      <td>3.000000</td>\n",
       "      <td>0.000000</td>\n",
       "      <td>0.000000</td>\n",
       "    </tr>\n",
       "    <tr>\n",
       "      <th>25%</th>\n",
       "      <td>16.000000</td>\n",
       "      <td>2.000000</td>\n",
       "      <td>2.000000</td>\n",
       "      <td>1.000000</td>\n",
       "      <td>1.000000</td>\n",
       "      <td>0.000000</td>\n",
       "      <td>4.000000</td>\n",
       "      <td>3.000000</td>\n",
       "      <td>2.000000</td>\n",
       "      <td>1.000000</td>\n",
       "      <td>1.000000</td>\n",
       "      <td>3.000000</td>\n",
       "      <td>0.000000</td>\n",
       "      <td>8.000000</td>\n",
       "      <td>9.000000</td>\n",
       "      <td>8.000000</td>\n",
       "    </tr>\n",
       "    <tr>\n",
       "      <th>50%</th>\n",
       "      <td>17.000000</td>\n",
       "      <td>3.000000</td>\n",
       "      <td>2.000000</td>\n",
       "      <td>1.000000</td>\n",
       "      <td>2.000000</td>\n",
       "      <td>0.000000</td>\n",
       "      <td>4.000000</td>\n",
       "      <td>3.000000</td>\n",
       "      <td>3.000000</td>\n",
       "      <td>1.000000</td>\n",
       "      <td>2.000000</td>\n",
       "      <td>4.000000</td>\n",
       "      <td>4.000000</td>\n",
       "      <td>11.000000</td>\n",
       "      <td>11.000000</td>\n",
       "      <td>11.000000</td>\n",
       "    </tr>\n",
       "    <tr>\n",
       "      <th>75%</th>\n",
       "      <td>18.000000</td>\n",
       "      <td>4.000000</td>\n",
       "      <td>3.000000</td>\n",
       "      <td>2.000000</td>\n",
       "      <td>2.000000</td>\n",
       "      <td>0.000000</td>\n",
       "      <td>5.000000</td>\n",
       "      <td>4.000000</td>\n",
       "      <td>4.000000</td>\n",
       "      <td>2.000000</td>\n",
       "      <td>3.000000</td>\n",
       "      <td>5.000000</td>\n",
       "      <td>8.000000</td>\n",
       "      <td>13.000000</td>\n",
       "      <td>13.000000</td>\n",
       "      <td>14.000000</td>\n",
       "    </tr>\n",
       "    <tr>\n",
       "      <th>max</th>\n",
       "      <td>22.000000</td>\n",
       "      <td>4.000000</td>\n",
       "      <td>4.000000</td>\n",
       "      <td>4.000000</td>\n",
       "      <td>4.000000</td>\n",
       "      <td>3.000000</td>\n",
       "      <td>5.000000</td>\n",
       "      <td>5.000000</td>\n",
       "      <td>5.000000</td>\n",
       "      <td>5.000000</td>\n",
       "      <td>5.000000</td>\n",
       "      <td>5.000000</td>\n",
       "      <td>75.000000</td>\n",
       "      <td>19.000000</td>\n",
       "      <td>19.000000</td>\n",
       "      <td>20.000000</td>\n",
       "    </tr>\n",
       "  </tbody>\n",
       "</table>\n",
       "</div>"
      ],
      "text/plain": [
       "              age        medu        fedu  traveltime   studytime    failures  \\\n",
       "count  395.000000  395.000000  395.000000  395.000000  395.000000  395.000000   \n",
       "mean    16.696203    2.749367    2.521519    1.448101    2.035443    0.334177   \n",
       "std      1.276043    1.094735    1.088201    0.697505    0.839240    0.743651   \n",
       "min     15.000000    0.000000    0.000000    1.000000    1.000000    0.000000   \n",
       "25%     16.000000    2.000000    2.000000    1.000000    1.000000    0.000000   \n",
       "50%     17.000000    3.000000    2.000000    1.000000    2.000000    0.000000   \n",
       "75%     18.000000    4.000000    3.000000    2.000000    2.000000    0.000000   \n",
       "max     22.000000    4.000000    4.000000    4.000000    4.000000    3.000000   \n",
       "\n",
       "           famrel    freetime       goout        dalc        walc      health  \\\n",
       "count  395.000000  395.000000  395.000000  395.000000  395.000000  395.000000   \n",
       "mean     3.944304    3.235443    3.108861    1.481013    2.291139    3.554430   \n",
       "std      0.896659    0.998862    1.113278    0.890741    1.287897    1.390303   \n",
       "min      1.000000    1.000000    1.000000    1.000000    1.000000    1.000000   \n",
       "25%      4.000000    3.000000    2.000000    1.000000    1.000000    3.000000   \n",
       "50%      4.000000    3.000000    3.000000    1.000000    2.000000    4.000000   \n",
       "75%      5.000000    4.000000    4.000000    2.000000    3.000000    5.000000   \n",
       "max      5.000000    5.000000    5.000000    5.000000    5.000000    5.000000   \n",
       "\n",
       "         absences          g1          g2          g3  \n",
       "count  395.000000  395.000000  395.000000  395.000000  \n",
       "mean     5.708861   10.908861   10.713924   10.415190  \n",
       "std      8.003096    3.319195    3.761505    4.581443  \n",
       "min      0.000000    3.000000    0.000000    0.000000  \n",
       "25%      0.000000    8.000000    9.000000    8.000000  \n",
       "50%      4.000000   11.000000   11.000000   11.000000  \n",
       "75%      8.000000   13.000000   13.000000   14.000000  \n",
       "max     75.000000   19.000000   19.000000   20.000000  "
      ]
     },
     "execution_count": 52,
     "metadata": {},
     "output_type": "execute_result"
    }
   ],
   "source": [
    "### 1.3 EDA: Initial Statistics\n",
    "data.describe()"
   ]
  },
  {
   "cell_type": "code",
   "execution_count": 53,
   "id": "1711aea2",
   "metadata": {},
   "outputs": [
    {
     "data": {
      "text/plain": [
       "school         2\n",
       "sex            2\n",
       "age            8\n",
       "address        2\n",
       "famsize        2\n",
       "pstatus        2\n",
       "medu           5\n",
       "fedu           5\n",
       "mjob           5\n",
       "fjob           5\n",
       "reason         4\n",
       "guardian       3\n",
       "traveltime     4\n",
       "studytime      4\n",
       "failures       4\n",
       "schoolsup      2\n",
       "famsup         2\n",
       "paid           2\n",
       "activities     2\n",
       "nursery        2\n",
       "higher         2\n",
       "internet       2\n",
       "romantic       2\n",
       "famrel         5\n",
       "freetime       5\n",
       "goout          5\n",
       "dalc           5\n",
       "walc           5\n",
       "health         5\n",
       "absences      34\n",
       "g1            17\n",
       "g2            17\n",
       "g3            18\n",
       "dtype: int64"
      ]
     },
     "execution_count": 53,
     "metadata": {},
     "output_type": "execute_result"
    }
   ],
   "source": [
    "data.nunique()"
   ]
  },
  {
   "cell_type": "code",
   "execution_count": 54,
   "id": "6532aa84",
   "metadata": {},
   "outputs": [
    {
     "name": "stdout",
     "output_type": "stream",
     "text": [
      "\n",
      " school\n",
      "min: 46 max: 349\n",
      "GP    349\n",
      "MS     46\n",
      "Name: school, dtype: int64 \n",
      "\n",
      "\n",
      " sex\n",
      "min: 187 max: 208\n",
      "F    208\n",
      "M    187\n",
      "Name: sex, dtype: int64 \n",
      "\n",
      "\n",
      " age\n",
      "min: 1 max: 104\n",
      "16    104\n",
      "17     98\n",
      "18     82\n",
      "15     82\n",
      "19     24\n",
      "Name: age, dtype: int64 \n",
      "\n",
      "\n",
      " address\n",
      "min: 88 max: 307\n",
      "U    307\n",
      "R     88\n",
      "Name: address, dtype: int64 \n",
      "\n",
      "\n",
      " famsize\n",
      "min: 114 max: 281\n",
      "GT3    281\n",
      "LE3    114\n",
      "Name: famsize, dtype: int64 \n",
      "\n",
      "\n",
      " pstatus\n",
      "min: 41 max: 354\n",
      "T    354\n",
      "A     41\n",
      "Name: pstatus, dtype: int64 \n",
      "\n",
      "\n",
      " medu\n",
      "min: 3 max: 131\n",
      "4    131\n",
      "2    103\n",
      "3     99\n",
      "1     59\n",
      "0      3\n",
      "Name: medu, dtype: int64 \n",
      "\n",
      "\n",
      " fedu\n",
      "min: 2 max: 115\n",
      "2    115\n",
      "3    100\n",
      "4     96\n",
      "1     82\n",
      "0      2\n",
      "Name: fedu, dtype: int64 \n",
      "\n",
      "\n",
      " mjob\n",
      "min: 34 max: 141\n",
      "other       141\n",
      "services    103\n",
      "at_home      59\n",
      "teacher      58\n",
      "health       34\n",
      "Name: mjob, dtype: int64 \n",
      "\n",
      "\n",
      " fjob\n",
      "min: 18 max: 217\n",
      "other       217\n",
      "services    111\n",
      "teacher      29\n",
      "at_home      20\n",
      "health       18\n",
      "Name: fjob, dtype: int64 \n",
      "\n",
      "\n",
      " reason\n",
      "min: 36 max: 145\n",
      "course        145\n",
      "home          109\n",
      "reputation    105\n",
      "other          36\n",
      "Name: reason, dtype: int64 \n",
      "\n",
      "\n",
      " guardian\n",
      "min: 32 max: 273\n",
      "mother    273\n",
      "father     90\n",
      "other      32\n",
      "Name: guardian, dtype: int64 \n",
      "\n",
      "\n",
      " traveltime\n",
      "min: 8 max: 257\n",
      "1    257\n",
      "2    107\n",
      "3     23\n",
      "4      8\n",
      "Name: traveltime, dtype: int64 \n",
      "\n",
      "\n",
      " studytime\n",
      "min: 27 max: 198\n",
      "2    198\n",
      "1    105\n",
      "3     65\n",
      "4     27\n",
      "Name: studytime, dtype: int64 \n",
      "\n",
      "\n",
      " failures\n",
      "min: 16 max: 312\n",
      "0    312\n",
      "1     50\n",
      "2     17\n",
      "3     16\n",
      "Name: failures, dtype: int64 \n",
      "\n",
      "\n",
      " schoolsup\n",
      "min: 51 max: 344\n",
      "no     344\n",
      "yes     51\n",
      "Name: schoolsup, dtype: int64 \n",
      "\n",
      "\n",
      " famsup\n",
      "min: 153 max: 242\n",
      "yes    242\n",
      "no     153\n",
      "Name: famsup, dtype: int64 \n",
      "\n",
      "\n",
      " paid\n",
      "min: 181 max: 214\n",
      "no     214\n",
      "yes    181\n",
      "Name: paid, dtype: int64 \n",
      "\n",
      "\n",
      " activities\n",
      "min: 194 max: 201\n",
      "yes    201\n",
      "no     194\n",
      "Name: activities, dtype: int64 \n",
      "\n",
      "\n",
      " nursery\n",
      "min: 81 max: 314\n",
      "yes    314\n",
      "no      81\n",
      "Name: nursery, dtype: int64 \n",
      "\n",
      "\n",
      " higher\n",
      "min: 20 max: 375\n",
      "yes    375\n",
      "no      20\n",
      "Name: higher, dtype: int64 \n",
      "\n",
      "\n",
      " internet\n",
      "min: 66 max: 329\n",
      "yes    329\n",
      "no      66\n",
      "Name: internet, dtype: int64 \n",
      "\n",
      "\n",
      " romantic\n",
      "min: 132 max: 263\n",
      "no     263\n",
      "yes    132\n",
      "Name: romantic, dtype: int64 \n",
      "\n",
      "\n",
      " famrel\n",
      "min: 8 max: 195\n",
      "4    195\n",
      "5    106\n",
      "3     68\n",
      "2     18\n",
      "1      8\n",
      "Name: famrel, dtype: int64 \n",
      "\n",
      "\n",
      " freetime\n",
      "min: 19 max: 157\n",
      "3    157\n",
      "4    115\n",
      "2     64\n",
      "5     40\n",
      "1     19\n",
      "Name: freetime, dtype: int64 \n",
      "\n",
      "\n",
      " goout\n",
      "min: 23 max: 130\n",
      "3    130\n",
      "2    103\n",
      "4     86\n",
      "5     53\n",
      "1     23\n",
      "Name: goout, dtype: int64 \n",
      "\n",
      "\n",
      " dalc\n",
      "min: 9 max: 276\n",
      "1    276\n",
      "2     75\n",
      "3     26\n",
      "5      9\n",
      "4      9\n",
      "Name: dalc, dtype: int64 \n",
      "\n",
      "\n",
      " walc\n",
      "min: 28 max: 151\n",
      "1    151\n",
      "2     85\n",
      "3     80\n",
      "4     51\n",
      "5     28\n",
      "Name: walc, dtype: int64 \n",
      "\n",
      "\n",
      " health\n",
      "min: 45 max: 146\n",
      "5    146\n",
      "3     91\n",
      "4     66\n",
      "1     47\n",
      "2     45\n",
      "Name: health, dtype: int64 \n",
      "\n",
      "\n",
      " absences\n",
      "min: 1 max: 115\n",
      "0    115\n",
      "2     65\n",
      "4     53\n",
      "6     31\n",
      "8     22\n",
      "Name: absences, dtype: int64 \n",
      "\n",
      "\n",
      " g1\n",
      "min: 1 max: 51\n",
      "10    51\n",
      "8     41\n",
      "11    39\n",
      "7     37\n",
      "12    35\n",
      "Name: g1, dtype: int64 \n",
      "\n",
      "\n",
      " g2\n",
      "min: 1 max: 50\n",
      "9     50\n",
      "10    46\n",
      "12    41\n",
      "13    37\n",
      "11    35\n",
      "Name: g2, dtype: int64 \n",
      "\n",
      "\n",
      " g3\n",
      "min: 1 max: 56\n",
      "10    56\n",
      "11    47\n",
      "0     38\n",
      "15    33\n",
      "8     32\n",
      "Name: g3, dtype: int64 \n",
      "\n"
     ]
    }
   ],
   "source": [
    "for i in data.columns:\n",
    "    print('\\n',i)\n",
    "    print(f'min: {min(data[i].value_counts())} max: {max(data[i].value_counts())}')\n",
    "    print(data[i].value_counts()[:5],'\\n')\n",
    "    "
   ]
  },
  {
   "cell_type": "code",
   "execution_count": 55,
   "id": "7166fb4e",
   "metadata": {},
   "outputs": [
    {
     "data": {
      "text/plain": [
       "GP    349\n",
       "MS     46\n",
       "Name: school, dtype: int64"
      ]
     },
     "execution_count": 55,
     "metadata": {},
     "output_type": "execute_result"
    }
   ],
   "source": [
    "### 1.4 EDA: Initial Visualization\n",
    "\n",
    "data.school.value_counts()"
   ]
  },
  {
   "cell_type": "code",
   "execution_count": 56,
   "id": "81065b37",
   "metadata": {},
   "outputs": [
    {
     "data": {
      "image/png": "[encoded data removed]",
      "text/plain": [
       "<Figure size 432x288 with 1 Axes>"
      ]
     },
     "metadata": {
      "needs_background": "light"
     },
     "output_type": "display_data"
    }
   ],
   "source": [
    "sns.barplot(data=data, x=data.studytime, y=\"g3\", hue='sex')\n",
    "plt.show()"
   ]
  },
  {
   "cell_type": "code",
   "execution_count": 57,
   "id": "0677c6f6",
   "metadata": {},
   "outputs": [
    {
     "data": {
      "image/png": "[encoded data removed]",
      "text/plain": [
       "<Figure size 432x288 with 1 Axes>"
      ]
     },
     "metadata": {
      "needs_background": "light"
     },
     "output_type": "display_data"
    }
   ],
   "source": [
    "sns.boxplot(data=data, x=data.studytime, y=\"g3\", hue='sex')\n",
    "plt.show()"
   ]
  },
  {
   "cell_type": "code",
   "execution_count": 58,
   "id": "4e0f5d7c",
   "metadata": {},
   "outputs": [
    {
     "data": {
      "image/png": "[encoded data removed]",
      "text/plain": [
       "<Figure size 432x288 with 1 Axes>"
      ]
     },
     "metadata": {
      "needs_background": "light"
     },
     "output_type": "display_data"
    }
   ],
   "source": [
    "sns.violinplot(data=data, x=data.studytime, y=\"g3\", hue='sex')\n",
    "plt.show()"
   ]
  },
  {
   "cell_type": "code",
   "execution_count": 59,
   "id": "b742b140",
   "metadata": {},
   "outputs": [
    {
     "data": {
      "application/vnd.plotly.v1+json": {
       "config": {
        "plotlyServerURL": "https://plot.ly"
       },
       "data": [
        {
         "hovertemplate": "g1=%{x}<br>g2=%{y}<br>g3=%{z}<br>absences=%{marker.color}<extra></extra>",
         "legendgroup": "",
         "marker": {
          "color": [
           6,
           4,
           10,
           2,
           4,
           10,
           0,
           6,
           0,
           0,
           0,
           4,
           2,
           2,
           0,
           4,
           6,
           4,
           16,
           4,
           0,
           0,
           2,
           0,
           2,
           14,
           2,
           4,
           4,
           16,
           0,
           0,
           0,
           0,
           0,
           0,
           2,
           7,
           2,
           8,
           25,
           8,
           2,
           0,
           14,
           8,
           12,
           4,
           2,
           2,
           2,
           2,
           6,
           0,
           6,
           8,
           0,
           4,
           2,
           2,
           6,
           6,
           4,
           2,
           0,
           2,
           4,
           4,
           2,
           12,
           0,
           0,
           2,
           2,
           54,
           6,
           8,
           0,
           2,
           12,
           2,
           4,
           10,
           4,
           2,
           6,
           4,
           4,
           12,
           18,
           0,
           4,
           4,
           0,
           6,
           2,
           2,
           2,
           6,
           0,
           14,
           0,
           4,
           26,
           0,
           10,
           8,
           2,
           6,
           4,
           6,
           0,
           6,
           10,
           8,
           2,
           2,
           0,
           20,
           6,
           2,
           6,
           2,
           18,
           0,
           0,
           0,
           2,
           0,
           8,
           0,
           0,
           12,
           16,
           0,
           0,
           0,
           0,
           0,
           0,
           0,
           8,
           2,
           2,
           0,
           0,
           0,
           2,
           0,
           0,
           0,
           6,
           8,
           0,
           0,
           2,
           8,
           6,
           2,
           4,
           0,
           6,
           0,
           2,
           0,
           16,
           4,
           0,
           0,
           0,
           0,
           2,
           0,
           0,
           4,
           4,
           2,
           4,
           10,
           4,
           10,
           2,
           0,
           56,
           14,
           12,
           2,
           0,
           6,
           4,
           10,
           0,
           12,
           8,
           0,
           0,
           4,
           8,
           24,
           0,
           2,
           6,
           4,
           18,
           6,
           28,
           5,
           10,
           6,
           6,
           10,
           13,
           0,
           15,
           12,
           2,
           22,
           13,
           3,
           4,
           2,
           0,
           2,
           0,
           0,
           16,
           10,
           2,
           14,
           10,
           14,
           4,
           14,
           2,
           18,
           10,
           4,
           20,
           2,
           0,
           14,
           2,
           0,
           0,
           0,
           6,
           4,
           16,
           8,
           0,
           0,
           6,
           4,
           0,
           0,
           2,
           6,
           12,
           8,
           0,
           21,
           2,
           1,
           4,
           0,
           13,
           2,
           8,
           10,
           0,
           15,
           4,
           2,
           2,
           2,
           6,
           75,
           22,
           15,
           8,
           30,
           19,
           1,
           4,
           4,
           2,
           5,
           6,
           6,
           9,
           11,
           0,
           12,
           6,
           8,
           4,
           0,
           10,
           0,
           5,
           14,
           0,
           0,
           0,
           20,
           8,
           0,
           38,
           0,
           18,
           0,
           20,
           3,
           22,
           14,
           40,
           0,
           9,
           0,
           2,
           23,
           12,
           3,
           1,
           0,
           3,
           3,
           8,
           7,
           4,
           2,
           7,
           0,
           0,
           0,
           16,
           12,
           0,
           7,
           4,
           4,
           0,
           11,
           0,
           4,
           7,
           9,
           0,
           0,
           10,
           8,
           2,
           7,
           4,
           4,
           0,
           4,
           2,
           4,
           0,
           0,
           2,
           0,
           0,
           0,
           4,
           0,
           0,
           0,
           10,
           4,
           3,
           8,
           14,
           0,
           2,
           4,
           4,
           0,
           17,
           4,
           5,
           2,
           0,
           14,
           2,
           7,
           0,
           0,
           0,
           11,
           3,
           3,
           0,
           5
          ],
          "coloraxis": "coloraxis",
          "symbol": "circle"
         },
         "mode": "markers",
         "name": "",
         "scene": "scene",
         "showlegend": false,
         "type": "scatter3d",
         "x": [
          5,
          5,
          7,
          15,
          6,
          15,
          12,
          6,
          16,
          14,
          10,
          10,
          14,
          10,
          14,
          14,
          13,
          8,
          6,
          8,
          13,
          12,
          15,
          13,
          10,
          6,
          12,
          15,
          11,
          10,
          9,
          17,
          17,
          8,
          12,
          8,
          15,
          15,
          12,
          14,
          7,
          12,
          19,
          8,
          10,
          8,
          11,
          19,
          15,
          7,
          12,
          11,
          11,
          8,
          10,
          8,
          14,
          14,
          9,
          15,
          10,
          10,
          8,
          10,
          10,
          16,
          13,
          7,
          8,
          16,
          13,
          10,
          8,
          12,
          11,
          9,
          11,
          11,
          8,
          5,
          10,
          11,
          7,
          15,
          9,
          7,
          8,
          13,
          11,
          8,
          7,
          16,
          7,
          11,
          11,
          7,
          11,
          8,
          11,
          7,
          7,
          16,
          10,
          7,
          16,
          10,
          7,
          16,
          10,
          14,
          18,
          7,
          10,
          18,
          9,
          15,
          11,
          13,
          9,
          14,
          16,
          16,
          13,
          14,
          8,
          13,
          7,
          7,
          7,
          18,
          12,
          8,
          10,
          12,
          9,
          11,
          10,
          4,
          14,
          16,
          7,
          9,
          9,
          14,
          5,
          8,
          6,
          10,
          7,
          8,
          6,
          12,
          10,
          5,
          11,
          11,
          16,
          9,
          17,
          10,
          7,
          5,
          7,
          10,
          5,
          12,
          10,
          14,
          6,
          14,
          6,
          13,
          13,
          8,
          10,
          10,
          13,
          6,
          10,
          10,
          9,
          12,
          16,
          9,
          12,
          12,
          11,
          15,
          8,
          8,
          11,
          8,
          7,
          8,
          13,
          14,
          17,
          9,
          18,
          9,
          16,
          8,
          9,
          7,
          10,
          10,
          7,
          11,
          9,
          7,
          8,
          12,
          12,
          6,
          8,
          14,
          6,
          6,
          7,
          9,
          6,
          6,
          16,
          12,
          13,
          9,
          16,
          12,
          10,
          12,
          13,
          11,
          11,
          14,
          9,
          11,
          14,
          13,
          13,
          7,
          12,
          10,
          6,
          13,
          7,
          18,
          12,
          6,
          3,
          13,
          6,
          7,
          6,
          8,
          8,
          7,
          14,
          11,
          15,
          10,
          17,
          8,
          13,
          10,
          9,
          17,
          9,
          12,
          10,
          6,
          9,
          15,
          11,
          15,
          10,
          12,
          10,
          9,
          9,
          10,
          8,
          11,
          12,
          8,
          10,
          12,
          18,
          13,
          15,
          15,
          12,
          15,
          12,
          18,
          14,
          14,
          10,
          10,
          14,
          16,
          12,
          11,
          15,
          17,
          15,
          14,
          17,
          8,
          15,
          12,
          9,
          14,
          13,
          13,
          15,
          13,
          8,
          9,
          11,
          11,
          13,
          11,
          11,
          12,
          16,
          9,
          14,
          11,
          10,
          14,
          9,
          12,
          7,
          8,
          10,
          16,
          14,
          7,
          16,
          9,
          11,
          10,
          16,
          9,
          11,
          13,
          16,
          10,
          13,
          11,
          8,
          13,
          8,
          8,
          13,
          10,
          12,
          12,
          10,
          18,
          13,
          13,
          11,
          16,
          12,
          10,
          13,
          7,
          11,
          14,
          7,
          14,
          13,
          6,
          19,
          8,
          15,
          8,
          15,
          10,
          15,
          7,
          11,
          6,
          6,
          10,
          6,
          7,
          7,
          6,
          9,
          14,
          10,
          11,
          8
         ],
         "y": [
          6,
          5,
          8,
          14,
          10,
          15,
          12,
          5,
          18,
          15,
          8,
          12,
          14,
          10,
          16,
          14,
          14,
          10,
          5,
          10,
          14,
          15,
          15,
          13,
          9,
          9,
          12,
          16,
          11,
          12,
          11,
          16,
          16,
          10,
          14,
          7,
          16,
          16,
          12,
          13,
          10,
          12,
          18,
          8,
          10,
          8,
          12,
          19,
          15,
          7,
          13,
          13,
          11,
          10,
          13,
          9,
          15,
          15,
          10,
          16,
          11,
          8,
          10,
          9,
          10,
          15,
          13,
          7,
          9,
          16,
          15,
          10,
          6,
          12,
          12,
          9,
          11,
          11,
          8,
          5,
          12,
          10,
          6,
          15,
          10,
          9,
          7,
          14,
          10,
          6,
          7,
          17,
          6,
          10,
          13,
          10,
          15,
          9,
          14,
          9,
          7,
          17,
          13,
          6,
          18,
          11,
          8,
          18,
          13,
          15,
          19,
          10,
          13,
          19,
          9,
          15,
          13,
          14,
          7,
          13,
          15,
          14,
          13,
          11,
          7,
          13,
          10,
          8,
          4,
          18,
          0,
          0,
          13,
          11,
          0,
          0,
          0,
          0,
          12,
          16,
          9,
          9,
          11,
          14,
          0,
          11,
          7,
          11,
          6,
          9,
          5,
          13,
          10,
          0,
          11,
          8,
          12,
          8,
          15,
          12,
          6,
          9,
          0,
          10,
          8,
          11,
          10,
          15,
          7,
          14,
          5,
          15,
          11,
          7,
          11,
          9,
          13,
          5,
          8,
          10,
          8,
          13,
          17,
          9,
          13,
          12,
          12,
          15,
          7,
          9,
          12,
          8,
          8,
          9,
          14,
          15,
          15,
          9,
          18,
          9,
          16,
          10,
          9,
          6,
          10,
          9,
          7,
          12,
          9,
          7,
          8,
          12,
          13,
          7,
          10,
          15,
          6,
          6,
          7,
          10,
          6,
          5,
          16,
          13,
          13,
          8,
          15,
          11,
          8,
          10,
          13,
          11,
          9,
          13,
          7,
          9,
          13,
          12,
          11,
          7,
          12,
          11,
          0,
          12,
          0,
          18,
          12,
          8,
          5,
          15,
          8,
          10,
          9,
          9,
          12,
          9,
          12,
          11,
          14,
          9,
          18,
          8,
          12,
          9,
          10,
          17,
          9,
          10,
          9,
          0,
          9,
          14,
          11,
          14,
          10,
          12,
          9,
          9,
          8,
          11,
          8,
          9,
          12,
          9,
          9,
          10,
          18,
          12,
          14,
          13,
          11,
          15,
          12,
          18,
          13,
          12,
          9,
          8,
          13,
          15,
          10,
          11,
          12,
          17,
          14,
          12,
          18,
          9,
          12,
          10,
          9,
          12,
          11,
          10,
          13,
          11,
          8,
          10,
          11,
          11,
          13,
          9,
          11,
          14,
          15,
          12,
          15,
          10,
          9,
          14,
          8,
          14,
          0,
          8,
          9,
          15,
          13,
          8,
          15,
          10,
          12,
          10,
          15,
          8,
          10,
          13,
          15,
          10,
          15,
          13,
          7,
          13,
          7,
          8,
          11,
          9,
          13,
          12,
          10,
          16,
          13,
          12,
          11,
          15,
          11,
          10,
          13,
          6,
          10,
          12,
          7,
          12,
          11,
          5,
          18,
          8,
          14,
          9,
          15,
          10,
          14,
          6,
          11,
          5,
          5,
          9,
          5,
          5,
          9,
          5,
          9,
          16,
          8,
          12,
          9
         ],
         "z": [
          6,
          6,
          10,
          15,
          10,
          15,
          11,
          6,
          19,
          15,
          9,
          12,
          14,
          11,
          16,
          14,
          14,
          10,
          5,
          10,
          15,
          15,
          16,
          12,
          8,
          8,
          11,
          15,
          11,
          11,
          12,
          17,
          16,
          12,
          15,
          6,
          18,
          15,
          11,
          13,
          11,
          12,
          18,
          11,
          9,
          6,
          11,
          20,
          14,
          7,
          13,
          13,
          10,
          11,
          13,
          10,
          15,
          15,
          9,
          16,
          11,
          11,
          9,
          9,
          10,
          15,
          12,
          6,
          8,
          16,
          15,
          10,
          5,
          14,
          11,
          10,
          10,
          11,
          10,
          5,
          12,
          11,
          6,
          15,
          10,
          8,
          6,
          14,
          10,
          7,
          8,
          18,
          6,
          10,
          14,
          10,
          15,
          10,
          14,
          8,
          5,
          17,
          14,
          6,
          18,
          11,
          8,
          18,
          13,
          16,
          19,
          10,
          13,
          19,
          9,
          16,
          14,
          13,
          8,
          13,
          15,
          15,
          13,
          13,
          8,
          12,
          11,
          9,
          0,
          18,
          0,
          0,
          12,
          11,
          0,
          0,
          0,
          0,
          12,
          15,
          0,
          9,
          11,
          13,
          0,
          11,
          0,
          11,
          0,
          10,
          0,
          14,
          10,
          0,
          12,
          8,
          13,
          10,
          15,
          12,
          0,
          7,
          0,
          10,
          7,
          12,
          10,
          16,
          0,
          14,
          0,
          16,
          10,
          0,
          9,
          9,
          11,
          6,
          9,
          11,
          8,
          12,
          17,
          8,
          12,
          11,
          11,
          15,
          9,
          10,
          13,
          9,
          8,
          10,
          14,
          15,
          16,
          10,
          18,
          10,
          16,
          10,
          10,
          6,
          11,
          9,
          7,
          13,
          10,
          7,
          8,
          13,
          14,
          8,
          10,
          15,
          4,
          8,
          8,
          10,
          6,
          0,
          17,
          13,
          14,
          7,
          15,
          12,
          9,
          12,
          14,
          11,
          9,
          13,
          6,
          10,
          13,
          12,
          11,
          0,
          12,
          12,
          0,
          12,
          0,
          18,
          13,
          8,
          5,
          15,
          8,
          10,
          8,
          8,
          12,
          8,
          13,
          11,
          14,
          0,
          18,
          8,
          12,
          9,
          0,
          17,
          10,
          11,
          10,
          0,
          9,
          14,
          11,
          14,
          10,
          12,
          9,
          9,
          8,
          10,
          8,
          10,
          12,
          10,
          11,
          11,
          19,
          12,
          14,
          15,
          11,
          15,
          13,
          18,
          14,
          11,
          0,
          8,
          14,
          16,
          11,
          10,
          14,
          18,
          13,
          12,
          18,
          8,
          12,
          10,
          0,
          13,
          11,
          11,
          13,
          11,
          0,
          9,
          10,
          11,
          13,
          9,
          11,
          15,
          15,
          11,
          16,
          10,
          9,
          14,
          8,
          14,
          0,
          0,
          0,
          15,
          13,
          0,
          17,
          10,
          11,
          0,
          15,
          0,
          10,
          14,
          16,
          9,
          15,
          13,
          8,
          13,
          8,
          8,
          11,
          9,
          13,
          11,
          10,
          16,
          13,
          12,
          10,
          15,
          12,
          10,
          13,
          0,
          10,
          11,
          9,
          12,
          11,
          5,
          19,
          10,
          15,
          10,
          15,
          10,
          14,
          7,
          10,
          0,
          5,
          10,
          6,
          0,
          8,
          0,
          9,
          16,
          7,
          10,
          9
         ]
        }
       ],
       "layout": {
        "coloraxis": {
         "colorbar": {
          "title": {
           "text": "absences"
          }
         },
         "colorscale": [
          [
           0,
           "#0d0887"
          ],
          [
           0.1111111111111111,
           "#46039f"
          ],
          [
           0.2222222222222222,
           "#7201a8"
          ],
          [
           0.3333333333333333,
           "#9c179e"
          ],
          [
           0.4444444444444444,
           "#bd3786"
          ],
          [
           0.5555555555555556,
           "#d8576b"
          ],
          [
           0.6666666666666666,
           "#ed7953"
          ],
          [
           0.7777777777777778,
           "#fb9f3a"
          ],
          [
           0.8888888888888888,
           "#fdca26"
          ],
          [
           1,
           "#f0f921"
          ]
         ]
        },
        "legend": {
         "tracegroupgap": 0
        },
        "margin": {
         "t": 60
        },
        "scene": {
         "domain": {
          "x": [
           0,
           1
          ],
          "y": [
           0,
           1
          ]
         },
         "xaxis": {
          "title": {
           "text": "g1"
          }
         },
         "yaxis": {
          "title": {
           "text": "g2"
          }
         },
         "zaxis": {
          "title": {
           "text": "g3"
          }
         }
        },
        "template": {
         "data": {
          "bar": [
           {
            "error_x": {
             "color": "#2a3f5f"
            },
            "error_y": {
             "color": "#2a3f5f"
            },
            "marker": {
             "line": {
              "color": "#E5ECF6",
              "width": 0.5
             }
            },
            "type": "bar"
           }
          ],
          "barpolar": [
           {
            "marker": {
             "line": {
              "color": "#E5ECF6",
              "width": 0.5
             }
            },
            "type": "barpolar"
           }
          ],
          "carpet": [
           {
            "aaxis": {
             "endlinecolor": "#2a3f5f",
             "gridcolor": "white",
             "linecolor": "white",
             "minorgridcolor": "white",
             "startlinecolor": "#2a3f5f"
            },
            "baxis": {
             "endlinecolor": "#2a3f5f",
             "gridcolor": "white",
             "linecolor": "white",
             "minorgridcolor": "white",
             "startlinecolor": "#2a3f5f"
            },
            "type": "carpet"
           }
          ],
          "choropleth": [
           {
            "colorbar": {
             "outlinewidth": 0,
             "ticks": ""
            },
            "type": "choropleth"
           }
          ],
          "contour": [
           {
            "colorbar": {
             "outlinewidth": 0,
             "ticks": ""
            },
            "colorscale": [
             [
              0,
              "#0d0887"
             ],
             [
              0.1111111111111111,
              "#46039f"
             ],
             [
              0.2222222222222222,
              "#7201a8"
             ],
             [
              0.3333333333333333,
              "#9c179e"
             ],
             [
              0.4444444444444444,
              "#bd3786"
             ],
             [
              0.5555555555555556,
              "#d8576b"
             ],
             [
              0.6666666666666666,
              "#ed7953"
             ],
             [
              0.7777777777777778,
              "#fb9f3a"
             ],
             [
              0.8888888888888888,
              "#fdca26"
             ],
             [
              1,
              "#f0f921"
             ]
            ],
            "type": "contour"
           }
          ],
          "contourcarpet": [
           {
            "colorbar": {
             "outlinewidth": 0,
             "ticks": ""
            },
            "type": "contourcarpet"
           }
          ],
          "heatmap": [
           {
            "colorbar": {
             "outlinewidth": 0,
             "ticks": ""
            },
            "colorscale": [
             [
              0,
              "#0d0887"
             ],
             [
              0.1111111111111111,
              "#46039f"
             ],
             [
              0.2222222222222222,
              "#7201a8"
             ],
             [
              0.3333333333333333,
              "#9c179e"
             ],
             [
              0.4444444444444444,
              "#bd3786"
             ],
             [
              0.5555555555555556,
              "#d8576b"
             ],
             [
              0.6666666666666666,
              "#ed7953"
             ],
             [
              0.7777777777777778,
              "#fb9f3a"
             ],
             [
              0.8888888888888888,
              "#fdca26"
             ],
             [
              1,
              "#f0f921"
             ]
            ],
            "type": "heatmap"
           }
          ],
          "heatmapgl": [
           {
            "colorbar": {
             "outlinewidth": 0,
             "ticks": ""
            },
            "colorscale": [
             [
              0,
              "#0d0887"
             ],
             [
              0.1111111111111111,
              "#46039f"
             ],
             [
              0.2222222222222222,
              "#7201a8"
             ],
             [
              0.3333333333333333,
              "#9c179e"
             ],
             [
              0.4444444444444444,
              "#bd3786"
             ],
             [
              0.5555555555555556,
              "#d8576b"
             ],
             [
              0.6666666666666666,
              "#ed7953"
             ],
             [
              0.7777777777777778,
              "#fb9f3a"
             ],
             [
              0.8888888888888888,
              "#fdca26"
             ],
             [
              1,
              "#f0f921"
             ]
            ],
            "type": "heatmapgl"
           }
          ],
          "histogram": [
           {
            "marker": {
             "colorbar": {
              "outlinewidth": 0,
              "ticks": ""
             }
            },
            "type": "histogram"
           }
          ],
          "histogram2d": [
           {
            "colorbar": {
             "outlinewidth": 0,
             "ticks": ""
            },
            "colorscale": [
             [
              0,
              "#0d0887"
             ],
             [
              0.1111111111111111,
              "#46039f"
             ],
             [
              0.2222222222222222,
              "#7201a8"
             ],
             [
              0.3333333333333333,
              "#9c179e"
             ],
             [
              0.4444444444444444,
              "#bd3786"
             ],
             [
              0.5555555555555556,
              "#d8576b"
             ],
             [
              0.6666666666666666,
              "#ed7953"
             ],
             [
              0.7777777777777778,
              "#fb9f3a"
             ],
             [
              0.8888888888888888,
              "#fdca26"
             ],
             [
              1,
              "#f0f921"
             ]
            ],
            "type": "histogram2d"
           }
          ],
          "histogram2dcontour": [
           {
            "colorbar": {
             "outlinewidth": 0,
             "ticks": ""
            },
            "colorscale": [
             [
              0,
              "#0d0887"
             ],
             [
              0.1111111111111111,
              "#46039f"
             ],
             [
              0.2222222222222222,
              "#7201a8"
             ],
             [
              0.3333333333333333,
              "#9c179e"
             ],
             [
              0.4444444444444444,
              "#bd3786"
             ],
             [
              0.5555555555555556,
              "#d8576b"
             ],
             [
              0.6666666666666666,
              "#ed7953"
             ],
             [
              0.7777777777777778,
              "#fb9f3a"
             ],
             [
              0.8888888888888888,
              "#fdca26"
             ],
             [
              1,
              "#f0f921"
             ]
            ],
            "type": "histogram2dcontour"
           }
          ],
          "mesh3d": [
           {
            "colorbar": {
             "outlinewidth": 0,
             "ticks": ""
            },
            "type": "mesh3d"
           }
          ],
          "parcoords": [
           {
            "line": {
             "colorbar": {
              "outlinewidth": 0,
              "ticks": ""
             }
            },
            "type": "parcoords"
           }
          ],
          "pie": [
           {
            "automargin": true,
            "type": "pie"
           }
          ],
          "scatter": [
           {
            "marker": {
             "colorbar": {
              "outlinewidth": 0,
              "ticks": ""
             }
            },
            "type": "scatter"
           }
          ],
          "scatter3d": [
           {
            "line": {
             "colorbar": {
              "outlinewidth": 0,
              "ticks": ""
             }
            },
            "marker": {
             "colorbar": {
              "outlinewidth": 0,
              "ticks": ""
             }
            },
            "type": "scatter3d"
           }
          ],
          "scattercarpet": [
           {
            "marker": {
             "colorbar": {
              "outlinewidth": 0,
              "ticks": ""
             }
            },
            "type": "scattercarpet"
           }
          ],
          "scattergeo": [
           {
            "marker": {
             "colorbar": {
              "outlinewidth": 0,
              "ticks": ""
             }
            },
            "type": "scattergeo"
           }
          ],
          "scattergl": [
           {
            "marker": {
             "colorbar": {
              "outlinewidth": 0,
              "ticks": ""
             }
            },
            "type": "scattergl"
           }
          ],
          "scattermapbox": [
           {
            "marker": {
             "colorbar": {
              "outlinewidth": 0,
              "ticks": ""
             }
            },
            "type": "scattermapbox"
           }
          ],
          "scatterpolar": [
           {
            "marker": {
             "colorbar": {
              "outlinewidth": 0,
              "ticks": ""
             }
            },
            "type": "scatterpolar"
           }
          ],
          "scatterpolargl": [
           {
            "marker": {
             "colorbar": {
              "outlinewidth": 0,
              "ticks": ""
             }
            },
            "type": "scatterpolargl"
           }
          ],
          "scatterternary": [
           {
            "marker": {
             "colorbar": {
              "outlinewidth": 0,
              "ticks": ""
             }
            },
            "type": "scatterternary"
           }
          ],
          "surface": [
           {
            "colorbar": {
             "outlinewidth": 0,
             "ticks": ""
            },
            "colorscale": [
             [
              0,
              "#0d0887"
             ],
             [
              0.1111111111111111,
              "#46039f"
             ],
             [
              0.2222222222222222,
              "#7201a8"
             ],
             [
              0.3333333333333333,
              "#9c179e"
             ],
             [
              0.4444444444444444,
              "#bd3786"
             ],
             [
              0.5555555555555556,
              "#d8576b"
             ],
             [
              0.6666666666666666,
              "#ed7953"
             ],
             [
              0.7777777777777778,
              "#fb9f3a"
             ],
             [
              0.8888888888888888,
              "#fdca26"
             ],
             [
              1,
              "#f0f921"
             ]
            ],
            "type": "surface"
           }
          ],
          "table": [
           {
            "cells": {
             "fill": {
              "color": "#EBF0F8"
             },
             "line": {
              "color": "white"
             }
            },
            "header": {
             "fill": {
              "color": "#C8D4E3"
             },
             "line": {
              "color": "white"
             }
            },
            "type": "table"
           }
          ]
         },
         "layout": {
          "annotationdefaults": {
           "arrowcolor": "#2a3f5f",
           "arrowhead": 0,
           "arrowwidth": 1
          },
          "autotypenumbers": "strict",
          "coloraxis": {
           "colorbar": {
            "outlinewidth": 0,
            "ticks": ""
           }
          },
          "colorscale": {
           "diverging": [
            [
             0,
             "#8e0152"
            ],
            [
             0.1,
             "#c51b7d"
            ],
            [
             0.2,
             "#de77ae"
            ],
            [
             0.3,
             "#f1b6da"
            ],
            [
             0.4,
             "#fde0ef"
            ],
            [
             0.5,
             "#f7f7f7"
            ],
            [
             0.6,
             "#e6f5d0"
            ],
            [
             0.7,
             "#b8e186"
            ],
            [
             0.8,
             "#7fbc41"
            ],
            [
             0.9,
             "#4d9221"
            ],
            [
             1,
             "#276419"
            ]
           ],
           "sequential": [
            [
             0,
             "#0d0887"
            ],
            [
             0.1111111111111111,
             "#46039f"
            ],
            [
             0.2222222222222222,
             "#7201a8"
            ],
            [
             0.3333333333333333,
             "#9c179e"
            ],
            [
             0.4444444444444444,
             "#bd3786"
            ],
            [
             0.5555555555555556,
             "#d8576b"
            ],
            [
             0.6666666666666666,
             "#ed7953"
            ],
            [
             0.7777777777777778,
             "#fb9f3a"
            ],
            [
             0.8888888888888888,
             "#fdca26"
            ],
            [
             1,
             "#f0f921"
            ]
           ],
           "sequentialminus": [
            [
             0,
             "#0d0887"
            ],
            [
             0.1111111111111111,
             "#46039f"
            ],
            [
             0.2222222222222222,
             "#7201a8"
            ],
            [
             0.3333333333333333,
             "#9c179e"
            ],
            [
             0.4444444444444444,
             "#bd3786"
            ],
            [
             0.5555555555555556,
             "#d8576b"
            ],
            [
             0.6666666666666666,
             "#ed7953"
            ],
            [
             0.7777777777777778,
             "#fb9f3a"
            ],
            [
             0.8888888888888888,
             "#fdca26"
            ],
            [
             1,
             "#f0f921"
            ]
           ]
          },
          "colorway": [
           "#636efa",
           "#EF553B",
           "#00cc96",
           "#ab63fa",
           "#FFA15A",
           "#19d3f3",
           "#FF6692",
           "#B6E880",
           "#FF97FF",
           "#FECB52"
          ],
          "font": {
           "color": "#2a3f5f"
          },
          "geo": {
           "bgcolor": "white",
           "lakecolor": "white",
           "landcolor": "#E5ECF6",
           "showlakes": true,
           "showland": true,
           "subunitcolor": "white"
          },
          "hoverlabel": {
           "align": "left"
          },
          "hovermode": "closest",
          "mapbox": {
           "style": "light"
          },
          "paper_bgcolor": "white",
          "plot_bgcolor": "#E5ECF6",
          "polar": {
           "angularaxis": {
            "gridcolor": "white",
            "linecolor": "white",
            "ticks": ""
           },
           "bgcolor": "#E5ECF6",
           "radialaxis": {
            "gridcolor": "white",
            "linecolor": "white",
            "ticks": ""
           }
          },
          "scene": {
           "xaxis": {
            "backgroundcolor": "#E5ECF6",
            "gridcolor": "white",
            "gridwidth": 2,
            "linecolor": "white",
            "showbackground": true,
            "ticks": "",
            "zerolinecolor": "white"
           },
           "yaxis": {
            "backgroundcolor": "#E5ECF6",
            "gridcolor": "white",
            "gridwidth": 2,
            "linecolor": "white",
            "showbackground": true,
            "ticks": "",
            "zerolinecolor": "white"
           },
           "zaxis": {
            "backgroundcolor": "#E5ECF6",
            "gridcolor": "white",
            "gridwidth": 2,
            "linecolor": "white",
            "showbackground": true,
            "ticks": "",
            "zerolinecolor": "white"
           }
          },
          "shapedefaults": {
           "line": {
            "color": "#2a3f5f"
           }
          },
          "ternary": {
           "aaxis": {
            "gridcolor": "white",
            "linecolor": "white",
            "ticks": ""
           },
           "baxis": {
            "gridcolor": "white",
            "linecolor": "white",
            "ticks": ""
           },
           "bgcolor": "#E5ECF6",
           "caxis": {
            "gridcolor": "white",
            "linecolor": "white",
            "ticks": ""
           }
          },
          "title": {
           "x": 0.05
          },
          "xaxis": {
           "automargin": true,
           "gridcolor": "white",
           "linecolor": "white",
           "ticks": "",
           "title": {
            "standoff": 15
           },
           "zerolinecolor": "white",
           "zerolinewidth": 2
          },
          "yaxis": {
           "automargin": true,
           "gridcolor": "white",
           "linecolor": "white",
           "ticks": "",
           "title": {
            "standoff": 15
           },
           "zerolinecolor": "white",
           "zerolinewidth": 2
          }
         }
        }
       }
      },
      "text/html": [
       "<div>                            <div id=\"7d77e229-20c5-4ec7-afe0-4683e03531b8\" class=\"plotly-graph-div\" style=\"height:525px; width:100%;\"></div>            <script type=\"text/javascript\">                require([\"plotly\"], function(Plotly) {                    window.PLOTLYENV=window.PLOTLYENV || {};                                    if (document.getElementById(\"7d77e229-20c5-4ec7-afe0-4683e03531b8\")) {                    Plotly.newPlot(                        \"7d77e229-20c5-4ec7-afe0-4683e03531b8\",                        [{\"hovertemplate\": \"g1=%{x}<br>g2=%{y}<br>g3=%{z}<br>absences=%{marker.color}<extra></extra>\", \"legendgroup\": \"\", \"marker\": {\"color\": [6, 4, 10, 2, 4, 10, 0, 6, 0, 0, 0, 4, 2, 2, 0, 4, 6, 4, 16, 4, 0, 0, 2, 0, 2, 14, 2, 4, 4, 16, 0, 0, 0, 0, 0, 0, 2, 7, 2, 8, 25, 8, 2, 0, 14, 8, 12, 4, 2, 2, 2, 2, 6, 0, 6, 8, 0, 4, 2, 2, 6, 6, 4, 2, 0, 2, 4, 4, 2, 12, 0, 0, 2, 2, 54, 6, 8, 0, 2, 12, 2, 4, 10, 4, 2, 6, 4, 4, 12, 18, 0, 4, 4, 0, 6, 2, 2, 2, 6, 0, 14, 0, 4, 26, 0, 10, 8, 2, 6, 4, 6, 0, 6, 10, 8, 2, 2, 0, 20, 6, 2, 6, 2, 18, 0, 0, 0, 2, 0, 8, 0, 0, 12, 16, 0, 0, 0, 0, 0, 0, 0, 8, 2, 2, 0, 0, 0, 2, 0, 0, 0, 6, 8, 0, 0, 2, 8, 6, 2, 4, 0, 6, 0, 2, 0, 16, 4, 0, 0, 0, 0, 2, 0, 0, 4, 4, 2, 4, 10, 4, 10, 2, 0, 56, 14, 12, 2, 0, 6, 4, 10, 0, 12, 8, 0, 0, 4, 8, 24, 0, 2, 6, 4, 18, 6, 28, 5, 10, 6, 6, 10, 13, 0, 15, 12, 2, 22, 13, 3, 4, 2, 0, 2, 0, 0, 16, 10, 2, 14, 10, 14, 4, 14, 2, 18, 10, 4, 20, 2, 0, 14, 2, 0, 0, 0, 6, 4, 16, 8, 0, 0, 6, 4, 0, 0, 2, 6, 12, 8, 0, 21, 2, 1, 4, 0, 13, 2, 8, 10, 0, 15, 4, 2, 2, 2, 6, 75, 22, 15, 8, 30, 19, 1, 4, 4, 2, 5, 6, 6, 9, 11, 0, 12, 6, 8, 4, 0, 10, 0, 5, 14, 0, 0, 0, 20, 8, 0, 38, 0, 18, 0, 20, 3, 22, 14, 40, 0, 9, 0, 2, 23, 12, 3, 1, 0, 3, 3, 8, 7, 4, 2, 7, 0, 0, 0, 16, 12, 0, 7, 4, 4, 0, 11, 0, 4, 7, 9, 0, 0, 10, 8, 2, 7, 4, 4, 0, 4, 2, 4, 0, 0, 2, 0, 0, 0, 4, 0, 0, 0, 10, 4, 3, 8, 14, 0, 2, 4, 4, 0, 17, 4, 5, 2, 0, 14, 2, 7, 0, 0, 0, 11, 3, 3, 0, 5], \"coloraxis\": \"coloraxis\", \"symbol\": \"circle\"}, \"mode\": \"markers\", \"name\": \"\", \"scene\": \"scene\", \"showlegend\": false, \"type\": \"scatter3d\", \"x\": [5, 5, 7, 15, 6, 15, 12, 6, 16, 14, 10, 10, 14, 10, 14, 14, 13, 8, 6, 8, 13, 12, 15, 13, 10, 6, 12, 15, 11, 10, 9, 17, 17, 8, 12, 8, 15, 15, 12, 14, 7, 12, 19, 8, 10, 8, 11, 19, 15, 7, 12, 11, 11, 8, 10, 8, 14, 14, 9, 15, 10, 10, 8, 10, 10, 16, 13, 7, 8, 16, 13, 10, 8, 12, 11, 9, 11, 11, 8, 5, 10, 11, 7, 15, 9, 7, 8, 13, 11, 8, 7, 16, 7, 11, 11, 7, 11, 8, 11, 7, 7, 16, 10, 7, 16, 10, 7, 16, 10, 14, 18, 7, 10, 18, 9, 15, 11, 13, 9, 14, 16, 16, 13, 14, 8, 13, 7, 7, 7, 18, 12, 8, 10, 12, 9, 11, 10, 4, 14, 16, 7, 9, 9, 14, 5, 8, 6, 10, 7, 8, 6, 12, 10, 5, 11, 11, 16, 9, 17, 10, 7, 5, 7, 10, 5, 12, 10, 14, 6, 14, 6, 13, 13, 8, 10, 10, 13, 6, 10, 10, 9, 12, 16, 9, 12, 12, 11, 15, 8, 8, 11, 8, 7, 8, 13, 14, 17, 9, 18, 9, 16, 8, 9, 7, 10, 10, 7, 11, 9, 7, 8, 12, 12, 6, 8, 14, 6, 6, 7, 9, 6, 6, 16, 12, 13, 9, 16, 12, 10, 12, 13, 11, 11, 14, 9, 11, 14, 13, 13, 7, 12, 10, 6, 13, 7, 18, 12, 6, 3, 13, 6, 7, 6, 8, 8, 7, 14, 11, 15, 10, 17, 8, 13, 10, 9, 17, 9, 12, 10, 6, 9, 15, 11, 15, 10, 12, 10, 9, 9, 10, 8, 11, 12, 8, 10, 12, 18, 13, 15, 15, 12, 15, 12, 18, 14, 14, 10, 10, 14, 16, 12, 11, 15, 17, 15, 14, 17, 8, 15, 12, 9, 14, 13, 13, 15, 13, 8, 9, 11, 11, 13, 11, 11, 12, 16, 9, 14, 11, 10, 14, 9, 12, 7, 8, 10, 16, 14, 7, 16, 9, 11, 10, 16, 9, 11, 13, 16, 10, 13, 11, 8, 13, 8, 8, 13, 10, 12, 12, 10, 18, 13, 13, 11, 16, 12, 10, 13, 7, 11, 14, 7, 14, 13, 6, 19, 8, 15, 8, 15, 10, 15, 7, 11, 6, 6, 10, 6, 7, 7, 6, 9, 14, 10, 11, 8], \"y\": [6, 5, 8, 14, 10, 15, 12, 5, 18, 15, 8, 12, 14, 10, 16, 14, 14, 10, 5, 10, 14, 15, 15, 13, 9, 9, 12, 16, 11, 12, 11, 16, 16, 10, 14, 7, 16, 16, 12, 13, 10, 12, 18, 8, 10, 8, 12, 19, 15, 7, 13, 13, 11, 10, 13, 9, 15, 15, 10, 16, 11, 8, 10, 9, 10, 15, 13, 7, 9, 16, 15, 10, 6, 12, 12, 9, 11, 11, 8, 5, 12, 10, 6, 15, 10, 9, 7, 14, 10, 6, 7, 17, 6, 10, 13, 10, 15, 9, 14, 9, 7, 17, 13, 6, 18, 11, 8, 18, 13, 15, 19, 10, 13, 19, 9, 15, 13, 14, 7, 13, 15, 14, 13, 11, 7, 13, 10, 8, 4, 18, 0, 0, 13, 11, 0, 0, 0, 0, 12, 16, 9, 9, 11, 14, 0, 11, 7, 11, 6, 9, 5, 13, 10, 0, 11, 8, 12, 8, 15, 12, 6, 9, 0, 10, 8, 11, 10, 15, 7, 14, 5, 15, 11, 7, 11, 9, 13, 5, 8, 10, 8, 13, 17, 9, 13, 12, 12, 15, 7, 9, 12, 8, 8, 9, 14, 15, 15, 9, 18, 9, 16, 10, 9, 6, 10, 9, 7, 12, 9, 7, 8, 12, 13, 7, 10, 15, 6, 6, 7, 10, 6, 5, 16, 13, 13, 8, 15, 11, 8, 10, 13, 11, 9, 13, 7, 9, 13, 12, 11, 7, 12, 11, 0, 12, 0, 18, 12, 8, 5, 15, 8, 10, 9, 9, 12, 9, 12, 11, 14, 9, 18, 8, 12, 9, 10, 17, 9, 10, 9, 0, 9, 14, 11, 14, 10, 12, 9, 9, 8, 11, 8, 9, 12, 9, 9, 10, 18, 12, 14, 13, 11, 15, 12, 18, 13, 12, 9, 8, 13, 15, 10, 11, 12, 17, 14, 12, 18, 9, 12, 10, 9, 12, 11, 10, 13, 11, 8, 10, 11, 11, 13, 9, 11, 14, 15, 12, 15, 10, 9, 14, 8, 14, 0, 8, 9, 15, 13, 8, 15, 10, 12, 10, 15, 8, 10, 13, 15, 10, 15, 13, 7, 13, 7, 8, 11, 9, 13, 12, 10, 16, 13, 12, 11, 15, 11, 10, 13, 6, 10, 12, 7, 12, 11, 5, 18, 8, 14, 9, 15, 10, 14, 6, 11, 5, 5, 9, 5, 5, 9, 5, 9, 16, 8, 12, 9], \"z\": [6, 6, 10, 15, 10, 15, 11, 6, 19, 15, 9, 12, 14, 11, 16, 14, 14, 10, 5, 10, 15, 15, 16, 12, 8, 8, 11, 15, 11, 11, 12, 17, 16, 12, 15, 6, 18, 15, 11, 13, 11, 12, 18, 11, 9, 6, 11, 20, 14, 7, 13, 13, 10, 11, 13, 10, 15, 15, 9, 16, 11, 11, 9, 9, 10, 15, 12, 6, 8, 16, 15, 10, 5, 14, 11, 10, 10, 11, 10, 5, 12, 11, 6, 15, 10, 8, 6, 14, 10, 7, 8, 18, 6, 10, 14, 10, 15, 10, 14, 8, 5, 17, 14, 6, 18, 11, 8, 18, 13, 16, 19, 10, 13, 19, 9, 16, 14, 13, 8, 13, 15, 15, 13, 13, 8, 12, 11, 9, 0, 18, 0, 0, 12, 11, 0, 0, 0, 0, 12, 15, 0, 9, 11, 13, 0, 11, 0, 11, 0, 10, 0, 14, 10, 0, 12, 8, 13, 10, 15, 12, 0, 7, 0, 10, 7, 12, 10, 16, 0, 14, 0, 16, 10, 0, 9, 9, 11, 6, 9, 11, 8, 12, 17, 8, 12, 11, 11, 15, 9, 10, 13, 9, 8, 10, 14, 15, 16, 10, 18, 10, 16, 10, 10, 6, 11, 9, 7, 13, 10, 7, 8, 13, 14, 8, 10, 15, 4, 8, 8, 10, 6, 0, 17, 13, 14, 7, 15, 12, 9, 12, 14, 11, 9, 13, 6, 10, 13, 12, 11, 0, 12, 12, 0, 12, 0, 18, 13, 8, 5, 15, 8, 10, 8, 8, 12, 8, 13, 11, 14, 0, 18, 8, 12, 9, 0, 17, 10, 11, 10, 0, 9, 14, 11, 14, 10, 12, 9, 9, 8, 10, 8, 10, 12, 10, 11, 11, 19, 12, 14, 15, 11, 15, 13, 18, 14, 11, 0, 8, 14, 16, 11, 10, 14, 18, 13, 12, 18, 8, 12, 10, 0, 13, 11, 11, 13, 11, 0, 9, 10, 11, 13, 9, 11, 15, 15, 11, 16, 10, 9, 14, 8, 14, 0, 0, 0, 15, 13, 0, 17, 10, 11, 0, 15, 0, 10, 14, 16, 9, 15, 13, 8, 13, 8, 8, 11, 9, 13, 11, 10, 16, 13, 12, 10, 15, 12, 10, 13, 0, 10, 11, 9, 12, 11, 5, 19, 10, 15, 10, 15, 10, 14, 7, 10, 0, 5, 10, 6, 0, 8, 0, 9, 16, 7, 10, 9]}],                        {\"coloraxis\": {\"colorbar\": {\"title\": {\"text\": \"absences\"}}, \"colorscale\": [[0.0, \"#0d0887\"], [0.1111111111111111, \"#46039f\"], [0.2222222222222222, \"#7201a8\"], [0.3333333333333333, \"#9c179e\"], [0.4444444444444444, \"#bd3786\"], [0.5555555555555556, \"#d8576b\"], [0.6666666666666666, \"#ed7953\"], [0.7777777777777778, \"#fb9f3a\"], [0.8888888888888888, \"#fdca26\"], [1.0, \"#f0f921\"]]}, \"legend\": {\"tracegroupgap\": 0}, \"margin\": {\"t\": 60}, \"scene\": {\"domain\": {\"x\": [0.0, 1.0], \"y\": [0.0, 1.0]}, \"xaxis\": {\"title\": {\"text\": \"g1\"}}, \"yaxis\": {\"title\": {\"text\": \"g2\"}}, \"zaxis\": {\"title\": {\"text\": \"g3\"}}}, \"template\": {\"data\": {\"bar\": [{\"error_x\": {\"color\": \"#2a3f5f\"}, \"error_y\": {\"color\": \"#2a3f5f\"}, \"marker\": {\"line\": {\"color\": \"#E5ECF6\", \"width\": 0.5}}, \"type\": \"bar\"}], \"barpolar\": [{\"marker\": {\"line\": {\"color\": \"#E5ECF6\", \"width\": 0.5}}, \"type\": \"barpolar\"}], \"carpet\": [{\"aaxis\": {\"endlinecolor\": \"#2a3f5f\", \"gridcolor\": \"white\", \"linecolor\": \"white\", \"minorgridcolor\": \"white\", \"startlinecolor\": \"#2a3f5f\"}, \"baxis\": {\"endlinecolor\": \"#2a3f5f\", \"gridcolor\": \"white\", \"linecolor\": \"white\", \"minorgridcolor\": \"white\", \"startlinecolor\": \"#2a3f5f\"}, \"type\": \"carpet\"}], \"choropleth\": [{\"colorbar\": {\"outlinewidth\": 0, \"ticks\": \"\"}, \"type\": \"choropleth\"}], \"contour\": [{\"colorbar\": {\"outlinewidth\": 0, \"ticks\": \"\"}, \"colorscale\": [[0.0, \"#0d0887\"], [0.1111111111111111, \"#46039f\"], [0.2222222222222222, \"#7201a8\"], [0.3333333333333333, \"#9c179e\"], [0.4444444444444444, \"#bd3786\"], [0.5555555555555556, \"#d8576b\"], [0.6666666666666666, \"#ed7953\"], [0.7777777777777778, \"#fb9f3a\"], [0.8888888888888888, \"#fdca26\"], [1.0, \"#f0f921\"]], \"type\": \"contour\"}], \"contourcarpet\": [{\"colorbar\": {\"outlinewidth\": 0, \"ticks\": \"\"}, \"type\": \"contourcarpet\"}], \"heatmap\": [{\"colorbar\": {\"outlinewidth\": 0, \"ticks\": \"\"}, \"colorscale\": [[0.0, \"#0d0887\"], [0.1111111111111111, \"#46039f\"], [0.2222222222222222, \"#7201a8\"], [0.3333333333333333, \"#9c179e\"], [0.4444444444444444, \"#bd3786\"], [0.5555555555555556, \"#d8576b\"], [0.6666666666666666, \"#ed7953\"], [0.7777777777777778, \"#fb9f3a\"], [0.8888888888888888, \"#fdca26\"], [1.0, \"#f0f921\"]], \"type\": \"heatmap\"}], \"heatmapgl\": [{\"colorbar\": {\"outlinewidth\": 0, \"ticks\": \"\"}, \"colorscale\": [[0.0, \"#0d0887\"], [0.1111111111111111, \"#46039f\"], [0.2222222222222222, \"#7201a8\"], [0.3333333333333333, \"#9c179e\"], [0.4444444444444444, \"#bd3786\"], [0.5555555555555556, \"#d8576b\"], [0.6666666666666666, \"#ed7953\"], [0.7777777777777778, \"#fb9f3a\"], [0.8888888888888888, \"#fdca26\"], [1.0, \"#f0f921\"]], \"type\": \"heatmapgl\"}], \"histogram\": [{\"marker\": {\"colorbar\": {\"outlinewidth\": 0, \"ticks\": \"\"}}, \"type\": \"histogram\"}], \"histogram2d\": [{\"colorbar\": {\"outlinewidth\": 0, \"ticks\": \"\"}, \"colorscale\": [[0.0, \"#0d0887\"], [0.1111111111111111, \"#46039f\"], [0.2222222222222222, \"#7201a8\"], [0.3333333333333333, \"#9c179e\"], [0.4444444444444444, \"#bd3786\"], [0.5555555555555556, \"#d8576b\"], [0.6666666666666666, \"#ed7953\"], [0.7777777777777778, \"#fb9f3a\"], [0.8888888888888888, \"#fdca26\"], [1.0, \"#f0f921\"]], \"type\": \"histogram2d\"}], \"histogram2dcontour\": [{\"colorbar\": {\"outlinewidth\": 0, \"ticks\": \"\"}, \"colorscale\": [[0.0, \"#0d0887\"], [0.1111111111111111, \"#46039f\"], [0.2222222222222222, \"#7201a8\"], [0.3333333333333333, \"#9c179e\"], [0.4444444444444444, \"#bd3786\"], [0.5555555555555556, \"#d8576b\"], [0.6666666666666666, \"#ed7953\"], [0.7777777777777778, \"#fb9f3a\"], [0.8888888888888888, \"#fdca26\"], [1.0, \"#f0f921\"]], \"type\": \"histogram2dcontour\"}], \"mesh3d\": [{\"colorbar\": {\"outlinewidth\": 0, \"ticks\": \"\"}, \"type\": \"mesh3d\"}], \"parcoords\": [{\"line\": {\"colorbar\": {\"outlinewidth\": 0, \"ticks\": \"\"}}, \"type\": \"parcoords\"}], \"pie\": [{\"automargin\": true, \"type\": \"pie\"}], \"scatter\": [{\"marker\": {\"colorbar\": {\"outlinewidth\": 0, \"ticks\": \"\"}}, \"type\": \"scatter\"}], \"scatter3d\": [{\"line\": {\"colorbar\": {\"outlinewidth\": 0, \"ticks\": \"\"}}, \"marker\": {\"colorbar\": {\"outlinewidth\": 0, \"ticks\": \"\"}}, \"type\": \"scatter3d\"}], \"scattercarpet\": [{\"marker\": {\"colorbar\": {\"outlinewidth\": 0, \"ticks\": \"\"}}, \"type\": \"scattercarpet\"}], \"scattergeo\": [{\"marker\": {\"colorbar\": {\"outlinewidth\": 0, \"ticks\": \"\"}}, \"type\": \"scattergeo\"}], \"scattergl\": [{\"marker\": {\"colorbar\": {\"outlinewidth\": 0, \"ticks\": \"\"}}, \"type\": \"scattergl\"}], \"scattermapbox\": [{\"marker\": {\"colorbar\": {\"outlinewidth\": 0, \"ticks\": \"\"}}, \"type\": \"scattermapbox\"}], \"scatterpolar\": [{\"marker\": {\"colorbar\": {\"outlinewidth\": 0, \"ticks\": \"\"}}, \"type\": \"scatterpolar\"}], \"scatterpolargl\": [{\"marker\": {\"colorbar\": {\"outlinewidth\": 0, \"ticks\": \"\"}}, \"type\": \"scatterpolargl\"}], \"scatterternary\": [{\"marker\": {\"colorbar\": {\"outlinewidth\": 0, \"ticks\": \"\"}}, \"type\": \"scatterternary\"}], \"surface\": [{\"colorbar\": {\"outlinewidth\": 0, \"ticks\": \"\"}, \"colorscale\": [[0.0, \"#0d0887\"], [0.1111111111111111, \"#46039f\"], [0.2222222222222222, \"#7201a8\"], [0.3333333333333333, \"#9c179e\"], [0.4444444444444444, \"#bd3786\"], [0.5555555555555556, \"#d8576b\"], [0.6666666666666666, \"#ed7953\"], [0.7777777777777778, \"#fb9f3a\"], [0.8888888888888888, \"#fdca26\"], [1.0, \"#f0f921\"]], \"type\": \"surface\"}], \"table\": [{\"cells\": {\"fill\": {\"color\": \"#EBF0F8\"}, \"line\": {\"color\": \"white\"}}, \"header\": {\"fill\": {\"color\": \"#C8D4E3\"}, \"line\": {\"color\": \"white\"}}, \"type\": \"table\"}]}, \"layout\": {\"annotationdefaults\": {\"arrowcolor\": \"#2a3f5f\", \"arrowhead\": 0, \"arrowwidth\": 1}, \"autotypenumbers\": \"strict\", \"coloraxis\": {\"colorbar\": {\"outlinewidth\": 0, \"ticks\": \"\"}}, \"colorscale\": {\"diverging\": [[0, \"#8e0152\"], [0.1, \"#c51b7d\"], [0.2, \"#de77ae\"], [0.3, \"#f1b6da\"], [0.4, \"#fde0ef\"], [0.5, \"#f7f7f7\"], [0.6, \"#e6f5d0\"], [0.7, \"#b8e186\"], [0.8, \"#7fbc41\"], [0.9, \"#4d9221\"], [1, \"#276419\"]], \"sequential\": [[0.0, \"#0d0887\"], [0.1111111111111111, \"#46039f\"], [0.2222222222222222, \"#7201a8\"], [0.3333333333333333, \"#9c179e\"], [0.4444444444444444, \"#bd3786\"], [0.5555555555555556, \"#d8576b\"], [0.6666666666666666, \"#ed7953\"], [0.7777777777777778, \"#fb9f3a\"], [0.8888888888888888, \"#fdca26\"], [1.0, \"#f0f921\"]], \"sequentialminus\": [[0.0, \"#0d0887\"], [0.1111111111111111, \"#46039f\"], [0.2222222222222222, \"#7201a8\"], [0.3333333333333333, \"#9c179e\"], [0.4444444444444444, \"#bd3786\"], [0.5555555555555556, \"#d8576b\"], [0.6666666666666666, \"#ed7953\"], [0.7777777777777778, \"#fb9f3a\"], [0.8888888888888888, \"#fdca26\"], [1.0, \"#f0f921\"]]}, \"colorway\": [\"#636efa\", \"#EF553B\", \"#00cc96\", \"#ab63fa\", \"#FFA15A\", \"#19d3f3\", \"#FF6692\", \"#B6E880\", \"#FF97FF\", \"#FECB52\"], \"font\": {\"color\": \"#2a3f5f\"}, \"geo\": {\"bgcolor\": \"white\", \"lakecolor\": \"white\", \"landcolor\": \"#E5ECF6\", \"showlakes\": true, \"showland\": true, \"subunitcolor\": \"white\"}, \"hoverlabel\": {\"align\": \"left\"}, \"hovermode\": \"closest\", \"mapbox\": {\"style\": \"light\"}, \"paper_bgcolor\": \"white\", \"plot_bgcolor\": \"#E5ECF6\", \"polar\": {\"angularaxis\": {\"gridcolor\": \"white\", \"linecolor\": \"white\", \"ticks\": \"\"}, \"bgcolor\": \"#E5ECF6\", \"radialaxis\": {\"gridcolor\": \"white\", \"linecolor\": \"white\", \"ticks\": \"\"}}, \"scene\": {\"xaxis\": {\"backgroundcolor\": \"#E5ECF6\", \"gridcolor\": \"white\", \"gridwidth\": 2, \"linecolor\": \"white\", \"showbackground\": true, \"ticks\": \"\", \"zerolinecolor\": \"white\"}, \"yaxis\": {\"backgroundcolor\": \"#E5ECF6\", \"gridcolor\": \"white\", \"gridwidth\": 2, \"linecolor\": \"white\", \"showbackground\": true, \"ticks\": \"\", \"zerolinecolor\": \"white\"}, \"zaxis\": {\"backgroundcolor\": \"#E5ECF6\", \"gridcolor\": \"white\", \"gridwidth\": 2, \"linecolor\": \"white\", \"showbackground\": true, \"ticks\": \"\", \"zerolinecolor\": \"white\"}}, \"shapedefaults\": {\"line\": {\"color\": \"#2a3f5f\"}}, \"ternary\": {\"aaxis\": {\"gridcolor\": \"white\", \"linecolor\": \"white\", \"ticks\": \"\"}, \"baxis\": {\"gridcolor\": \"white\", \"linecolor\": \"white\", \"ticks\": \"\"}, \"bgcolor\": \"#E5ECF6\", \"caxis\": {\"gridcolor\": \"white\", \"linecolor\": \"white\", \"ticks\": \"\"}}, \"title\": {\"x\": 0.05}, \"xaxis\": {\"automargin\": true, \"gridcolor\": \"white\", \"linecolor\": \"white\", \"ticks\": \"\", \"title\": {\"standoff\": 15}, \"zerolinecolor\": \"white\", \"zerolinewidth\": 2}, \"yaxis\": {\"automargin\": true, \"gridcolor\": \"white\", \"linecolor\": \"white\", \"ticks\": \"\", \"title\": {\"standoff\": 15}, \"zerolinecolor\": \"white\", \"zerolinewidth\": 2}}}},                        {\"responsive\": true}                    ).then(function(){\n",
       "                            \n",
       "var gd = document.getElementById('7d77e229-20c5-4ec7-afe0-4683e03531b8');\n",
       "var x = new MutationObserver(function (mutations, observer) {{\n",
       "        var display = window.getComputedStyle(gd).display;\n",
       "        if (!display || display === 'none') {{\n",
       "            console.log([gd, 'removed!']);\n",
       "            Plotly.purge(gd);\n",
       "            observer.disconnect();\n",
       "        }}\n",
       "}});\n",
       "\n",
       "// Listen for the removal of the full notebook cells\n",
       "var notebookContainer = gd.closest('#notebook-container');\n",
       "if (notebookContainer) {{\n",
       "    x.observe(notebookContainer, {childList: true});\n",
       "}}\n",
       "\n",
       "// Listen for the clearing of the current output cell\n",
       "var outputEl = gd.closest('.output');\n",
       "if (outputEl) {{\n",
       "    x.observe(outputEl, {childList: true});\n",
       "}}\n",
       "\n",
       "                        })                };                });            </script>        </div>"
      ]
     },
     "metadata": {},
     "output_type": "display_data"
    }
   ],
   "source": [
    "## 2. Preprocessing\n",
    "### 2.1 Diagnose Dataset\n",
    "# There's nothing missing\n",
    "import plotly.express as px\n",
    " \n",
    "# load in iris data\n",
    "df = data\n",
    " \n",
    "# create 3D scatter plot\n",
    "fig = px.scatter_3d(df, x='g1', y='g2', z='g3', color='absences')\n",
    "fig.show()"
   ]
  },
  {
   "cell_type": "code",
   "execution_count": 60,
   "id": "6cdcf64e",
   "metadata": {},
   "outputs": [
    {
     "data": {
      "application/vnd.plotly.v1+json": {
       "config": {
        "plotlyServerURL": "https://plot.ly"
       },
       "data": [
        {
         "hovertemplate": "g1=%{x}<br>g2=%{y}<br>g3=%{z}<br>studytime=%{marker.color}<extra></extra>",
         "legendgroup": "",
         "marker": {
          "color": [
           2,
           2,
           2,
           3,
           2,
           2,
           2,
           2,
           2,
           2,
           2,
           3,
           1,
           2,
           3,
           1,
           3,
           2,
           1,
           1,
           2,
           1,
           2,
           2,
           3,
           1,
           1,
           1,
           2,
           2,
           2,
           2,
           2,
           2,
           1,
           1,
           3,
           3,
           3,
           1,
           2,
           1,
           2,
           1,
           2,
           2,
           2,
           4,
           2,
           2,
           2,
           2,
           1,
           1,
           1,
           2,
           2,
           2,
           2,
           2,
           2,
           1,
           2,
           3,
           2,
           2,
           4,
           4,
           2,
           4,
           4,
           4,
           2,
           1,
           2,
           2,
           4,
           4,
           1,
           2,
           1,
           3,
           2,
           2,
           2,
           2,
           2,
           3,
           2,
           2,
           3,
           1,
           2,
           2,
           4,
           4,
           1,
           2,
           1,
           3,
           1,
           3,
           1,
           2,
           2,
           4,
           4,
           3,
           4,
           3,
           1,
           3,
           2,
           1,
           2,
           2,
           2,
           1,
           2,
           1,
           2,
           4,
           2,
           1,
           2,
           1,
           2,
           2,
           1,
           1,
           3,
           1,
           1,
           1,
           2,
           3,
           2,
           1,
           2,
           1,
           4,
           1,
           3,
           1,
           1,
           2,
           2,
           2,
           1,
           1,
           1,
           1,
           3,
           1,
           1,
           2,
           1,
           1,
           1,
           2,
           1,
           2,
           1,
           1,
           2,
           1,
           2,
           2,
           2,
           2,
           1,
           2,
           2,
           2,
           2,
           2,
           2,
           2,
           1,
           2,
           2,
           2,
           2,
           2,
           2,
           2,
           1,
           2,
           2,
           2,
           2,
           2,
           2,
           1,
           1,
           2,
           1,
           1,
           1,
           2,
           2,
           2,
           2,
           1,
           4,
           3,
           2,
           2,
           1,
           3,
           4,
           2,
           2,
           2,
           1,
           2,
           2,
           2,
           1,
           3,
           2,
           3,
           2,
           2,
           3,
           2,
           2,
           2,
           2,
           3,
           2,
           2,
           2,
           2,
           2,
           3,
           2,
           1,
           2,
           2,
           2,
           2,
           1,
           1,
           3,
           1,
           1,
           1,
           2,
           1,
           1,
           2,
           1,
           1,
           1,
           1,
           4,
           2,
           2,
           4,
           2,
           2,
           3,
           3,
           3,
           2,
           2,
           2,
           2,
           2,
           2,
           4,
           2,
           2,
           2,
           2,
           2,
           1,
           2,
           1,
           1,
           1,
           4,
           2,
           2,
           2,
           3,
           3,
           3,
           2,
           2,
           3,
           2,
           4,
           3,
           1,
           2,
           2,
           4,
           1,
           2,
           1,
           3,
           4,
           2,
           2,
           1,
           1,
           2,
           2,
           2,
           2,
           2,
           2,
           3,
           3,
           2,
           3,
           3,
           2,
           2,
           2,
           3,
           3,
           3,
           3,
           1,
           1,
           3,
           3,
           4,
           3,
           2,
           2,
           4,
           3,
           3,
           2,
           4,
           2,
           3,
           2,
           2,
           2,
           3,
           3,
           3,
           3,
           3,
           1,
           2,
           2,
           1,
           1,
           2,
           2,
           2,
           2,
           1,
           3,
           2,
           2,
           2,
           2,
           2,
           2,
           3,
           1,
           1,
           2,
           2,
           1,
           3,
           1,
           3,
           3,
           3,
           2,
           2,
           2,
           2,
           1,
           2,
           1,
           1,
           3,
           1,
           3,
           2,
           2,
           2,
           1,
           1,
           1,
           1
          ],
          "coloraxis": "coloraxis",
          "symbol": "circle"
         },
         "mode": "markers",
         "name": "",
         "scene": "scene",
         "showlegend": false,
         "type": "scatter3d",
         "x": [
          5,
          5,
          7,
          15,
          6,
          15,
          12,
          6,
          16,
          14,
          10,
          10,
          14,
          10,
          14,
          14,
          13,
          8,
          6,
          8,
          13,
          12,
          15,
          13,
          10,
          6,
          12,
          15,
          11,
          10,
          9,
          17,
          17,
          8,
          12,
          8,
          15,
          15,
          12,
          14,
          7,
          12,
          19,
          8,
          10,
          8,
          11,
          19,
          15,
          7,
          12,
          11,
          11,
          8,
          10,
          8,
          14,
          14,
          9,
          15,
          10,
          10,
          8,
          10,
          10,
          16,
          13,
          7,
          8,
          16,
          13,
          10,
          8,
          12,
          11,
          9,
          11,
          11,
          8,
          5,
          10,
          11,
          7,
          15,
          9,
          7,
          8,
          13,
          11,
          8,
          7,
          16,
          7,
          11,
          11,
          7,
          11,
          8,
          11,
          7,
          7,
          16,
          10,
          7,
          16,
          10,
          7,
          16,
          10,
          14,
          18,
          7,
          10,
          18,
          9,
          15,
          11,
          13,
          9,
          14,
          16,
          16,
          13,
          14,
          8,
          13,
          7,
          7,
          7,
          18,
          12,
          8,
          10,
          12,
          9,
          11,
          10,
          4,
          14,
          16,
          7,
          9,
          9,
          14,
          5,
          8,
          6,
          10,
          7,
          8,
          6,
          12,
          10,
          5,
          11,
          11,
          16,
          9,
          17,
          10,
          7,
          5,
          7,
          10,
          5,
          12,
          10,
          14,
          6,
          14,
          6,
          13,
          13,
          8,
          10,
          10,
          13,
          6,
          10,
          10,
          9,
          12,
          16,
          9,
          12,
          12,
          11,
          15,
          8,
          8,
          11,
          8,
          7,
          8,
          13,
          14,
          17,
          9,
          18,
          9,
          16,
          8,
          9,
          7,
          10,
          10,
          7,
          11,
          9,
          7,
          8,
          12,
          12,
          6,
          8,
          14,
          6,
          6,
          7,
          9,
          6,
          6,
          16,
          12,
          13,
          9,
          16,
          12,
          10,
          12,
          13,
          11,
          11,
          14,
          9,
          11,
          14,
          13,
          13,
          7,
          12,
          10,
          6,
          13,
          7,
          18,
          12,
          6,
          3,
          13,
          6,
          7,
          6,
          8,
          8,
          7,
          14,
          11,
          15,
          10,
          17,
          8,
          13,
          10,
          9,
          17,
          9,
          12,
          10,
          6,
          9,
          15,
          11,
          15,
          10,
          12,
          10,
          9,
          9,
          10,
          8,
          11,
          12,
          8,
          10,
          12,
          18,
          13,
          15,
          15,
          12,
          15,
          12,
          18,
          14,
          14,
          10,
          10,
          14,
          16,
          12,
          11,
          15,
          17,
          15,
          14,
          17,
          8,
          15,
          12,
          9,
          14,
          13,
          13,
          15,
          13,
          8,
          9,
          11,
          11,
          13,
          11,
          11,
          12,
          16,
          9,
          14,
          11,
          10,
          14,
          9,
          12,
          7,
          8,
          10,
          16,
          14,
          7,
          16,
          9,
          11,
          10,
          16,
          9,
          11,
          13,
          16,
          10,
          13,
          11,
          8,
          13,
          8,
          8,
          13,
          10,
          12,
          12,
          10,
          18,
          13,
          13,
          11,
          16,
          12,
          10,
          13,
          7,
          11,
          14,
          7,
          14,
          13,
          6,
          19,
          8,
          15,
          8,
          15,
          10,
          15,
          7,
          11,
          6,
          6,
          10,
          6,
          7,
          7,
          6,
          9,
          14,
          10,
          11,
          8
         ],
         "y": [
          6,
          5,
          8,
          14,
          10,
          15,
          12,
          5,
          18,
          15,
          8,
          12,
          14,
          10,
          16,
          14,
          14,
          10,
          5,
          10,
          14,
          15,
          15,
          13,
          9,
          9,
          12,
          16,
          11,
          12,
          11,
          16,
          16,
          10,
          14,
          7,
          16,
          16,
          12,
          13,
          10,
          12,
          18,
          8,
          10,
          8,
          12,
          19,
          15,
          7,
          13,
          13,
          11,
          10,
          13,
          9,
          15,
          15,
          10,
          16,
          11,
          8,
          10,
          9,
          10,
          15,
          13,
          7,
          9,
          16,
          15,
          10,
          6,
          12,
          12,
          9,
          11,
          11,
          8,
          5,
          12,
          10,
          6,
          15,
          10,
          9,
          7,
          14,
          10,
          6,
          7,
          17,
          6,
          10,
          13,
          10,
          15,
          9,
          14,
          9,
          7,
          17,
          13,
          6,
          18,
          11,
          8,
          18,
          13,
          15,
          19,
          10,
          13,
          19,
          9,
          15,
          13,
          14,
          7,
          13,
          15,
          14,
          13,
          11,
          7,
          13,
          10,
          8,
          4,
          18,
          0,
          0,
          13,
          11,
          0,
          0,
          0,
          0,
          12,
          16,
          9,
          9,
          11,
          14,
          0,
          11,
          7,
          11,
          6,
          9,
          5,
          13,
          10,
          0,
          11,
          8,
          12,
          8,
          15,
          12,
          6,
          9,
          0,
          10,
          8,
          11,
          10,
          15,
          7,
          14,
          5,
          15,
          11,
          7,
          11,
          9,
          13,
          5,
          8,
          10,
          8,
          13,
          17,
          9,
          13,
          12,
          12,
          15,
          7,
          9,
          12,
          8,
          8,
          9,
          14,
          15,
          15,
          9,
          18,
          9,
          16,
          10,
          9,
          6,
          10,
          9,
          7,
          12,
          9,
          7,
          8,
          12,
          13,
          7,
          10,
          15,
          6,
          6,
          7,
          10,
          6,
          5,
          16,
          13,
          13,
          8,
          15,
          11,
          8,
          10,
          13,
          11,
          9,
          13,
          7,
          9,
          13,
          12,
          11,
          7,
          12,
          11,
          0,
          12,
          0,
          18,
          12,
          8,
          5,
          15,
          8,
          10,
          9,
          9,
          12,
          9,
          12,
          11,
          14,
          9,
          18,
          8,
          12,
          9,
          10,
          17,
          9,
          10,
          9,
          0,
          9,
          14,
          11,
          14,
          10,
          12,
          9,
          9,
          8,
          11,
          8,
          9,
          12,
          9,
          9,
          10,
          18,
          12,
          14,
          13,
          11,
          15,
          12,
          18,
          13,
          12,
          9,
          8,
          13,
          15,
          10,
          11,
          12,
          17,
          14,
          12,
          18,
          9,
          12,
          10,
          9,
          12,
          11,
          10,
          13,
          11,
          8,
          10,
          11,
          11,
          13,
          9,
          11,
          14,
          15,
          12,
          15,
          10,
          9,
          14,
          8,
          14,
          0,
          8,
          9,
          15,
          13,
          8,
          15,
          10,
          12,
          10,
          15,
          8,
          10,
          13,
          15,
          10,
          15,
          13,
          7,
          13,
          7,
          8,
          11,
          9,
          13,
          12,
          10,
          16,
          13,
          12,
          11,
          15,
          11,
          10,
          13,
          6,
          10,
          12,
          7,
          12,
          11,
          5,
          18,
          8,
          14,
          9,
          15,
          10,
          14,
          6,
          11,
          5,
          5,
          9,
          5,
          5,
          9,
          5,
          9,
          16,
          8,
          12,
          9
         ],
         "z": [
          6,
          6,
          10,
          15,
          10,
          15,
          11,
          6,
          19,
          15,
          9,
          12,
          14,
          11,
          16,
          14,
          14,
          10,
          5,
          10,
          15,
          15,
          16,
          12,
          8,
          8,
          11,
          15,
          11,
          11,
          12,
          17,
          16,
          12,
          15,
          6,
          18,
          15,
          11,
          13,
          11,
          12,
          18,
          11,
          9,
          6,
          11,
          20,
          14,
          7,
          13,
          13,
          10,
          11,
          13,
          10,
          15,
          15,
          9,
          16,
          11,
          11,
          9,
          9,
          10,
          15,
          12,
          6,
          8,
          16,
          15,
          10,
          5,
          14,
          11,
          10,
          10,
          11,
          10,
          5,
          12,
          11,
          6,
          15,
          10,
          8,
          6,
          14,
          10,
          7,
          8,
          18,
          6,
          10,
          14,
          10,
          15,
          10,
          14,
          8,
          5,
          17,
          14,
          6,
          18,
          11,
          8,
          18,
          13,
          16,
          19,
          10,
          13,
          19,
          9,
          16,
          14,
          13,
          8,
          13,
          15,
          15,
          13,
          13,
          8,
          12,
          11,
          9,
          0,
          18,
          0,
          0,
          12,
          11,
          0,
          0,
          0,
          0,
          12,
          15,
          0,
          9,
          11,
          13,
          0,
          11,
          0,
          11,
          0,
          10,
          0,
          14,
          10,
          0,
          12,
          8,
          13,
          10,
          15,
          12,
          0,
          7,
          0,
          10,
          7,
          12,
          10,
          16,
          0,
          14,
          0,
          16,
          10,
          0,
          9,
          9,
          11,
          6,
          9,
          11,
          8,
          12,
          17,
          8,
          12,
          11,
          11,
          15,
          9,
          10,
          13,
          9,
          8,
          10,
          14,
          15,
          16,
          10,
          18,
          10,
          16,
          10,
          10,
          6,
          11,
          9,
          7,
          13,
          10,
          7,
          8,
          13,
          14,
          8,
          10,
          15,
          4,
          8,
          8,
          10,
          6,
          0,
          17,
          13,
          14,
          7,
          15,
          12,
          9,
          12,
          14,
          11,
          9,
          13,
          6,
          10,
          13,
          12,
          11,
          0,
          12,
          12,
          0,
          12,
          0,
          18,
          13,
          8,
          5,
          15,
          8,
          10,
          8,
          8,
          12,
          8,
          13,
          11,
          14,
          0,
          18,
          8,
          12,
          9,
          0,
          17,
          10,
          11,
          10,
          0,
          9,
          14,
          11,
          14,
          10,
          12,
          9,
          9,
          8,
          10,
          8,
          10,
          12,
          10,
          11,
          11,
          19,
          12,
          14,
          15,
          11,
          15,
          13,
          18,
          14,
          11,
          0,
          8,
          14,
          16,
          11,
          10,
          14,
          18,
          13,
          12,
          18,
          8,
          12,
          10,
          0,
          13,
          11,
          11,
          13,
          11,
          0,
          9,
          10,
          11,
          13,
          9,
          11,
          15,
          15,
          11,
          16,
          10,
          9,
          14,
          8,
          14,
          0,
          0,
          0,
          15,
          13,
          0,
          17,
          10,
          11,
          0,
          15,
          0,
          10,
          14,
          16,
          9,
          15,
          13,
          8,
          13,
          8,
          8,
          11,
          9,
          13,
          11,
          10,
          16,
          13,
          12,
          10,
          15,
          12,
          10,
          13,
          0,
          10,
          11,
          9,
          12,
          11,
          5,
          19,
          10,
          15,
          10,
          15,
          10,
          14,
          7,
          10,
          0,
          5,
          10,
          6,
          0,
          8,
          0,
          9,
          16,
          7,
          10,
          9
         ]
        }
       ],
       "layout": {
        "coloraxis": {
         "colorbar": {
          "title": {
           "text": "studytime"
          }
         },
         "colorscale": [
          [
           0,
           "#0d0887"
          ],
          [
           0.1111111111111111,
           "#46039f"
          ],
          [
           0.2222222222222222,
           "#7201a8"
          ],
          [
           0.3333333333333333,
           "#9c179e"
          ],
          [
           0.4444444444444444,
           "#bd3786"
          ],
          [
           0.5555555555555556,
           "#d8576b"
          ],
          [
           0.6666666666666666,
           "#ed7953"
          ],
          [
           0.7777777777777778,
           "#fb9f3a"
          ],
          [
           0.8888888888888888,
           "#fdca26"
          ],
          [
           1,
           "#f0f921"
          ]
         ]
        },
        "legend": {
         "tracegroupgap": 0
        },
        "margin": {
         "t": 60
        },
        "scene": {
         "domain": {
          "x": [
           0,
           1
          ],
          "y": [
           0,
           1
          ]
         },
         "xaxis": {
          "title": {
           "text": "g1"
          }
         },
         "yaxis": {
          "title": {
           "text": "g2"
          }
         },
         "zaxis": {
          "title": {
           "text": "g3"
          }
         }
        },
        "template": {
         "data": {
          "bar": [
           {
            "error_x": {
             "color": "#2a3f5f"
            },
            "error_y": {
             "color": "#2a3f5f"
            },
            "marker": {
             "line": {
              "color": "#E5ECF6",
              "width": 0.5
             }
            },
            "type": "bar"
           }
          ],
          "barpolar": [
           {
            "marker": {
             "line": {
              "color": "#E5ECF6",
              "width": 0.5
             }
            },
            "type": "barpolar"
           }
          ],
          "carpet": [
           {
            "aaxis": {
             "endlinecolor": "#2a3f5f",
             "gridcolor": "white",
             "linecolor": "white",
             "minorgridcolor": "white",
             "startlinecolor": "#2a3f5f"
            },
            "baxis": {
             "endlinecolor": "#2a3f5f",
             "gridcolor": "white",
             "linecolor": "white",
             "minorgridcolor": "white",
             "startlinecolor": "#2a3f5f"
            },
            "type": "carpet"
           }
          ],
          "choropleth": [
           {
            "colorbar": {
             "outlinewidth": 0,
             "ticks": ""
            },
            "type": "choropleth"
           }
          ],
          "contour": [
           {
            "colorbar": {
             "outlinewidth": 0,
             "ticks": ""
            },
            "colorscale": [
             [
              0,
              "#0d0887"
             ],
             [
              0.1111111111111111,
              "#46039f"
             ],
             [
              0.2222222222222222,
              "#7201a8"
             ],
             [
              0.3333333333333333,
              "#9c179e"
             ],
             [
              0.4444444444444444,
              "#bd3786"
             ],
             [
              0.5555555555555556,
              "#d8576b"
             ],
             [
              0.6666666666666666,
              "#ed7953"
             ],
             [
              0.7777777777777778,
              "#fb9f3a"
             ],
             [
              0.8888888888888888,
              "#fdca26"
             ],
             [
              1,
              "#f0f921"
             ]
            ],
            "type": "contour"
           }
          ],
          "contourcarpet": [
           {
            "colorbar": {
             "outlinewidth": 0,
             "ticks": ""
            },
            "type": "contourcarpet"
           }
          ],
          "heatmap": [
           {
            "colorbar": {
             "outlinewidth": 0,
             "ticks": ""
            },
            "colorscale": [
             [
              0,
              "#0d0887"
             ],
             [
              0.1111111111111111,
              "#46039f"
             ],
             [
              0.2222222222222222,
              "#7201a8"
             ],
             [
              0.3333333333333333,
              "#9c179e"
             ],
             [
              0.4444444444444444,
              "#bd3786"
             ],
             [
              0.5555555555555556,
              "#d8576b"
             ],
             [
              0.6666666666666666,
              "#ed7953"
             ],
             [
              0.7777777777777778,
              "#fb9f3a"
             ],
             [
              0.8888888888888888,
              "#fdca26"
             ],
             [
              1,
              "#f0f921"
             ]
            ],
            "type": "heatmap"
           }
          ],
          "heatmapgl": [
           {
            "colorbar": {
             "outlinewidth": 0,
             "ticks": ""
            },
            "colorscale": [
             [
              0,
              "#0d0887"
             ],
             [
              0.1111111111111111,
              "#46039f"
             ],
             [
              0.2222222222222222,
              "#7201a8"
             ],
             [
              0.3333333333333333,
              "#9c179e"
             ],
             [
              0.4444444444444444,
              "#bd3786"
             ],
             [
              0.5555555555555556,
              "#d8576b"
             ],
             [
              0.6666666666666666,
              "#ed7953"
             ],
             [
              0.7777777777777778,
              "#fb9f3a"
             ],
             [
              0.8888888888888888,
              "#fdca26"
             ],
             [
              1,
              "#f0f921"
             ]
            ],
            "type": "heatmapgl"
           }
          ],
          "histogram": [
           {
            "marker": {
             "colorbar": {
              "outlinewidth": 0,
              "ticks": ""
             }
            },
            "type": "histogram"
           }
          ],
          "histogram2d": [
           {
            "colorbar": {
             "outlinewidth": 0,
             "ticks": ""
            },
            "colorscale": [
             [
              0,
              "#0d0887"
             ],
             [
              0.1111111111111111,
              "#46039f"
             ],
             [
              0.2222222222222222,
              "#7201a8"
             ],
             [
              0.3333333333333333,
              "#9c179e"
             ],
             [
              0.4444444444444444,
              "#bd3786"
             ],
             [
              0.5555555555555556,
              "#d8576b"
             ],
             [
              0.6666666666666666,
              "#ed7953"
             ],
             [
              0.7777777777777778,
              "#fb9f3a"
             ],
             [
              0.8888888888888888,
              "#fdca26"
             ],
             [
              1,
              "#f0f921"
             ]
            ],
            "type": "histogram2d"
           }
          ],
          "histogram2dcontour": [
           {
            "colorbar": {
             "outlinewidth": 0,
             "ticks": ""
            },
            "colorscale": [
             [
              0,
              "#0d0887"
             ],
             [
              0.1111111111111111,
              "#46039f"
             ],
             [
              0.2222222222222222,
              "#7201a8"
             ],
             [
              0.3333333333333333,
              "#9c179e"
             ],
             [
              0.4444444444444444,
              "#bd3786"
             ],
             [
              0.5555555555555556,
              "#d8576b"
             ],
             [
              0.6666666666666666,
              "#ed7953"
             ],
             [
              0.7777777777777778,
              "#fb9f3a"
             ],
             [
              0.8888888888888888,
              "#fdca26"
             ],
             [
              1,
              "#f0f921"
             ]
            ],
            "type": "histogram2dcontour"
           }
          ],
          "mesh3d": [
           {
            "colorbar": {
             "outlinewidth": 0,
             "ticks": ""
            },
            "type": "mesh3d"
           }
          ],
          "parcoords": [
           {
            "line": {
             "colorbar": {
              "outlinewidth": 0,
              "ticks": ""
             }
            },
            "type": "parcoords"
           }
          ],
          "pie": [
           {
            "automargin": true,
            "type": "pie"
           }
          ],
          "scatter": [
           {
            "marker": {
             "colorbar": {
              "outlinewidth": 0,
              "ticks": ""
             }
            },
            "type": "scatter"
           }
          ],
          "scatter3d": [
           {
            "line": {
             "colorbar": {
              "outlinewidth": 0,
              "ticks": ""
             }
            },
            "marker": {
             "colorbar": {
              "outlinewidth": 0,
              "ticks": ""
             }
            },
            "type": "scatter3d"
           }
          ],
          "scattercarpet": [
           {
            "marker": {
             "colorbar": {
              "outlinewidth": 0,
              "ticks": ""
             }
            },
            "type": "scattercarpet"
           }
          ],
          "scattergeo": [
           {
            "marker": {
             "colorbar": {
              "outlinewidth": 0,
              "ticks": ""
             }
            },
            "type": "scattergeo"
           }
          ],
          "scattergl": [
           {
            "marker": {
             "colorbar": {
              "outlinewidth": 0,
              "ticks": ""
             }
            },
            "type": "scattergl"
           }
          ],
          "scattermapbox": [
           {
            "marker": {
             "colorbar": {
              "outlinewidth": 0,
              "ticks": ""
             }
            },
            "type": "scattermapbox"
           }
          ],
          "scatterpolar": [
           {
            "marker": {
             "colorbar": {
              "outlinewidth": 0,
              "ticks": ""
             }
            },
            "type": "scatterpolar"
           }
          ],
          "scatterpolargl": [
           {
            "marker": {
             "colorbar": {
              "outlinewidth": 0,
              "ticks": ""
             }
            },
            "type": "scatterpolargl"
           }
          ],
          "scatterternary": [
           {
            "marker": {
             "colorbar": {
              "outlinewidth": 0,
              "ticks": ""
             }
            },
            "type": "scatterternary"
           }
          ],
          "surface": [
           {
            "colorbar": {
             "outlinewidth": 0,
             "ticks": ""
            },
            "colorscale": [
             [
              0,
              "#0d0887"
             ],
             [
              0.1111111111111111,
              "#46039f"
             ],
             [
              0.2222222222222222,
              "#7201a8"
             ],
             [
              0.3333333333333333,
              "#9c179e"
             ],
             [
              0.4444444444444444,
              "#bd3786"
             ],
             [
              0.5555555555555556,
              "#d8576b"
             ],
             [
              0.6666666666666666,
              "#ed7953"
             ],
             [
              0.7777777777777778,
              "#fb9f3a"
             ],
             [
              0.8888888888888888,
              "#fdca26"
             ],
             [
              1,
              "#f0f921"
             ]
            ],
            "type": "surface"
           }
          ],
          "table": [
           {
            "cells": {
             "fill": {
              "color": "#EBF0F8"
             },
             "line": {
              "color": "white"
             }
            },
            "header": {
             "fill": {
              "color": "#C8D4E3"
             },
             "line": {
              "color": "white"
             }
            },
            "type": "table"
           }
          ]
         },
         "layout": {
          "annotationdefaults": {
           "arrowcolor": "#2a3f5f",
           "arrowhead": 0,
           "arrowwidth": 1
          },
          "autotypenumbers": "strict",
          "coloraxis": {
           "colorbar": {
            "outlinewidth": 0,
            "ticks": ""
           }
          },
          "colorscale": {
           "diverging": [
            [
             0,
             "#8e0152"
            ],
            [
             0.1,
             "#c51b7d"
            ],
            [
             0.2,
             "#de77ae"
            ],
            [
             0.3,
             "#f1b6da"
            ],
            [
             0.4,
             "#fde0ef"
            ],
            [
             0.5,
             "#f7f7f7"
            ],
            [
             0.6,
             "#e6f5d0"
            ],
            [
             0.7,
             "#b8e186"
            ],
            [
             0.8,
             "#7fbc41"
            ],
            [
             0.9,
             "#4d9221"
            ],
            [
             1,
             "#276419"
            ]
           ],
           "sequential": [
            [
             0,
             "#0d0887"
            ],
            [
             0.1111111111111111,
             "#46039f"
            ],
            [
             0.2222222222222222,
             "#7201a8"
            ],
            [
             0.3333333333333333,
             "#9c179e"
            ],
            [
             0.4444444444444444,
             "#bd3786"
            ],
            [
             0.5555555555555556,
             "#d8576b"
            ],
            [
             0.6666666666666666,
             "#ed7953"
            ],
            [
             0.7777777777777778,
             "#fb9f3a"
            ],
            [
             0.8888888888888888,
             "#fdca26"
            ],
            [
             1,
             "#f0f921"
            ]
           ],
           "sequentialminus": [
            [
             0,
             "#0d0887"
            ],
            [
             0.1111111111111111,
             "#46039f"
            ],
            [
             0.2222222222222222,
             "#7201a8"
            ],
            [
             0.3333333333333333,
             "#9c179e"
            ],
            [
             0.4444444444444444,
             "#bd3786"
            ],
            [
             0.5555555555555556,
             "#d8576b"
            ],
            [
             0.6666666666666666,
             "#ed7953"
            ],
            [
             0.7777777777777778,
             "#fb9f3a"
            ],
            [
             0.8888888888888888,
             "#fdca26"
            ],
            [
             1,
             "#f0f921"
            ]
           ]
          },
          "colorway": [
           "#636efa",
           "#EF553B",
           "#00cc96",
           "#ab63fa",
           "#FFA15A",
           "#19d3f3",
           "#FF6692",
           "#B6E880",
           "#FF97FF",
           "#FECB52"
          ],
          "font": {
           "color": "#2a3f5f"
          },
          "geo": {
           "bgcolor": "white",
           "lakecolor": "white",
           "landcolor": "#E5ECF6",
           "showlakes": true,
           "showland": true,
           "subunitcolor": "white"
          },
          "hoverlabel": {
           "align": "left"
          },
          "hovermode": "closest",
          "mapbox": {
           "style": "light"
          },
          "paper_bgcolor": "white",
          "plot_bgcolor": "#E5ECF6",
          "polar": {
           "angularaxis": {
            "gridcolor": "white",
            "linecolor": "white",
            "ticks": ""
           },
           "bgcolor": "#E5ECF6",
           "radialaxis": {
            "gridcolor": "white",
            "linecolor": "white",
            "ticks": ""
           }
          },
          "scene": {
           "xaxis": {
            "backgroundcolor": "#E5ECF6",
            "gridcolor": "white",
            "gridwidth": 2,
            "linecolor": "white",
            "showbackground": true,
            "ticks": "",
            "zerolinecolor": "white"
           },
           "yaxis": {
            "backgroundcolor": "#E5ECF6",
            "gridcolor": "white",
            "gridwidth": 2,
            "linecolor": "white",
            "showbackground": true,
            "ticks": "",
            "zerolinecolor": "white"
           },
           "zaxis": {
            "backgroundcolor": "#E5ECF6",
            "gridcolor": "white",
            "gridwidth": 2,
            "linecolor": "white",
            "showbackground": true,
            "ticks": "",
            "zerolinecolor": "white"
           }
          },
          "shapedefaults": {
           "line": {
            "color": "#2a3f5f"
           }
          },
          "ternary": {
           "aaxis": {
            "gridcolor": "white",
            "linecolor": "white",
            "ticks": ""
           },
           "baxis": {
            "gridcolor": "white",
            "linecolor": "white",
            "ticks": ""
           },
           "bgcolor": "#E5ECF6",
           "caxis": {
            "gridcolor": "white",
            "linecolor": "white",
            "ticks": ""
           }
          },
          "title": {
           "x": 0.05
          },
          "xaxis": {
           "automargin": true,
           "gridcolor": "white",
           "linecolor": "white",
           "ticks": "",
           "title": {
            "standoff": 15
           },
           "zerolinecolor": "white",
           "zerolinewidth": 2
          },
          "yaxis": {
           "automargin": true,
           "gridcolor": "white",
           "linecolor": "white",
           "ticks": "",
           "title": {
            "standoff": 15
           },
           "zerolinecolor": "white",
           "zerolinewidth": 2
          }
         }
        }
       }
      },
      "text/html": [
       "<div>                            <div id=\"ef9190c8-3c8d-4ebe-ae7c-d98d62719a6e\" class=\"plotly-graph-div\" style=\"height:525px; width:100%;\"></div>            <script type=\"text/javascript\">                require([\"plotly\"], function(Plotly) {                    window.PLOTLYENV=window.PLOTLYENV || {};                                    if (document.getElementById(\"ef9190c8-3c8d-4ebe-ae7c-d98d62719a6e\")) {                    Plotly.newPlot(                        \"ef9190c8-3c8d-4ebe-ae7c-d98d62719a6e\",                        [{\"hovertemplate\": \"g1=%{x}<br>g2=%{y}<br>g3=%{z}<br>studytime=%{marker.color}<extra></extra>\", \"legendgroup\": \"\", \"marker\": {\"color\": [2, 2, 2, 3, 2, 2, 2, 2, 2, 2, 2, 3, 1, 2, 3, 1, 3, 2, 1, 1, 2, 1, 2, 2, 3, 1, 1, 1, 2, 2, 2, 2, 2, 2, 1, 1, 3, 3, 3, 1, 2, 1, 2, 1, 2, 2, 2, 4, 2, 2, 2, 2, 1, 1, 1, 2, 2, 2, 2, 2, 2, 1, 2, 3, 2, 2, 4, 4, 2, 4, 4, 4, 2, 1, 2, 2, 4, 4, 1, 2, 1, 3, 2, 2, 2, 2, 2, 3, 2, 2, 3, 1, 2, 2, 4, 4, 1, 2, 1, 3, 1, 3, 1, 2, 2, 4, 4, 3, 4, 3, 1, 3, 2, 1, 2, 2, 2, 1, 2, 1, 2, 4, 2, 1, 2, 1, 2, 2, 1, 1, 3, 1, 1, 1, 2, 3, 2, 1, 2, 1, 4, 1, 3, 1, 1, 2, 2, 2, 1, 1, 1, 1, 3, 1, 1, 2, 1, 1, 1, 2, 1, 2, 1, 1, 2, 1, 2, 2, 2, 2, 1, 2, 2, 2, 2, 2, 2, 2, 1, 2, 2, 2, 2, 2, 2, 2, 1, 2, 2, 2, 2, 2, 2, 1, 1, 2, 1, 1, 1, 2, 2, 2, 2, 1, 4, 3, 2, 2, 1, 3, 4, 2, 2, 2, 1, 2, 2, 2, 1, 3, 2, 3, 2, 2, 3, 2, 2, 2, 2, 3, 2, 2, 2, 2, 2, 3, 2, 1, 2, 2, 2, 2, 1, 1, 3, 1, 1, 1, 2, 1, 1, 2, 1, 1, 1, 1, 4, 2, 2, 4, 2, 2, 3, 3, 3, 2, 2, 2, 2, 2, 2, 4, 2, 2, 2, 2, 2, 1, 2, 1, 1, 1, 4, 2, 2, 2, 3, 3, 3, 2, 2, 3, 2, 4, 3, 1, 2, 2, 4, 1, 2, 1, 3, 4, 2, 2, 1, 1, 2, 2, 2, 2, 2, 2, 3, 3, 2, 3, 3, 2, 2, 2, 3, 3, 3, 3, 1, 1, 3, 3, 4, 3, 2, 2, 4, 3, 3, 2, 4, 2, 3, 2, 2, 2, 3, 3, 3, 3, 3, 1, 2, 2, 1, 1, 2, 2, 2, 2, 1, 3, 2, 2, 2, 2, 2, 2, 3, 1, 1, 2, 2, 1, 3, 1, 3, 3, 3, 2, 2, 2, 2, 1, 2, 1, 1, 3, 1, 3, 2, 2, 2, 1, 1, 1, 1], \"coloraxis\": \"coloraxis\", \"symbol\": \"circle\"}, \"mode\": \"markers\", \"name\": \"\", \"scene\": \"scene\", \"showlegend\": false, \"type\": \"scatter3d\", \"x\": [5, 5, 7, 15, 6, 15, 12, 6, 16, 14, 10, 10, 14, 10, 14, 14, 13, 8, 6, 8, 13, 12, 15, 13, 10, 6, 12, 15, 11, 10, 9, 17, 17, 8, 12, 8, 15, 15, 12, 14, 7, 12, 19, 8, 10, 8, 11, 19, 15, 7, 12, 11, 11, 8, 10, 8, 14, 14, 9, 15, 10, 10, 8, 10, 10, 16, 13, 7, 8, 16, 13, 10, 8, 12, 11, 9, 11, 11, 8, 5, 10, 11, 7, 15, 9, 7, 8, 13, 11, 8, 7, 16, 7, 11, 11, 7, 11, 8, 11, 7, 7, 16, 10, 7, 16, 10, 7, 16, 10, 14, 18, 7, 10, 18, 9, 15, 11, 13, 9, 14, 16, 16, 13, 14, 8, 13, 7, 7, 7, 18, 12, 8, 10, 12, 9, 11, 10, 4, 14, 16, 7, 9, 9, 14, 5, 8, 6, 10, 7, 8, 6, 12, 10, 5, 11, 11, 16, 9, 17, 10, 7, 5, 7, 10, 5, 12, 10, 14, 6, 14, 6, 13, 13, 8, 10, 10, 13, 6, 10, 10, 9, 12, 16, 9, 12, 12, 11, 15, 8, 8, 11, 8, 7, 8, 13, 14, 17, 9, 18, 9, 16, 8, 9, 7, 10, 10, 7, 11, 9, 7, 8, 12, 12, 6, 8, 14, 6, 6, 7, 9, 6, 6, 16, 12, 13, 9, 16, 12, 10, 12, 13, 11, 11, 14, 9, 11, 14, 13, 13, 7, 12, 10, 6, 13, 7, 18, 12, 6, 3, 13, 6, 7, 6, 8, 8, 7, 14, 11, 15, 10, 17, 8, 13, 10, 9, 17, 9, 12, 10, 6, 9, 15, 11, 15, 10, 12, 10, 9, 9, 10, 8, 11, 12, 8, 10, 12, 18, 13, 15, 15, 12, 15, 12, 18, 14, 14, 10, 10, 14, 16, 12, 11, 15, 17, 15, 14, 17, 8, 15, 12, 9, 14, 13, 13, 15, 13, 8, 9, 11, 11, 13, 11, 11, 12, 16, 9, 14, 11, 10, 14, 9, 12, 7, 8, 10, 16, 14, 7, 16, 9, 11, 10, 16, 9, 11, 13, 16, 10, 13, 11, 8, 13, 8, 8, 13, 10, 12, 12, 10, 18, 13, 13, 11, 16, 12, 10, 13, 7, 11, 14, 7, 14, 13, 6, 19, 8, 15, 8, 15, 10, 15, 7, 11, 6, 6, 10, 6, 7, 7, 6, 9, 14, 10, 11, 8], \"y\": [6, 5, 8, 14, 10, 15, 12, 5, 18, 15, 8, 12, 14, 10, 16, 14, 14, 10, 5, 10, 14, 15, 15, 13, 9, 9, 12, 16, 11, 12, 11, 16, 16, 10, 14, 7, 16, 16, 12, 13, 10, 12, 18, 8, 10, 8, 12, 19, 15, 7, 13, 13, 11, 10, 13, 9, 15, 15, 10, 16, 11, 8, 10, 9, 10, 15, 13, 7, 9, 16, 15, 10, 6, 12, 12, 9, 11, 11, 8, 5, 12, 10, 6, 15, 10, 9, 7, 14, 10, 6, 7, 17, 6, 10, 13, 10, 15, 9, 14, 9, 7, 17, 13, 6, 18, 11, 8, 18, 13, 15, 19, 10, 13, 19, 9, 15, 13, 14, 7, 13, 15, 14, 13, 11, 7, 13, 10, 8, 4, 18, 0, 0, 13, 11, 0, 0, 0, 0, 12, 16, 9, 9, 11, 14, 0, 11, 7, 11, 6, 9, 5, 13, 10, 0, 11, 8, 12, 8, 15, 12, 6, 9, 0, 10, 8, 11, 10, 15, 7, 14, 5, 15, 11, 7, 11, 9, 13, 5, 8, 10, 8, 13, 17, 9, 13, 12, 12, 15, 7, 9, 12, 8, 8, 9, 14, 15, 15, 9, 18, 9, 16, 10, 9, 6, 10, 9, 7, 12, 9, 7, 8, 12, 13, 7, 10, 15, 6, 6, 7, 10, 6, 5, 16, 13, 13, 8, 15, 11, 8, 10, 13, 11, 9, 13, 7, 9, 13, 12, 11, 7, 12, 11, 0, 12, 0, 18, 12, 8, 5, 15, 8, 10, 9, 9, 12, 9, 12, 11, 14, 9, 18, 8, 12, 9, 10, 17, 9, 10, 9, 0, 9, 14, 11, 14, 10, 12, 9, 9, 8, 11, 8, 9, 12, 9, 9, 10, 18, 12, 14, 13, 11, 15, 12, 18, 13, 12, 9, 8, 13, 15, 10, 11, 12, 17, 14, 12, 18, 9, 12, 10, 9, 12, 11, 10, 13, 11, 8, 10, 11, 11, 13, 9, 11, 14, 15, 12, 15, 10, 9, 14, 8, 14, 0, 8, 9, 15, 13, 8, 15, 10, 12, 10, 15, 8, 10, 13, 15, 10, 15, 13, 7, 13, 7, 8, 11, 9, 13, 12, 10, 16, 13, 12, 11, 15, 11, 10, 13, 6, 10, 12, 7, 12, 11, 5, 18, 8, 14, 9, 15, 10, 14, 6, 11, 5, 5, 9, 5, 5, 9, 5, 9, 16, 8, 12, 9], \"z\": [6, 6, 10, 15, 10, 15, 11, 6, 19, 15, 9, 12, 14, 11, 16, 14, 14, 10, 5, 10, 15, 15, 16, 12, 8, 8, 11, 15, 11, 11, 12, 17, 16, 12, 15, 6, 18, 15, 11, 13, 11, 12, 18, 11, 9, 6, 11, 20, 14, 7, 13, 13, 10, 11, 13, 10, 15, 15, 9, 16, 11, 11, 9, 9, 10, 15, 12, 6, 8, 16, 15, 10, 5, 14, 11, 10, 10, 11, 10, 5, 12, 11, 6, 15, 10, 8, 6, 14, 10, 7, 8, 18, 6, 10, 14, 10, 15, 10, 14, 8, 5, 17, 14, 6, 18, 11, 8, 18, 13, 16, 19, 10, 13, 19, 9, 16, 14, 13, 8, 13, 15, 15, 13, 13, 8, 12, 11, 9, 0, 18, 0, 0, 12, 11, 0, 0, 0, 0, 12, 15, 0, 9, 11, 13, 0, 11, 0, 11, 0, 10, 0, 14, 10, 0, 12, 8, 13, 10, 15, 12, 0, 7, 0, 10, 7, 12, 10, 16, 0, 14, 0, 16, 10, 0, 9, 9, 11, 6, 9, 11, 8, 12, 17, 8, 12, 11, 11, 15, 9, 10, 13, 9, 8, 10, 14, 15, 16, 10, 18, 10, 16, 10, 10, 6, 11, 9, 7, 13, 10, 7, 8, 13, 14, 8, 10, 15, 4, 8, 8, 10, 6, 0, 17, 13, 14, 7, 15, 12, 9, 12, 14, 11, 9, 13, 6, 10, 13, 12, 11, 0, 12, 12, 0, 12, 0, 18, 13, 8, 5, 15, 8, 10, 8, 8, 12, 8, 13, 11, 14, 0, 18, 8, 12, 9, 0, 17, 10, 11, 10, 0, 9, 14, 11, 14, 10, 12, 9, 9, 8, 10, 8, 10, 12, 10, 11, 11, 19, 12, 14, 15, 11, 15, 13, 18, 14, 11, 0, 8, 14, 16, 11, 10, 14, 18, 13, 12, 18, 8, 12, 10, 0, 13, 11, 11, 13, 11, 0, 9, 10, 11, 13, 9, 11, 15, 15, 11, 16, 10, 9, 14, 8, 14, 0, 0, 0, 15, 13, 0, 17, 10, 11, 0, 15, 0, 10, 14, 16, 9, 15, 13, 8, 13, 8, 8, 11, 9, 13, 11, 10, 16, 13, 12, 10, 15, 12, 10, 13, 0, 10, 11, 9, 12, 11, 5, 19, 10, 15, 10, 15, 10, 14, 7, 10, 0, 5, 10, 6, 0, 8, 0, 9, 16, 7, 10, 9]}],                        {\"coloraxis\": {\"colorbar\": {\"title\": {\"text\": \"studytime\"}}, \"colorscale\": [[0.0, \"#0d0887\"], [0.1111111111111111, \"#46039f\"], [0.2222222222222222, \"#7201a8\"], [0.3333333333333333, \"#9c179e\"], [0.4444444444444444, \"#bd3786\"], [0.5555555555555556, \"#d8576b\"], [0.6666666666666666, \"#ed7953\"], [0.7777777777777778, \"#fb9f3a\"], [0.8888888888888888, \"#fdca26\"], [1.0, \"#f0f921\"]]}, \"legend\": {\"tracegroupgap\": 0}, \"margin\": {\"t\": 60}, \"scene\": {\"domain\": {\"x\": [0.0, 1.0], \"y\": [0.0, 1.0]}, \"xaxis\": {\"title\": {\"text\": \"g1\"}}, \"yaxis\": {\"title\": {\"text\": \"g2\"}}, \"zaxis\": {\"title\": {\"text\": \"g3\"}}}, \"template\": {\"data\": {\"bar\": [{\"error_x\": {\"color\": \"#2a3f5f\"}, \"error_y\": {\"color\": \"#2a3f5f\"}, \"marker\": {\"line\": {\"color\": \"#E5ECF6\", \"width\": 0.5}}, \"type\": \"bar\"}], \"barpolar\": [{\"marker\": {\"line\": {\"color\": \"#E5ECF6\", \"width\": 0.5}}, \"type\": \"barpolar\"}], \"carpet\": [{\"aaxis\": {\"endlinecolor\": \"#2a3f5f\", \"gridcolor\": \"white\", \"linecolor\": \"white\", \"minorgridcolor\": \"white\", \"startlinecolor\": \"#2a3f5f\"}, \"baxis\": {\"endlinecolor\": \"#2a3f5f\", \"gridcolor\": \"white\", \"linecolor\": \"white\", \"minorgridcolor\": \"white\", \"startlinecolor\": \"#2a3f5f\"}, \"type\": \"carpet\"}], \"choropleth\": [{\"colorbar\": {\"outlinewidth\": 0, \"ticks\": \"\"}, \"type\": \"choropleth\"}], \"contour\": [{\"colorbar\": {\"outlinewidth\": 0, \"ticks\": \"\"}, \"colorscale\": [[0.0, \"#0d0887\"], [0.1111111111111111, \"#46039f\"], [0.2222222222222222, \"#7201a8\"], [0.3333333333333333, \"#9c179e\"], [0.4444444444444444, \"#bd3786\"], [0.5555555555555556, \"#d8576b\"], [0.6666666666666666, \"#ed7953\"], [0.7777777777777778, \"#fb9f3a\"], [0.8888888888888888, \"#fdca26\"], [1.0, \"#f0f921\"]], \"type\": \"contour\"}], \"contourcarpet\": [{\"colorbar\": {\"outlinewidth\": 0, \"ticks\": \"\"}, \"type\": \"contourcarpet\"}], \"heatmap\": [{\"colorbar\": {\"outlinewidth\": 0, \"ticks\": \"\"}, \"colorscale\": [[0.0, \"#0d0887\"], [0.1111111111111111, \"#46039f\"], [0.2222222222222222, \"#7201a8\"], [0.3333333333333333, \"#9c179e\"], [0.4444444444444444, \"#bd3786\"], [0.5555555555555556, \"#d8576b\"], [0.6666666666666666, \"#ed7953\"], [0.7777777777777778, \"#fb9f3a\"], [0.8888888888888888, \"#fdca26\"], [1.0, \"#f0f921\"]], \"type\": \"heatmap\"}], \"heatmapgl\": [{\"colorbar\": {\"outlinewidth\": 0, \"ticks\": \"\"}, \"colorscale\": [[0.0, \"#0d0887\"], [0.1111111111111111, \"#46039f\"], [0.2222222222222222, \"#7201a8\"], [0.3333333333333333, \"#9c179e\"], [0.4444444444444444, \"#bd3786\"], [0.5555555555555556, \"#d8576b\"], [0.6666666666666666, \"#ed7953\"], [0.7777777777777778, \"#fb9f3a\"], [0.8888888888888888, \"#fdca26\"], [1.0, \"#f0f921\"]], \"type\": \"heatmapgl\"}], \"histogram\": [{\"marker\": {\"colorbar\": {\"outlinewidth\": 0, \"ticks\": \"\"}}, \"type\": \"histogram\"}], \"histogram2d\": [{\"colorbar\": {\"outlinewidth\": 0, \"ticks\": \"\"}, \"colorscale\": [[0.0, \"#0d0887\"], [0.1111111111111111, \"#46039f\"], [0.2222222222222222, \"#7201a8\"], [0.3333333333333333, \"#9c179e\"], [0.4444444444444444, \"#bd3786\"], [0.5555555555555556, \"#d8576b\"], [0.6666666666666666, \"#ed7953\"], [0.7777777777777778, \"#fb9f3a\"], [0.8888888888888888, \"#fdca26\"], [1.0, \"#f0f921\"]], \"type\": \"histogram2d\"}], \"histogram2dcontour\": [{\"colorbar\": {\"outlinewidth\": 0, \"ticks\": \"\"}, \"colorscale\": [[0.0, \"#0d0887\"], [0.1111111111111111, \"#46039f\"], [0.2222222222222222, \"#7201a8\"], [0.3333333333333333, \"#9c179e\"], [0.4444444444444444, \"#bd3786\"], [0.5555555555555556, \"#d8576b\"], [0.6666666666666666, \"#ed7953\"], [0.7777777777777778, \"#fb9f3a\"], [0.8888888888888888, \"#fdca26\"], [1.0, \"#f0f921\"]], \"type\": \"histogram2dcontour\"}], \"mesh3d\": [{\"colorbar\": {\"outlinewidth\": 0, \"ticks\": \"\"}, \"type\": \"mesh3d\"}], \"parcoords\": [{\"line\": {\"colorbar\": {\"outlinewidth\": 0, \"ticks\": \"\"}}, \"type\": \"parcoords\"}], \"pie\": [{\"automargin\": true, \"type\": \"pie\"}], \"scatter\": [{\"marker\": {\"colorbar\": {\"outlinewidth\": 0, \"ticks\": \"\"}}, \"type\": \"scatter\"}], \"scatter3d\": [{\"line\": {\"colorbar\": {\"outlinewidth\": 0, \"ticks\": \"\"}}, \"marker\": {\"colorbar\": {\"outlinewidth\": 0, \"ticks\": \"\"}}, \"type\": \"scatter3d\"}], \"scattercarpet\": [{\"marker\": {\"colorbar\": {\"outlinewidth\": 0, \"ticks\": \"\"}}, \"type\": \"scattercarpet\"}], \"scattergeo\": [{\"marker\": {\"colorbar\": {\"outlinewidth\": 0, \"ticks\": \"\"}}, \"type\": \"scattergeo\"}], \"scattergl\": [{\"marker\": {\"colorbar\": {\"outlinewidth\": 0, \"ticks\": \"\"}}, \"type\": \"scattergl\"}], \"scattermapbox\": [{\"marker\": {\"colorbar\": {\"outlinewidth\": 0, \"ticks\": \"\"}}, \"type\": \"scattermapbox\"}], \"scatterpolar\": [{\"marker\": {\"colorbar\": {\"outlinewidth\": 0, \"ticks\": \"\"}}, \"type\": \"scatterpolar\"}], \"scatterpolargl\": [{\"marker\": {\"colorbar\": {\"outlinewidth\": 0, \"ticks\": \"\"}}, \"type\": \"scatterpolargl\"}], \"scatterternary\": [{\"marker\": {\"colorbar\": {\"outlinewidth\": 0, \"ticks\": \"\"}}, \"type\": \"scatterternary\"}], \"surface\": [{\"colorbar\": {\"outlinewidth\": 0, \"ticks\": \"\"}, \"colorscale\": [[0.0, \"#0d0887\"], [0.1111111111111111, \"#46039f\"], [0.2222222222222222, \"#7201a8\"], [0.3333333333333333, \"#9c179e\"], [0.4444444444444444, \"#bd3786\"], [0.5555555555555556, \"#d8576b\"], [0.6666666666666666, \"#ed7953\"], [0.7777777777777778, \"#fb9f3a\"], [0.8888888888888888, \"#fdca26\"], [1.0, \"#f0f921\"]], \"type\": \"surface\"}], \"table\": [{\"cells\": {\"fill\": {\"color\": \"#EBF0F8\"}, \"line\": {\"color\": \"white\"}}, \"header\": {\"fill\": {\"color\": \"#C8D4E3\"}, \"line\": {\"color\": \"white\"}}, \"type\": \"table\"}]}, \"layout\": {\"annotationdefaults\": {\"arrowcolor\": \"#2a3f5f\", \"arrowhead\": 0, \"arrowwidth\": 1}, \"autotypenumbers\": \"strict\", \"coloraxis\": {\"colorbar\": {\"outlinewidth\": 0, \"ticks\": \"\"}}, \"colorscale\": {\"diverging\": [[0, \"#8e0152\"], [0.1, \"#c51b7d\"], [0.2, \"#de77ae\"], [0.3, \"#f1b6da\"], [0.4, \"#fde0ef\"], [0.5, \"#f7f7f7\"], [0.6, \"#e6f5d0\"], [0.7, \"#b8e186\"], [0.8, \"#7fbc41\"], [0.9, \"#4d9221\"], [1, \"#276419\"]], \"sequential\": [[0.0, \"#0d0887\"], [0.1111111111111111, \"#46039f\"], [0.2222222222222222, \"#7201a8\"], [0.3333333333333333, \"#9c179e\"], [0.4444444444444444, \"#bd3786\"], [0.5555555555555556, \"#d8576b\"], [0.6666666666666666, \"#ed7953\"], [0.7777777777777778, \"#fb9f3a\"], [0.8888888888888888, \"#fdca26\"], [1.0, \"#f0f921\"]], \"sequentialminus\": [[0.0, \"#0d0887\"], [0.1111111111111111, \"#46039f\"], [0.2222222222222222, \"#7201a8\"], [0.3333333333333333, \"#9c179e\"], [0.4444444444444444, \"#bd3786\"], [0.5555555555555556, \"#d8576b\"], [0.6666666666666666, \"#ed7953\"], [0.7777777777777778, \"#fb9f3a\"], [0.8888888888888888, \"#fdca26\"], [1.0, \"#f0f921\"]]}, \"colorway\": [\"#636efa\", \"#EF553B\", \"#00cc96\", \"#ab63fa\", \"#FFA15A\", \"#19d3f3\", \"#FF6692\", \"#B6E880\", \"#FF97FF\", \"#FECB52\"], \"font\": {\"color\": \"#2a3f5f\"}, \"geo\": {\"bgcolor\": \"white\", \"lakecolor\": \"white\", \"landcolor\": \"#E5ECF6\", \"showlakes\": true, \"showland\": true, \"subunitcolor\": \"white\"}, \"hoverlabel\": {\"align\": \"left\"}, \"hovermode\": \"closest\", \"mapbox\": {\"style\": \"light\"}, \"paper_bgcolor\": \"white\", \"plot_bgcolor\": \"#E5ECF6\", \"polar\": {\"angularaxis\": {\"gridcolor\": \"white\", \"linecolor\": \"white\", \"ticks\": \"\"}, \"bgcolor\": \"#E5ECF6\", \"radialaxis\": {\"gridcolor\": \"white\", \"linecolor\": \"white\", \"ticks\": \"\"}}, \"scene\": {\"xaxis\": {\"backgroundcolor\": \"#E5ECF6\", \"gridcolor\": \"white\", \"gridwidth\": 2, \"linecolor\": \"white\", \"showbackground\": true, \"ticks\": \"\", \"zerolinecolor\": \"white\"}, \"yaxis\": {\"backgroundcolor\": \"#E5ECF6\", \"gridcolor\": \"white\", \"gridwidth\": 2, \"linecolor\": \"white\", \"showbackground\": true, \"ticks\": \"\", \"zerolinecolor\": \"white\"}, \"zaxis\": {\"backgroundcolor\": \"#E5ECF6\", \"gridcolor\": \"white\", \"gridwidth\": 2, \"linecolor\": \"white\", \"showbackground\": true, \"ticks\": \"\", \"zerolinecolor\": \"white\"}}, \"shapedefaults\": {\"line\": {\"color\": \"#2a3f5f\"}}, \"ternary\": {\"aaxis\": {\"gridcolor\": \"white\", \"linecolor\": \"white\", \"ticks\": \"\"}, \"baxis\": {\"gridcolor\": \"white\", \"linecolor\": \"white\", \"ticks\": \"\"}, \"bgcolor\": \"#E5ECF6\", \"caxis\": {\"gridcolor\": \"white\", \"linecolor\": \"white\", \"ticks\": \"\"}}, \"title\": {\"x\": 0.05}, \"xaxis\": {\"automargin\": true, \"gridcolor\": \"white\", \"linecolor\": \"white\", \"ticks\": \"\", \"title\": {\"standoff\": 15}, \"zerolinecolor\": \"white\", \"zerolinewidth\": 2}, \"yaxis\": {\"automargin\": true, \"gridcolor\": \"white\", \"linecolor\": \"white\", \"ticks\": \"\", \"title\": {\"standoff\": 15}, \"zerolinecolor\": \"white\", \"zerolinewidth\": 2}}}},                        {\"responsive\": true}                    ).then(function(){\n",
       "                            \n",
       "var gd = document.getElementById('ef9190c8-3c8d-4ebe-ae7c-d98d62719a6e');\n",
       "var x = new MutationObserver(function (mutations, observer) {{\n",
       "        var display = window.getComputedStyle(gd).display;\n",
       "        if (!display || display === 'none') {{\n",
       "            console.log([gd, 'removed!']);\n",
       "            Plotly.purge(gd);\n",
       "            observer.disconnect();\n",
       "        }}\n",
       "}});\n",
       "\n",
       "// Listen for the removal of the full notebook cells\n",
       "var notebookContainer = gd.closest('#notebook-container');\n",
       "if (notebookContainer) {{\n",
       "    x.observe(notebookContainer, {childList: true});\n",
       "}}\n",
       "\n",
       "// Listen for the clearing of the current output cell\n",
       "var outputEl = gd.closest('.output');\n",
       "if (outputEl) {{\n",
       "    x.observe(outputEl, {childList: true});\n",
       "}}\n",
       "\n",
       "                        })                };                });            </script>        </div>"
      ]
     },
     "metadata": {},
     "output_type": "display_data"
    }
   ],
   "source": [
    "\n",
    " \n",
    "# create 3D scatter plot\n",
    "fig = px.scatter_3d(df, x='g1', y='g2', z='g3', color='studytime')\n",
    "fig.show()"
   ]
  },
  {
   "cell_type": "code",
   "execution_count": 61,
   "id": "3f953c18",
   "metadata": {},
   "outputs": [
    {
     "data": {
      "text/plain": [
       "0"
      ]
     },
     "execution_count": 61,
     "metadata": {},
     "output_type": "execute_result"
    }
   ],
   "source": [
    "data.studytime.isna().sum()"
   ]
  },
  {
   "cell_type": "code",
   "execution_count": 62,
   "id": "013996f0",
   "metadata": {},
   "outputs": [
    {
     "data": {
      "image/png": "[encoded data removed]",
      "text/plain": [
       "<Figure size 432x288 with 1 Axes>"
      ]
     },
     "metadata": {
      "needs_background": "light"
     },
     "output_type": "display_data"
    }
   ],
   "source": [
    "sns.kdeplot(data.g1, shade=True, label=\"Exam 1\")\n",
    "sns.kdeplot(data.g2, shade=True, label=\"Exam 2\")\n",
    "sns.kdeplot(data.g3, shade=True, label=\"Exam 3\")\n",
    "\n",
    "plt.legend()\n",
    "plt.show()"
   ]
  },
  {
   "cell_type": "code",
   "execution_count": 63,
   "id": "a9ee1d75",
   "metadata": {},
   "outputs": [],
   "source": [
    "#sns.pairplot(data, hue=\"studytime\", diag_kind=\"hist\")"
   ]
  },
  {
   "cell_type": "code",
   "execution_count": 64,
   "id": "appreciated-physics",
   "metadata": {},
   "outputs": [
    {
     "name": "stdout",
     "output_type": "stream",
     "text": [
      "Nothing Missing\n"
     ]
    }
   ],
   "source": [
    "## 2.2 Data Wrangling\n",
    "### 2.2.1 Missing Data? \n",
    "def missing_data():\n",
    "    for i in data.columns:\n",
    "        if data[i].isnull().sum() > 0:\n",
    "            print(i)\n",
    "            print(data[i].isnull().sum())\n",
    "        else:\n",
    "            return 'Nothing Missing'\n",
    "print(missing_data())"
   ]
  },
  {
   "cell_type": "code",
   "execution_count": 65,
   "id": "round-apollo",
   "metadata": {},
   "outputs": [
    {
     "data": {
      "image/png": "[encoded data removed]",
      "text/plain": [
       "<Figure size 432x288 with 1 Axes>"
      ]
     },
     "metadata": {
      "needs_background": "light"
     },
     "output_type": "display_data"
    },
    {
     "data": {
      "image/png": "[encoded data removed]",
      "text/plain": [
       "<Figure size 432x288 with 1 Axes>"
      ]
     },
     "metadata": {
      "needs_background": "light"
     },
     "output_type": "display_data"
    },
    {
     "data": {
      "image/png": "[encoded data removed]",
      "text/plain": [
       "<Figure size 432x288 with 1 Axes>"
      ]
     },
     "metadata": {
      "needs_background": "light"
     },
     "output_type": "display_data"
    },
    {
     "data": {
      "image/png": "[encoded data removed]",
      "text/plain": [
       "<Figure size 432x288 with 1 Axes>"
      ]
     },
     "metadata": {
      "needs_background": "light"
     },
     "output_type": "display_data"
    },
    {
     "data": {
      "image/png": "[encoded data removed]",
      "text/plain": [
       "<Figure size 432x288 with 1 Axes>"
      ]
     },
     "metadata": {
      "needs_background": "light"
     },
     "output_type": "display_data"
    },
    {
     "data": {
      "image/png": "[encoded data removed]",
      "text/plain": [
       "<Figure size 432x288 with 1 Axes>"
      ]
     },
     "metadata": {
      "needs_background": "light"
     },
     "output_type": "display_data"
    },
    {
     "data": {
      "image/png": "[encoded data removed]",
      "text/plain": [
       "<Figure size 432x288 with 1 Axes>"
      ]
     },
     "metadata": {
      "needs_background": "light"
     },
     "output_type": "display_data"
    },
    {
     "data": {
      "image/png": "[encoded data removed]",
      "text/plain": [
       "<Figure size 432x288 with 1 Axes>"
      ]
     },
     "metadata": {
      "needs_background": "light"
     },
     "output_type": "display_data"
    },
    {
     "data": {
      "image/png": "[encoded data removed]",
      "text/plain": [
       "<Figure size 432x288 with 1 Axes>"
      ]
     },
     "metadata": {
      "needs_background": "light"
     },
     "output_type": "display_data"
    },
    {
     "data": {
      "image/png": "[encoded data removed]",
      "text/plain": [
       "<Figure size 432x288 with 1 Axes>"
      ]
     },
     "metadata": {
      "needs_background": "light"
     },
     "output_type": "display_data"
    },
    {
     "data": {
      "image/png": "[encoded data removed]",
      "text/plain": [
       "<Figure size 432x288 with 1 Axes>"
      ]
     },
     "metadata": {
      "needs_background": "light"
     },
     "output_type": "display_data"
    },
    {
     "data": {
      "image/png": "[encoded data removed]",
      "text/plain": [
       "<Figure size 432x288 with 1 Axes>"
      ]
     },
     "metadata": {
      "needs_background": "light"
     },
     "output_type": "display_data"
    },
    {
     "data": {
      "image/png": "[encoded data removed]",
      "text/plain": [
       "<Figure size 432x288 with 1 Axes>"
      ]
     },
     "metadata": {
      "needs_background": "light"
     },
     "output_type": "display_data"
    },
    {
     "data": {
      "image/png": "[encoded data removed]",
      "text/plain": [
       "<Figure size 432x288 with 1 Axes>"
      ]
     },
     "metadata": {
      "needs_background": "light"
     },
     "output_type": "display_data"
    },
    {
     "data": {
      "image/png": "[encoded data removed]",
      "text/plain": [
       "<Figure size 432x288 with 1 Axes>"
      ]
     },
     "metadata": {
      "needs_background": "light"
     },
     "output_type": "display_data"
    },
    {
     "data": {
      "image/png": "[encoded data removed]",
      "text/plain": [
       "<Figure size 432x288 with 1 Axes>"
      ]
     },
     "metadata": {
      "needs_background": "light"
     },
     "output_type": "display_data"
    },
    {
     "data": {
      "image/png": "[encoded data removed]",
      "text/plain": [
       "<Figure size 432x288 with 1 Axes>"
      ]
     },
     "metadata": {
      "needs_background": "light"
     },
     "output_type": "display_data"
    },
    {
     "data": {
      "image/png": "[encoded data removed]",
      "text/plain": [
       "<Figure size 432x288 with 1 Axes>"
      ]
     },
     "metadata": {
      "needs_background": "light"
     },
     "output_type": "display_data"
    },
    {
     "data": {
      "image/png": "[encoded data removed]",
      "text/plain": [
       "<Figure size 432x288 with 1 Axes>"
      ]
     },
     "metadata": {
      "needs_background": "light"
     },
     "output_type": "display_data"
    },
    {
     "data": {
      "image/png": "[encoded data removed]",
      "text/plain": [
       "<Figure size 432x288 with 1 Axes>"
      ]
     },
     "metadata": {
      "needs_background": "light"
     },
     "output_type": "display_data"
    },
    {
     "data": {
      "image/png": "[encoded data removed]",
      "text/plain": [
       "<Figure size 432x288 with 1 Axes>"
      ]
     },
     "metadata": {
      "needs_background": "light"
     },
     "output_type": "display_data"
    },
    {
     "data": {
      "image/png": "[encoded data removed]",
      "text/plain": [
       "<Figure size 432x288 with 1 Axes>"
      ]
     },
     "metadata": {
      "needs_background": "light"
     },
     "output_type": "display_data"
    },
    {
     "data": {
      "image/png": "[encoded data removed]",
      "text/plain": [
       "<Figure size 432x288 with 1 Axes>"
      ]
     },
     "metadata": {
      "needs_background": "light"
     },
     "output_type": "display_data"
    },
    {
     "data": {
      "image/png": "[encoded data removed]",
      "text/plain": [
       "<Figure size 432x288 with 1 Axes>"
      ]
     },
     "metadata": {
      "needs_background": "light"
     },
     "output_type": "display_data"
    },
    {
     "data": {
      "image/png": "[encoded data removed]",
      "text/plain": [
       "<Figure size 432x288 with 1 Axes>"
      ]
     },
     "metadata": {
      "needs_background": "light"
     },
     "output_type": "display_data"
    },
    {
     "data": {
      "image/png": "[encoded data removed]",
      "text/plain": [
       "<Figure size 432x288 with 1 Axes>"
      ]
     },
     "metadata": {
      "needs_background": "light"
     },
     "output_type": "display_data"
    },
    {
     "data": {
      "image/png": "[encoded data removed]",
      "text/plain": [
       "<Figure size 432x288 with 1 Axes>"
      ]
     },
     "metadata": {
      "needs_background": "light"
     },
     "output_type": "display_data"
    },
    {
     "data": {
      "image/png": "[encoded data removed]",
      "text/plain": [
       "<Figure size 432x288 with 1 Axes>"
      ]
     },
     "metadata": {
      "needs_background": "light"
     },
     "output_type": "display_data"
    },
    {
     "data": {
      "image/png": "[encoded data removed]",
      "text/plain": [
       "<Figure size 432x288 with 1 Axes>"
      ]
     },
     "metadata": {
      "needs_background": "light"
     },
     "output_type": "display_data"
    },
    {
     "data": {
      "image/png": "[encoded data removed]",
      "text/plain": [
       "<Figure size 432x288 with 1 Axes>"
      ]
     },
     "metadata": {
      "needs_background": "light"
     },
     "output_type": "display_data"
    },
    {
     "data": {
      "image/png": "[encoded data removed]",
      "text/plain": [
       "<Figure size 432x288 with 1 Axes>"
      ]
     },
     "metadata": {
      "needs_background": "light"
     },
     "output_type": "display_data"
    },
    {
     "data": {
      "image/png": "[encoded data removed]",
      "text/plain": [
       "<Figure size 432x288 with 1 Axes>"
      ]
     },
     "metadata": {
      "needs_background": "light"
     },
     "output_type": "display_data"
    },
    {
     "data": {
      "image/png": "[encoded data removed]",
      "text/plain": [
       "<Figure size 432x288 with 1 Axes>"
      ]
     },
     "metadata": {
      "needs_background": "light"
     },
     "output_type": "display_data"
    }
   ],
   "source": [
    "for i in data.columns:\n",
    "    ax = sns.histplot(data, x =i)\n",
    "    plt.show()"
   ]
  },
  {
   "cell_type": "code",
   "execution_count": 66,
   "id": "wicked-fellowship",
   "metadata": {},
   "outputs": [
    {
     "name": "stdout",
     "output_type": "stream",
     "text": [
      "              age        medu        fedu  traveltime   studytime    failures  \\\n",
      "count  395.000000  395.000000  395.000000  395.000000  395.000000  395.000000   \n",
      "mean    16.696203    2.749367    2.521519    1.448101    2.035443    0.334177   \n",
      "std      1.276043    1.094735    1.088201    0.697505    0.839240    0.743651   \n",
      "min     15.000000    0.000000    0.000000    1.000000    1.000000    0.000000   \n",
      "25%     16.000000    2.000000    2.000000    1.000000    1.000000    0.000000   \n",
      "50%     17.000000    3.000000    2.000000    1.000000    2.000000    0.000000   \n",
      "75%     18.000000    4.000000    3.000000    2.000000    2.000000    0.000000   \n",
      "max     22.000000    4.000000    4.000000    4.000000    4.000000    3.000000   \n",
      "\n",
      "           famrel    freetime       goout        dalc        walc      health  \\\n",
      "count  395.000000  395.000000  395.000000  395.000000  395.000000  395.000000   \n",
      "mean     3.944304    3.235443    3.108861    1.481013    2.291139    3.554430   \n",
      "std      0.896659    0.998862    1.113278    0.890741    1.287897    1.390303   \n",
      "min      1.000000    1.000000    1.000000    1.000000    1.000000    1.000000   \n",
      "25%      4.000000    3.000000    2.000000    1.000000    1.000000    3.000000   \n",
      "50%      4.000000    3.000000    3.000000    1.000000    2.000000    4.000000   \n",
      "75%      5.000000    4.000000    4.000000    2.000000    3.000000    5.000000   \n",
      "max      5.000000    5.000000    5.000000    5.000000    5.000000    5.000000   \n",
      "\n",
      "         absences          g1          g2          g3  \n",
      "count  395.000000  395.000000  395.000000  395.000000  \n",
      "mean     5.708861   10.908861   10.713924   10.415190  \n",
      "std      8.003096    3.319195    3.761505    4.581443  \n",
      "min      0.000000    3.000000    0.000000    0.000000  \n",
      "25%      0.000000    8.000000    9.000000    8.000000  \n",
      "50%      4.000000   11.000000   11.000000   11.000000  \n",
      "75%      8.000000   13.000000   13.000000   14.000000  \n",
      "max     75.000000   19.000000   19.000000   20.000000  \n"
     ]
    }
   ],
   "source": [
    "#Initial Summary Statistics\n",
    "print(data.describe())"
   ]
  },
  {
   "cell_type": "code",
   "execution_count": 67,
   "id": "harmful-franklin",
   "metadata": {},
   "outputs": [],
   "source": [
    "#EDA: Feature Importance/Selection\n",
    "# Convariance: Strength of Linear relationships"
   ]
  },
  {
   "cell_type": "code",
   "execution_count": 68,
   "id": "announced-ethernet",
   "metadata": {},
   "outputs": [
    {
     "name": "stdout",
     "output_type": "stream",
     "text": [
      "['age', 'medu', 'fedu', 'traveltime', 'studytime', 'failures', 'famrel', 'freetime', 'goout', 'dalc', 'walc', 'health', 'absences', 'g1', 'g2', 'g3']\n"
     ]
    }
   ],
   "source": [
    "target = 'g3'\n",
    "quants = [x for x in data.select_dtypes(np.number).columns]\n",
    "print(quants)"
   ]
  },
  {
   "cell_type": "code",
   "execution_count": 69,
   "id": "meaning-python",
   "metadata": {},
   "outputs": [],
   "source": [
    "#TODO turn this into a helper function. Compares covariances and returns strongest independent variables.\n",
    "def find_associations(data):\n",
    "    associated = []\n",
    "    for i in data.select_dtypes(np.number).columns:\n",
    "        if i == target:\n",
    "            continue\n",
    "        pearson_cor, pval = pearsonr(data[i],data[target])\n",
    "\n",
    "        if pearson_cor > .3:\n",
    "            associated.append([i,pearson_cor])\n",
    "    return associated\n",
    "    "
   ]
  },
  {
   "cell_type": "code",
   "execution_count": null,
   "id": "c3b9f499",
   "metadata": {},
   "outputs": [],
   "source": []
  },
  {
   "cell_type": "code",
   "execution_count": null,
   "id": "f75f7fd2",
   "metadata": {},
   "outputs": [],
   "source": []
  },
  {
   "cell_type": "code",
   "execution_count": 70,
   "id": "legal-resident",
   "metadata": {},
   "outputs": [
    {
     "name": "stderr",
     "output_type": "stream",
     "text": [
      "<ipython-input-70-cac36c07c193>:3: SettingWithCopyWarning:\n",
      "\n",
      "\n",
      "A value is trying to be set on a copy of a slice from a DataFrame.\n",
      "Try using .loc[row_indexer,col_indexer] = value instead\n",
      "\n",
      "See the caveats in the documentation: https://pandas.pydata.org/pandas-docs/stable/user_guide/indexing.html#returning-a-view-versus-a-copy\n",
      "\n"
     ]
    },
    {
     "data": {
      "text/html": [
       "<div>\n",
       "<style scoped>\n",
       "    .dataframe tbody tr th:only-of-type {\n",
       "        vertical-align: middle;\n",
       "    }\n",
       "\n",
       "    .dataframe tbody tr th {\n",
       "        vertical-align: top;\n",
       "    }\n",
       "\n",
       "    .dataframe thead th {\n",
       "        text-align: right;\n",
       "    }\n",
       "</style>\n",
       "<table border=\"1\" class=\"dataframe\">\n",
       "  <thead>\n",
       "    <tr style=\"text-align: right;\">\n",
       "      <th></th>\n",
       "      <th>g1</th>\n",
       "      <th>g2</th>\n",
       "      <th>g3</th>\n",
       "    </tr>\n",
       "  </thead>\n",
       "  <tbody>\n",
       "    <tr>\n",
       "      <th>0</th>\n",
       "      <td>5</td>\n",
       "      <td>6</td>\n",
       "      <td>6</td>\n",
       "    </tr>\n",
       "    <tr>\n",
       "      <th>1</th>\n",
       "      <td>5</td>\n",
       "      <td>5</td>\n",
       "      <td>6</td>\n",
       "    </tr>\n",
       "    <tr>\n",
       "      <th>2</th>\n",
       "      <td>7</td>\n",
       "      <td>8</td>\n",
       "      <td>10</td>\n",
       "    </tr>\n",
       "    <tr>\n",
       "      <th>3</th>\n",
       "      <td>15</td>\n",
       "      <td>14</td>\n",
       "      <td>15</td>\n",
       "    </tr>\n",
       "    <tr>\n",
       "      <th>4</th>\n",
       "      <td>6</td>\n",
       "      <td>10</td>\n",
       "      <td>10</td>\n",
       "    </tr>\n",
       "    <tr>\n",
       "      <th>...</th>\n",
       "      <td>...</td>\n",
       "      <td>...</td>\n",
       "      <td>...</td>\n",
       "    </tr>\n",
       "    <tr>\n",
       "      <th>390</th>\n",
       "      <td>9</td>\n",
       "      <td>9</td>\n",
       "      <td>9</td>\n",
       "    </tr>\n",
       "    <tr>\n",
       "      <th>391</th>\n",
       "      <td>14</td>\n",
       "      <td>16</td>\n",
       "      <td>16</td>\n",
       "    </tr>\n",
       "    <tr>\n",
       "      <th>392</th>\n",
       "      <td>10</td>\n",
       "      <td>8</td>\n",
       "      <td>7</td>\n",
       "    </tr>\n",
       "    <tr>\n",
       "      <th>393</th>\n",
       "      <td>11</td>\n",
       "      <td>12</td>\n",
       "      <td>10</td>\n",
       "    </tr>\n",
       "    <tr>\n",
       "      <th>394</th>\n",
       "      <td>8</td>\n",
       "      <td>9</td>\n",
       "      <td>9</td>\n",
       "    </tr>\n",
       "  </tbody>\n",
       "</table>\n",
       "<p>395 rows × 3 columns</p>\n",
       "</div>"
      ],
      "text/plain": [
       "     g1  g2  g3\n",
       "0     5   6   6\n",
       "1     5   5   6\n",
       "2     7   8  10\n",
       "3    15  14  15\n",
       "4     6  10  10\n",
       "..   ..  ..  ..\n",
       "390   9   9   9\n",
       "391  14  16  16\n",
       "392  10   8   7\n",
       "393  11  12  10\n",
       "394   8   9   9\n",
       "\n",
       "[395 rows x 3 columns]"
      ]
     },
     "execution_count": 70,
     "metadata": {},
     "output_type": "execute_result"
    }
   ],
   "source": [
    "\n",
    "y_data = data[target]\n",
    "data = data[[i[0] for i in find_associations(data)]]\n",
    "data[target] = y_data\n",
    "\n",
    "data"
   ]
  },
  {
   "cell_type": "code",
   "execution_count": 71,
   "id": "21feefab",
   "metadata": {},
   "outputs": [
    {
     "data": {
      "text/html": [
       "<div>\n",
       "<style scoped>\n",
       "    .dataframe tbody tr th:only-of-type {\n",
       "        vertical-align: middle;\n",
       "    }\n",
       "\n",
       "    .dataframe tbody tr th {\n",
       "        vertical-align: top;\n",
       "    }\n",
       "\n",
       "    .dataframe thead th {\n",
       "        text-align: right;\n",
       "    }\n",
       "</style>\n",
       "<table border=\"1\" class=\"dataframe\">\n",
       "  <thead>\n",
       "    <tr style=\"text-align: right;\">\n",
       "      <th></th>\n",
       "      <th>g1</th>\n",
       "      <th>g2</th>\n",
       "      <th>g3</th>\n",
       "    </tr>\n",
       "  </thead>\n",
       "  <tbody>\n",
       "    <tr>\n",
       "      <th>0</th>\n",
       "      <td>5</td>\n",
       "      <td>6</td>\n",
       "      <td>6</td>\n",
       "    </tr>\n",
       "    <tr>\n",
       "      <th>1</th>\n",
       "      <td>5</td>\n",
       "      <td>5</td>\n",
       "      <td>6</td>\n",
       "    </tr>\n",
       "    <tr>\n",
       "      <th>2</th>\n",
       "      <td>7</td>\n",
       "      <td>8</td>\n",
       "      <td>10</td>\n",
       "    </tr>\n",
       "    <tr>\n",
       "      <th>3</th>\n",
       "      <td>15</td>\n",
       "      <td>14</td>\n",
       "      <td>15</td>\n",
       "    </tr>\n",
       "    <tr>\n",
       "      <th>4</th>\n",
       "      <td>6</td>\n",
       "      <td>10</td>\n",
       "      <td>10</td>\n",
       "    </tr>\n",
       "    <tr>\n",
       "      <th>...</th>\n",
       "      <td>...</td>\n",
       "      <td>...</td>\n",
       "      <td>...</td>\n",
       "    </tr>\n",
       "    <tr>\n",
       "      <th>390</th>\n",
       "      <td>9</td>\n",
       "      <td>9</td>\n",
       "      <td>9</td>\n",
       "    </tr>\n",
       "    <tr>\n",
       "      <th>391</th>\n",
       "      <td>14</td>\n",
       "      <td>16</td>\n",
       "      <td>16</td>\n",
       "    </tr>\n",
       "    <tr>\n",
       "      <th>392</th>\n",
       "      <td>10</td>\n",
       "      <td>8</td>\n",
       "      <td>7</td>\n",
       "    </tr>\n",
       "    <tr>\n",
       "      <th>393</th>\n",
       "      <td>11</td>\n",
       "      <td>12</td>\n",
       "      <td>10</td>\n",
       "    </tr>\n",
       "    <tr>\n",
       "      <th>394</th>\n",
       "      <td>8</td>\n",
       "      <td>9</td>\n",
       "      <td>9</td>\n",
       "    </tr>\n",
       "  </tbody>\n",
       "</table>\n",
       "<p>395 rows × 3 columns</p>\n",
       "</div>"
      ],
      "text/plain": [
       "     g1  g2  g3\n",
       "0     5   6   6\n",
       "1     5   5   6\n",
       "2     7   8  10\n",
       "3    15  14  15\n",
       "4     6  10  10\n",
       "..   ..  ..  ..\n",
       "390   9   9   9\n",
       "391  14  16  16\n",
       "392  10   8   7\n",
       "393  11  12  10\n",
       "394   8   9   9\n",
       "\n",
       "[395 rows x 3 columns]"
      ]
     },
     "execution_count": 71,
     "metadata": {},
     "output_type": "execute_result"
    }
   ],
   "source": [
    "data"
   ]
  },
  {
   "cell_type": "code",
   "execution_count": 72,
   "id": "sixth-mirror",
   "metadata": {},
   "outputs": [
    {
     "data": {
      "image/png": "[encoded data removed]",
      "text/plain": [
       "<Figure size 432x288 with 1 Axes>"
      ]
     },
     "metadata": {
      "needs_background": "light"
     },
     "output_type": "display_data"
    },
    {
     "name": "stdout",
     "output_type": "stream",
     "text": [
      "The Pearson Correlation (-1 to +1) is 0.8014679320174141\n"
     ]
    },
    {
     "data": {
      "image/png": "[encoded data removed]",
      "text/plain": [
       "<Figure size 432x288 with 1 Axes>"
      ]
     },
     "metadata": {
      "needs_background": "light"
     },
     "output_type": "display_data"
    },
    {
     "name": "stdout",
     "output_type": "stream",
     "text": [
      "The Pearson Correlation (-1 to +1) is 0.9048679892693011\n"
     ]
    }
   ],
   "source": [
    "for col in data.columns:\n",
    "    if col == target:\n",
    "        continue\n",
    "    plt.scatter(data[col],data[target])\n",
    "    plt.xlabel(str(col))\n",
    "    plt.ylabel('Grade 3')\n",
    "    plt.title(f'Correlation Between {col} and {target}')\n",
    "    plt.show()\n",
    "    pearson_cor, pval = pearsonr(data[col],data[target])\n",
    "    print(f'The Pearson Correlation (-1 to +1) is {pearson_cor}')"
   ]
  },
  {
   "cell_type": "code",
   "execution_count": 73,
   "id": "rough-eagle",
   "metadata": {},
   "outputs": [
    {
     "data": {
      "image/png": "[encoded data removed]",
      "text/plain": [
       "<Figure size 540x540 with 12 Axes>"
      ]
     },
     "metadata": {
      "needs_background": "light"
     },
     "output_type": "display_data"
    }
   ],
   "source": [
    "sns.pairplot(data)\n",
    "plt.show()"
   ]
  },
  {
   "cell_type": "code",
   "execution_count": 74,
   "id": "integral-bankruptcy",
   "metadata": {},
   "outputs": [
    {
     "data": {
      "image/png": "[encoded data removed]",
      "text/plain": [
       "<Figure size 432x288 with 2 Axes>"
      ]
     },
     "metadata": {
      "needs_background": "light"
     },
     "output_type": "display_data"
    }
   ],
   "source": [
    "#data = data[['G1','G2','G3','studytime','failures','absences']]\n",
    "mask = np.zeros_like(data.corr())\n",
    "\n",
    "mask[np.triu_indices_from(mask)] = True\n",
    "\n",
    "\n",
    "sns.axes_style(\"white\")\n",
    "dataplot = sns.heatmap(data.corr(method='pearson'), cmap=\"YlGnBu\", mask=mask,annot=True)\n",
    "plt.show()"
   ]
  },
  {
   "cell_type": "code",
   "execution_count": null,
   "id": "equipped-vertical",
   "metadata": {},
   "outputs": [],
   "source": []
  },
  {
   "cell_type": "code",
   "execution_count": null,
   "id": "synthetic-throw",
   "metadata": {},
   "outputs": [],
   "source": []
  },
  {
   "cell_type": "code",
   "execution_count": 75,
   "id": "dangerous-princess",
   "metadata": {},
   "outputs": [],
   "source": [
    "#Process Data"
   ]
  },
  {
   "cell_type": "code",
   "execution_count": 76,
   "id": "particular-airline",
   "metadata": {},
   "outputs": [],
   "source": [
    "#Split Data\n",
    "x = np.array(data.drop([target],axis=1))\n",
    "y = np.array(data[target])\n",
    "x_train, x_test, y_train, y_test = train_test_split(x,y,test_size=0.1)"
   ]
  },
  {
   "cell_type": "code",
   "execution_count": 77,
   "id": "sophisticated-injection",
   "metadata": {},
   "outputs": [
    {
     "data": {
      "text/plain": [
       "LinearRegression()"
      ]
     },
     "execution_count": 77,
     "metadata": {},
     "output_type": "execute_result"
    }
   ],
   "source": [
    "#Fit/Train Model\n",
    "linreg = LinearRegression()\n",
    "linreg.fit(x_train,y_train)"
   ]
  },
  {
   "cell_type": "code",
   "execution_count": 78,
   "id": "alternative-audit",
   "metadata": {},
   "outputs": [
    {
     "name": "stdout",
     "output_type": "stream",
     "text": [
      "0.664677115675403\n",
      "[0.14748552 0.98191713]\n",
      "Predicted: 4.0\t Actual: 0 \t Data [6 5]\n",
      "Predicted: 8.0\t Actual: 8 \t Data [9 8]\n",
      "Predicted: 10.0\t Actual: 11 \t Data [10 10]\n",
      "Predicted: 11.0\t Actual: 11 \t Data [11 11]\n",
      "Predicted: 12.0\t Actual: 12 \t Data [15 12]\n",
      "Predicted: 13.0\t Actual: 14 \t Data [10 13]\n",
      "Predicted: 9.0\t Actual: 0 \t Data [9 9]\n",
      "Predicted: 10.0\t Actual: 11 \t Data [10 10]\n",
      "Predicted: 6.0\t Actual: 8 \t Data [6 7]\n",
      "Predicted: 11.0\t Actual: 10 \t Data [10 11]\n",
      "Predicted: 16.0\t Actual: 15 \t Data [15 16]\n",
      "Predicted: 9.0\t Actual: 9 \t Data [11  9]\n",
      "Predicted: 9.0\t Actual: 9 \t Data [9 9]\n",
      "Predicted: 13.0\t Actual: 14 \t Data [14 13]\n",
      "Predicted: 10.0\t Actual: 10 \t Data [10 10]\n",
      "Predicted: 9.0\t Actual: 9 \t Data [9 9]\n",
      "Predicted: 15.0\t Actual: 14 \t Data [15 15]\n",
      "Predicted: -1.0\t Actual: 0 \t Data [6 0]\n",
      "Predicted: 12.0\t Actual: 11 \t Data [11 12]\n",
      "Predicted: 14.0\t Actual: 14 \t Data [12 14]\n",
      "Predicted: 10.0\t Actual: 10 \t Data [11 10]\n",
      "Predicted: 10.0\t Actual: 10 \t Data [10 10]\n",
      "Predicted: 11.0\t Actual: 12 \t Data [12 11]\n",
      "Predicted: 15.0\t Actual: 15 \t Data [16 15]\n",
      "Predicted: 19.0\t Actual: 18 \t Data [18 18]\n",
      "Predicted: 10.0\t Actual: 10 \t Data [10 10]\n",
      "Predicted: 14.0\t Actual: 14 \t Data [15 14]\n",
      "Predicted: 10.0\t Actual: 10 \t Data [11 10]\n",
      "Predicted: 11.0\t Actual: 12 \t Data [12 11]\n",
      "Predicted: 10.0\t Actual: 0 \t Data [10 10]\n",
      "Predicted: 12.0\t Actual: 14 \t Data [15 12]\n",
      "Predicted: 8.0\t Actual: 8 \t Data [9 8]\n",
      "Predicted: 5.0\t Actual: 0 \t Data [7 6]\n",
      "Predicted: 9.0\t Actual: 0 \t Data [10  9]\n",
      "Predicted: 12.0\t Actual: 11 \t Data [12 12]\n",
      "Predicted: 10.0\t Actual: 9 \t Data [10 10]\n",
      "Predicted: 9.0\t Actual: 10 \t Data [ 7 10]\n",
      "Predicted: 12.0\t Actual: 11 \t Data [10 12]\n",
      "Predicted: 8.0\t Actual: 8 \t Data [8 9]\n",
      "Predicted: 18.0\t Actual: 19 \t Data [16 18]\n"
     ]
    }
   ],
   "source": [
    "#Evaluate Model\n",
    "print(linreg.score(x_test,y_test))\n",
    "print(linreg.coef_)\n",
    "y_pred = linreg.predict(x_test)\n",
    "#print(f'The Intercept (grade) is {linreg.intercept_}')\n",
    "for i in range(len(y_pred)):\n",
    "    print(f'Predicted: {round(y_pred[i])}\\t Actual: {y_test[i]} \\t Data {x_test[i]}')"
   ]
  },
  {
   "cell_type": "code",
   "execution_count": 79,
   "id": "dense-individual",
   "metadata": {},
   "outputs": [],
   "source": [
    "#Tune Model"
   ]
  },
  {
   "cell_type": "code",
   "execution_count": 80,
   "id": "buried-reference",
   "metadata": {},
   "outputs": [],
   "source": [
    "accuracy = linreg.score(x_test,y_test)"
   ]
  },
  {
   "cell_type": "code",
   "execution_count": 81,
   "id": "accessible-exclusive",
   "metadata": {},
   "outputs": [],
   "source": [
    "coefficients = linreg.coef_"
   ]
  },
  {
   "cell_type": "code",
   "execution_count": 82,
   "id": "undefined-register",
   "metadata": {},
   "outputs": [],
   "source": [
    "y_int = linreg.intercept_"
   ]
  },
  {
   "cell_type": "code",
   "execution_count": 83,
   "id": "posted-grace",
   "metadata": {},
   "outputs": [
    {
     "name": "stdout",
     "output_type": "stream",
     "text": [
      "0.664677115675403\n",
      "[0.14748552 0.98191713]\n",
      "-1.6430330166120886\n"
     ]
    }
   ],
   "source": [
    "print(accuracy)\n",
    "print(coefficients)\n",
    "print(y_int)"
   ]
  },
  {
   "cell_type": "code",
   "execution_count": 84,
   "id": "choice-franchise",
   "metadata": {},
   "outputs": [
    {
     "name": "stdout",
     "output_type": "stream",
     "text": [
      "g1 0.14748552160785333\n",
      "g2 0.9819171349189494\n"
     ]
    }
   ],
   "source": [
    "for coef, var in zip(coefficients,data.drop(target,axis=1).columns):\n",
    "    print(var,coef)"
   ]
  },
  {
   "cell_type": "code",
   "execution_count": null,
   "id": "sized-danger",
   "metadata": {},
   "outputs": [],
   "source": []
  },
  {
   "cell_type": "code",
   "execution_count": 85,
   "id": "sticky-champion",
   "metadata": {},
   "outputs": [],
   "source": [
    "#TODO add violins for distributions etc\n",
    "#TODO process data i.e. norm, standardization\n",
    "#TODO add more variables\n",
    "#TODO doc and Git\n",
    "#TODO add better/more regression plotting https://seaborn.pydata.org/tutorial/regression.html"
   ]
  },
  {
   "cell_type": "code",
   "execution_count": null,
   "id": "amended-canyon",
   "metadata": {},
   "outputs": [],
   "source": []
  },
  {
   "cell_type": "code",
   "execution_count": null,
   "id": "9315dd6e",
   "metadata": {},
   "outputs": [],
   "source": []
  }
 ],
 "metadata": {
  "interpreter": {
   "hash": "ac83f05b37eb5c5c49ba67e50f0047ddfbc4b30205fc79ee5f327b9c0ac37f55"
  },
  "kernelspec": {
   "display_name": "Python [conda env:LinReg_StudentSuccess]",
   "language": "python",
   "name": "python3"
  },
  "language_info": {
   "codemirror_mode": {
    "name": "ipython",
    "version": 3
   },
   "file_extension": ".py",
   "mimetype": "text/x-python",
   "name": "python",
   "nbconvert_exporter": "python",
   "pygments_lexer": "ipython3",
   "version": "3.8.5"
  }
 },
 "nbformat": 4,
 "nbformat_minor": 5
}
